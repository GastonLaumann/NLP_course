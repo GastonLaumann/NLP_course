{
 "cells": [
  {
   "cell_type": "code",
   "execution_count": 1,
   "metadata": {},
   "outputs": [],
   "source": [
    "## import all the necessary libraries\n",
    "import warnings\n",
    "\n",
    "#Ignoring unnecessory warnings\n",
    "warnings.filterwarnings(\"ignore\")                   \n",
    "\n",
    "import numpy as np                                  #for large and multi-dimensional arrays\n",
    "import pandas as pd                                 #for data manipulation and analysis\n",
    "import nltk    "
   ]
  },
  {
   "cell_type": "code",
   "execution_count": 2,
   "metadata": {},
   "outputs": [
    {
     "output_type": "stream",
     "name": "stdout",
     "text": [
      "(568454, 10)\n"
     ]
    },
    {
     "output_type": "execute_result",
     "data": {
      "text/plain": [
       "   Id   ProductId          UserId                      ProfileName  \\\n",
       "0   1  B001E4KFG0  A3SGXH7AUHU8GW                       delmartian   \n",
       "1   2  B00813GRG4  A1D87F6ZCVE5NK                           dll pa   \n",
       "2   3  B000LQOCH0   ABXLMWJIXXAIN  Natalia Corres \"Natalia Corres\"   \n",
       "3   4  B000UA0QIQ  A395BORC6FGVXV                             Karl   \n",
       "4   5  B006K2ZZ7K  A1UQRSCLF8GW1T    Michael D. Bigham \"M. Wassir\"   \n",
       "\n",
       "   HelpfulnessNumerator  HelpfulnessDenominator  Score        Time  \\\n",
       "0                     1                       1      5  1303862400   \n",
       "1                     0                       0      1  1346976000   \n",
       "2                     1                       1      4  1219017600   \n",
       "3                     3                       3      2  1307923200   \n",
       "4                     0                       0      5  1350777600   \n",
       "\n",
       "                 Summary                                               Text  \n",
       "0  Good Quality Dog Food  I have bought several of the Vitality canned d...  \n",
       "1      Not as Advertised  Product arrived labeled as Jumbo Salted Peanut...  \n",
       "2  \"Delight\" says it all  This is a confection that has been around a fe...  \n",
       "3         Cough Medicine  If you are looking for the secret ingredient i...  \n",
       "4            Great taffy  Great taffy at a great price.  There was a wid...  "
      ],
      "text/html": "<div>\n<style scoped>\n    .dataframe tbody tr th:only-of-type {\n        vertical-align: middle;\n    }\n\n    .dataframe tbody tr th {\n        vertical-align: top;\n    }\n\n    .dataframe thead th {\n        text-align: right;\n    }\n</style>\n<table border=\"1\" class=\"dataframe\">\n  <thead>\n    <tr style=\"text-align: right;\">\n      <th></th>\n      <th>Id</th>\n      <th>ProductId</th>\n      <th>UserId</th>\n      <th>ProfileName</th>\n      <th>HelpfulnessNumerator</th>\n      <th>HelpfulnessDenominator</th>\n      <th>Score</th>\n      <th>Time</th>\n      <th>Summary</th>\n      <th>Text</th>\n    </tr>\n  </thead>\n  <tbody>\n    <tr>\n      <th>0</th>\n      <td>1</td>\n      <td>B001E4KFG0</td>\n      <td>A3SGXH7AUHU8GW</td>\n      <td>delmartian</td>\n      <td>1</td>\n      <td>1</td>\n      <td>5</td>\n      <td>1303862400</td>\n      <td>Good Quality Dog Food</td>\n      <td>I have bought several of the Vitality canned d...</td>\n    </tr>\n    <tr>\n      <th>1</th>\n      <td>2</td>\n      <td>B00813GRG4</td>\n      <td>A1D87F6ZCVE5NK</td>\n      <td>dll pa</td>\n      <td>0</td>\n      <td>0</td>\n      <td>1</td>\n      <td>1346976000</td>\n      <td>Not as Advertised</td>\n      <td>Product arrived labeled as Jumbo Salted Peanut...</td>\n    </tr>\n    <tr>\n      <th>2</th>\n      <td>3</td>\n      <td>B000LQOCH0</td>\n      <td>ABXLMWJIXXAIN</td>\n      <td>Natalia Corres \"Natalia Corres\"</td>\n      <td>1</td>\n      <td>1</td>\n      <td>4</td>\n      <td>1219017600</td>\n      <td>\"Delight\" says it all</td>\n      <td>This is a confection that has been around a fe...</td>\n    </tr>\n    <tr>\n      <th>3</th>\n      <td>4</td>\n      <td>B000UA0QIQ</td>\n      <td>A395BORC6FGVXV</td>\n      <td>Karl</td>\n      <td>3</td>\n      <td>3</td>\n      <td>2</td>\n      <td>1307923200</td>\n      <td>Cough Medicine</td>\n      <td>If you are looking for the secret ingredient i...</td>\n    </tr>\n    <tr>\n      <th>4</th>\n      <td>5</td>\n      <td>B006K2ZZ7K</td>\n      <td>A1UQRSCLF8GW1T</td>\n      <td>Michael D. Bigham \"M. Wassir\"</td>\n      <td>0</td>\n      <td>0</td>\n      <td>5</td>\n      <td>1350777600</td>\n      <td>Great taffy</td>\n      <td>Great taffy at a great price.  There was a wid...</td>\n    </tr>\n  </tbody>\n</table>\n</div>"
     },
     "metadata": {},
     "execution_count": 2
    }
   ],
   "source": [
    "##reading dataset\n",
    "df = pd.read_csv(r'C:\\Users\\GASTON\\Desktop\\Three projects real life\\Reviews.csv')\n",
    "\n",
    "print(df.shape)\n",
    "df.head()"
   ]
  },
  {
   "cell_type": "code",
   "execution_count": 3,
   "metadata": {},
   "outputs": [
    {
     "output_type": "execute_result",
     "data": {
      "text/plain": [
       "Index(['Id', 'ProductId', 'UserId', 'ProfileName', 'HelpfulnessNumerator',\n",
       "       'HelpfulnessDenominator', 'Score', 'Time', 'Summary', 'Text'],\n",
       "      dtype='object')"
      ]
     },
     "metadata": {},
     "execution_count": 3
    }
   ],
   "source": [
    "df.columns"
   ]
  },
  {
   "source": [
    "* HelpfulnessNumerator: people found useful count\n",
    "* HelpfulnessDenominator: Denominator is both people found useful count + people found not so useful count"
   ],
   "cell_type": "markdown",
   "metadata": {}
  },
  {
   "cell_type": "markdown",
   "metadata": {},
   "source": [
    "### Data Preparation"
   ]
  },
  {
   "cell_type": "code",
   "execution_count": 4,
   "metadata": {},
   "outputs": [],
   "source": [
    "### add some columns for upvote metrics\n",
    "df['Helpful %'] = np.where(df['HelpfulnessDenominator'] > 0, df['HelpfulnessNumerator'] / df['HelpfulnessDenominator'], -1)\n",
    "\n",
    "## En caso de que haya una review por lo menos, coloca el cociente, sino coloca -1. Genera una nueva columna.\n",
    "## Sería como el porcentual de eficiencia de la recomendación."
   ]
  },
  {
   "cell_type": "code",
   "execution_count": 5,
   "metadata": {},
   "outputs": [
    {
     "output_type": "execute_result",
     "data": {
      "text/plain": [
       "   Id   ProductId          UserId                      ProfileName  \\\n",
       "0   1  B001E4KFG0  A3SGXH7AUHU8GW                       delmartian   \n",
       "1   2  B00813GRG4  A1D87F6ZCVE5NK                           dll pa   \n",
       "2   3  B000LQOCH0   ABXLMWJIXXAIN  Natalia Corres \"Natalia Corres\"   \n",
       "\n",
       "   HelpfulnessNumerator  HelpfulnessDenominator  Score        Time  \\\n",
       "0                     1                       1      5  1303862400   \n",
       "1                     0                       0      1  1346976000   \n",
       "2                     1                       1      4  1219017600   \n",
       "\n",
       "                 Summary                                               Text  \\\n",
       "0  Good Quality Dog Food  I have bought several of the Vitality canned d...   \n",
       "1      Not as Advertised  Product arrived labeled as Jumbo Salted Peanut...   \n",
       "2  \"Delight\" says it all  This is a confection that has been around a fe...   \n",
       "\n",
       "   Helpful %  \n",
       "0        1.0  \n",
       "1       -1.0  \n",
       "2        1.0  "
      ],
      "text/html": "<div>\n<style scoped>\n    .dataframe tbody tr th:only-of-type {\n        vertical-align: middle;\n    }\n\n    .dataframe tbody tr th {\n        vertical-align: top;\n    }\n\n    .dataframe thead th {\n        text-align: right;\n    }\n</style>\n<table border=\"1\" class=\"dataframe\">\n  <thead>\n    <tr style=\"text-align: right;\">\n      <th></th>\n      <th>Id</th>\n      <th>ProductId</th>\n      <th>UserId</th>\n      <th>ProfileName</th>\n      <th>HelpfulnessNumerator</th>\n      <th>HelpfulnessDenominator</th>\n      <th>Score</th>\n      <th>Time</th>\n      <th>Summary</th>\n      <th>Text</th>\n      <th>Helpful %</th>\n    </tr>\n  </thead>\n  <tbody>\n    <tr>\n      <th>0</th>\n      <td>1</td>\n      <td>B001E4KFG0</td>\n      <td>A3SGXH7AUHU8GW</td>\n      <td>delmartian</td>\n      <td>1</td>\n      <td>1</td>\n      <td>5</td>\n      <td>1303862400</td>\n      <td>Good Quality Dog Food</td>\n      <td>I have bought several of the Vitality canned d...</td>\n      <td>1.0</td>\n    </tr>\n    <tr>\n      <th>1</th>\n      <td>2</td>\n      <td>B00813GRG4</td>\n      <td>A1D87F6ZCVE5NK</td>\n      <td>dll pa</td>\n      <td>0</td>\n      <td>0</td>\n      <td>1</td>\n      <td>1346976000</td>\n      <td>Not as Advertised</td>\n      <td>Product arrived labeled as Jumbo Salted Peanut...</td>\n      <td>-1.0</td>\n    </tr>\n    <tr>\n      <th>2</th>\n      <td>3</td>\n      <td>B000LQOCH0</td>\n      <td>ABXLMWJIXXAIN</td>\n      <td>Natalia Corres \"Natalia Corres\"</td>\n      <td>1</td>\n      <td>1</td>\n      <td>4</td>\n      <td>1219017600</td>\n      <td>\"Delight\" says it all</td>\n      <td>This is a confection that has been around a fe...</td>\n      <td>1.0</td>\n    </tr>\n  </tbody>\n</table>\n</div>"
     },
     "metadata": {},
     "execution_count": 5
    }
   ],
   "source": [
    "df.head(n=3)"
   ]
  },
  {
   "cell_type": "code",
   "execution_count": 10,
   "metadata": {},
   "outputs": [
    {
     "output_type": "execute_result",
     "data": {
      "text/plain": [
       "Index(['Id', 'ProductId', 'UserId', 'ProfileName', 'HelpfulnessNumerator',\n",
       "       'HelpfulnessDenominator', 'Score', 'Time', 'Summary', 'Text',\n",
       "       'Helpful %'],\n",
       "      dtype='object')"
      ]
     },
     "metadata": {},
     "execution_count": 10
    }
   ],
   "source": [
    "df.columns"
   ]
  },
  {
   "cell_type": "code",
   "execution_count": null,
   "metadata": {},
   "outputs": [],
   "source": []
  },
  {
   "cell_type": "markdown",
   "metadata": {},
   "source": [
    "#### assigning different different labels to helpful% according to its value"
   ]
  },
  {
   "cell_type": "code",
   "execution_count": 6,
   "metadata": {},
   "outputs": [
    {
     "output_type": "execute_result",
     "data": {
      "text/plain": [
       "array([ 1.        , -1.        ,  0.8       ,  0.        ,  0.5       ,\n",
       "        0.66666667,  0.25      ,  0.89473684,  0.83333333,  0.75      ,\n",
       "        0.33333333,  0.3       ,  0.11111111,  0.42857143,  0.875     ,\n",
       "        0.85714286,  0.2       ,  0.26315789,  0.6       ,  0.71428571,\n",
       "        0.53846154,  0.57142857,  0.91489362,  0.86666667,  0.82352941,\n",
       "        0.78571429,  0.74074074,  0.4       ,  0.375     ,  0.28571429,\n",
       "        0.14285714,  0.77777778,  0.125     ,  0.9       ,  0.94117647,\n",
       "        0.92307692,  0.7       ,  0.45454545,  0.88888889,  0.83870968,\n",
       "        0.9047619 ,  0.92857143,  0.90909091,  0.91666667,  0.84615385,\n",
       "        0.10526316,  0.98214286,  0.97826087,  0.7518797 ,  0.3125    ,\n",
       "        0.1       ,  0.18518519,  0.88      ,  0.69230769,  0.625     ,\n",
       "        0.54545455,  0.41666667,  0.45833333,  0.22222222,  0.81818182,\n",
       "        0.8125    ,  0.16666667,  0.93103448,  0.88235294,  0.23529412,\n",
       "        0.63636364,  0.81481481,  0.95652174,  0.64285714,  0.58333333,\n",
       "        0.94444444,  0.921875  ,  0.86574074,  0.96      ,  0.91304348,\n",
       "        0.64705882,  0.95833333,  0.09090909,  0.13333333,  0.52941176,\n",
       "        0.96969697,  0.36363636,  0.07142857,  0.72727273,  0.18181818,\n",
       "        0.96666667,  0.99074074,  0.97297297,  0.80645161,  0.64102564,\n",
       "        0.55555556,  0.4375    ,  0.76923077,  0.28      ,  0.15384615,\n",
       "        0.44444444,  0.5625    ,  0.53333333,  0.47058824,  0.47222222,\n",
       "        0.23076923,  0.25925926,  0.98876404,  0.88372093,  0.19047619,\n",
       "        0.94594595,  0.84313725,  0.96629213,  0.72222222,  0.05882353,\n",
       "        0.27272727,  0.97959184,  0.26666667,  0.30769231,  0.94736842,\n",
       "        0.27777778,  0.6875    ,  0.92      ,  0.90566038,  0.95      ,\n",
       "        0.9375    ,  0.9137931 ,  0.82857143,  0.86363636,  0.85      ,\n",
       "        0.96428571,  0.95238095,  0.08333333,  0.97560976,  0.93333333,\n",
       "        0.46666667,  0.96153846,  0.24      ,  0.92682927,  0.93548387,\n",
       "        0.86956522,  0.06666667,  0.98461538,  0.97      ,  0.97619048,\n",
       "        0.925     ,  0.88461538,  0.61538462,  0.09375   ,  0.79166667,\n",
       "        0.70588235,  0.45      ,  0.93939394,  0.90322581,  0.68      ,\n",
       "        0.95454545,  0.04166667,  0.89655172,  0.88571429,  0.38461538,\n",
       "        0.07692308,  0.12121212,  0.92237443,  0.92156863,  0.36585366,\n",
       "        0.88095238,  0.84      ,  0.61904762,  0.96129032,  0.96385542,\n",
       "        0.90588235,  0.87878788,  0.05555556,  0.80952381,  0.20689655,\n",
       "        0.07407407,  0.35      ,  0.77272727,  0.91428571,  0.04545455,\n",
       "        0.76470588,  0.70833333,  0.73333333,  0.93650794,  0.8671875 ,\n",
       "        0.75949367,  0.65957447,  0.57692308,  0.41176471,  0.40909091,\n",
       "        0.34693878,  0.30263158,  0.16176471,  0.65      ,  0.96296296,\n",
       "        0.96808511,  0.94915254,  0.98290598,  0.9893617 ,  0.95744681,\n",
       "        0.96268657,  0.98305085,  0.61111111,  0.59183673,  0.98913043,\n",
       "        0.98809524,  0.92982456,  0.78947368,  0.75757576,  0.82608696,\n",
       "        0.96491228,  0.84507042,  0.98412698,  0.96551724,  0.87341772,\n",
       "        0.73913043,  0.7037037 ,  0.98888889,  0.7826087 ,  0.17647059,\n",
       "        0.96226415,  0.94339623,  0.97058824,  0.57894737,  0.47368421,\n",
       "        0.5106383 ,  0.97777778,  0.92352941,  0.78378378,  0.97674419,\n",
       "        0.35714286,  0.94805195,  0.94285714,  0.86538462,  0.43478261,\n",
       "        0.99186992,  0.8627451 ,  0.97142857,  0.98484848,  0.73076923,\n",
       "        0.68181818,  0.63333333,  0.64583333,  0.96774194,  0.05263158,\n",
       "        0.36842105,  0.82926829,  0.92045455,  0.34782609,  0.85365854,\n",
       "        0.91803279,  0.97222222,  0.46153846,  0.2173913 ,  0.82051282,\n",
       "        0.29032258,  0.95754717,  0.91176471,  0.04761905,  0.65714286,\n",
       "        0.13636364,  0.77142857,  0.953125  ,  0.92592593,  0.0862069 ,\n",
       "        0.80555556,  0.20512821,  0.29411765,  0.9925187 ,  0.98564593,\n",
       "        0.99253731,  0.80487805,  0.82142857,  0.76      ,  0.21428571,\n",
       "        0.31914894,  0.02702703,  0.20833333,  0.92105263,  0.78125   ,\n",
       "        0.61290323,  0.97435897,  0.07894737,  0.72413793,  0.03125   ,\n",
       "        0.68421053,  0.97979798,  0.38888889,  0.975     ,  0.80769231,\n",
       "        0.06060606,  0.93023256,  0.97260274,  0.90769231,  0.31372549,\n",
       "        0.15789474,  0.32258065,  0.95959596,  0.21052632,  0.84210526,\n",
       "        0.32      ,  0.92631579,  0.03703704,  1.5       ,  0.11428571,\n",
       "        0.88333333,  0.1875    ,  0.96875   ,  0.64      ,  0.30434783,\n",
       "        0.93150685,  0.88709677,  0.75609756,  0.60606061,  0.54166667,\n",
       "        0.52380952,  0.98275862,  0.98630137,  0.76190476,  0.85106383,\n",
       "        0.79069767,  0.8974359 ,  0.93617021,  0.87234043,  0.0625    ,\n",
       "        0.075     ,  0.39393939,  0.74107143,  0.49090909,  0.90243902,\n",
       "        0.56521739,  0.27027027,  0.03846154,  0.31147541,  0.24528302,\n",
       "        0.97727273,  0.60714286,  0.98360656,  0.95918367,  0.94      ,\n",
       "        0.72      ,  0.15      ,  0.12903226,  0.35294118,  0.14084507,\n",
       "        0.13888889,  0.08219178,  0.03636364,  0.13043478,  0.55172414,\n",
       "        0.64516129,  0.98      ,  0.76271186,  0.98333333,  0.95384615,\n",
       "        0.85294118,  0.13513514,  0.32142857,  0.87912088,  0.82758621,\n",
       "        0.72881356,  0.73684211,  0.86111111,  0.81355932,  0.72839506,\n",
       "        0.73809524,  0.74193548,  0.51612903,  0.7109375 ,  0.69565217,\n",
       "        0.02941176,  0.17391304,  0.85185185,  0.06451613,  0.92727273,\n",
       "        0.08695652,  0.03333333,  0.475     ,  0.32352941,  0.22727273,\n",
       "        0.98113208,  0.42307692,  3.        ,  0.90625   ,  0.8404908 ,\n",
       "        0.72093023,  0.98181818,  0.69047619,  0.05660377,  0.93159609,\n",
       "        0.95604396,  0.95348837,  0.98823529,  0.95774648,  0.94520548,\n",
       "        0.62068966,  0.22058824,  0.25827815,  0.86842105,  0.82222222,\n",
       "        0.89041096,  0.78846154,  0.63157895,  0.98717949,  0.93406593,\n",
       "        0.11538462,  0.04      ,  0.86206897,  0.38095238,  0.95555556,\n",
       "        0.97402597,  0.94230769,  0.47619048,  0.99166667,  0.98387097,\n",
       "        0.93589744,  0.89915966,  0.88489209,  0.89285714,  0.8989899 ,\n",
       "        0.84415584,  0.02857143,  0.98496241,  0.96590909,  0.91240876,\n",
       "        0.94545455,  0.90526316,  0.67924528,  0.109375  ,  0.89090909,\n",
       "        0.98795181,  0.02777778,  0.94642857,  0.18918919,  0.67605634,\n",
       "        0.55      ,  0.53030303,  0.45098039,  0.05454545,  0.96363636,\n",
       "        0.06122449,  0.98039216,  0.99443414,  0.98688525,  0.27586207,\n",
       "        0.1025641 ,  0.11764706,  0.05128205,  0.81395349,  0.69387755,\n",
       "        0.98611111,  0.99466192,  0.98951782,  0.98723404,  0.97122302,\n",
       "        0.97183099,  0.75862069,  0.98550725,  0.97368421,  0.56      ,\n",
       "        0.98657718,  0.90196078,  0.77419355,  0.65625   ,  0.87012987,\n",
       "        0.25581395,  0.21153846,  0.71794872,  0.52      ,  0.02222222,\n",
       "        0.15625   ,  0.05      ,  0.10714286,  0.8902439 ,  0.79310345,\n",
       "        0.65384615,  0.94174757,  0.65116279,  0.59459459,  0.58823529,\n",
       "        0.0952381 ,  0.10638298,  0.20430108,  0.89361702,  0.65217391,\n",
       "        0.84090909,  0.92753623,  0.89156627,  0.89333333,  0.890625  ,\n",
       "        0.38709677,  0.60869565,  0.65853659,  0.42105263,  0.88405797,\n",
       "        0.92473118,  0.86486486,  0.02985075,  0.40625   ,  0.97916667,\n",
       "        0.52631579,  0.19230769,  0.98571429,  0.53571429,  0.12765957,\n",
       "        0.97333333,  0.67857143,  0.93506494,  0.88976378,  0.87037037,\n",
       "        0.81081081,  0.12244898,  0.51724138,  0.89502762,  0.51851852,\n",
       "        0.93181818,  0.82692308,  0.73529412,  0.22857143,  0.62962963,\n",
       "        0.31034483,  0.9787234 ,  0.96078431,  0.45714286,  0.98033708,\n",
       "        0.93877551,  0.86904762,  0.98268398,  0.98850575,  0.98148148,\n",
       "        0.56756757,  0.99145299,  0.17948718,  0.71641791,  0.91111111,\n",
       "        0.82653061,  0.98734177,  0.984375  ,  0.58064516,  0.47826087,\n",
       "        0.44      ,  0.39130435,  0.20454545,  0.98351648,  0.95714286,\n",
       "        0.96503497,  0.86263736,  0.12      ,  0.76595745,  0.86440678,\n",
       "        0.89873418,  0.91525424,  0.91071429,  0.88636364,  0.48275862,\n",
       "        0.03571429,  0.98591549,  0.69090909,  0.9516129 ,  0.48780488,\n",
       "        0.13793103,  0.08108108,  0.11904762,  0.80597015,  0.9273743 ,\n",
       "        0.89308176,  0.3960396 ,  0.98245614,  0.99415205,  0.98969072,\n",
       "        0.96721311,  0.64788732,  0.23333333,  0.99196787,  0.87603306,\n",
       "        0.86567164,  0.87096774,  0.83269962,  0.84057971,  0.82978723,\n",
       "        0.78333333,  0.80434783,  0.78787879,  0.95121951,  0.13157895,\n",
       "        0.96923077,  0.08571429,  0.98701299,  0.775     ,  0.90163934,\n",
       "        0.9245283 ,  0.34285714,  0.14814815,  0.83529412,  0.79487179,\n",
       "        0.74666667,  0.73239437,  0.74285714,  0.63855422,  0.63414634,\n",
       "        0.04347826,  0.84782609,  0.81632653,  0.94871795,  0.04301075,\n",
       "        0.22580645,  0.98924731,  0.84375   ,  0.94047619,  0.91891892,\n",
       "        0.85416667,  0.67307692,  0.97468354,  0.74545455,  0.7311828 ,\n",
       "        0.45945946,  0.97938144,  0.92405063,  0.97101449,  0.68493151,\n",
       "        0.58      ,  0.79104478,  0.68888889,  0.99278846,  0.87179487,\n",
       "        0.36111111,  0.36206897,  0.21621622,  0.08510638,  0.62745098,\n",
       "        0.48387097,  0.25806452,  0.98633257,  0.97761194,  0.9789916 ,\n",
       "        0.97530864,  0.96470588,  0.95588235,  0.89705882,  0.85483871,\n",
       "        0.72463768,  0.05405405,  0.8630137 ,  0.16129032,  0.29166667,\n",
       "        0.70454545,  0.23255814,  0.94623656,  0.95412844,  0.75555556,\n",
       "        0.67647059,  0.08      ,  0.98837209,  0.4137931 ,  0.59375   ,\n",
       "        0.52777778,  0.48      ,  0.46551724,  0.34146341,  0.36619718,\n",
       "        0.24137931,  0.30188679,  0.265625  ,  0.09756098,  0.13559322,\n",
       "        0.91440953,  0.91509434,  0.89622642,  0.86086957,  0.85436893,\n",
       "        0.85245902,  0.81609195,  0.8030303 ,  0.78      ,  0.77647059,\n",
       "        0.79545455,  0.76521739,  0.77966102,  0.72321429,  0.72972973,\n",
       "        0.67741935,  0.62222222,  0.98652291,  0.78873239,  0.26086957,\n",
       "        0.71875   ,  0.39285714,  0.87804878,  0.69444444,  0.79411765,\n",
       "        0.992     ,  0.97647059,  0.31578947,  0.31707317,  0.88679245,\n",
       "        0.79591837,  0.9261745 ,  0.8629174 ,  0.98666667,  0.26923077,\n",
       "        0.17857143,  0.38235294,  0.99180328,  0.15942029,  0.90277778,\n",
       "        0.36      ,  0.98507463,  0.7721519 ,  0.04651163,  0.68965517,\n",
       "        0.95890411,  0.06766917,  0.56603774,  0.69767442,  0.93442623,\n",
       "        0.97807757,  0.52173913,  0.75471698,  0.70967742,  0.98076923,\n",
       "        0.23809524,  0.95522388,  0.87142857,  0.74418605,  0.83783784,\n",
       "        0.75510204,  0.59090909,  0.89711934,  0.87301587,  0.89795918,\n",
       "        0.73493976,  0.99122807,  0.96644295,  0.95876289,  0.86046512,\n",
       "        0.07954545,  0.76666667,  0.16216216,  0.02739726,  0.09677419,\n",
       "        0.27659574,  0.83636364,  0.65306122,  0.53521127,  0.97580645,\n",
       "        0.93478261,  0.7755102 ,  0.98672566,  0.99619772,  0.9876161 ,\n",
       "        0.97169811,  0.92957746,  0.97534247,  0.97123894,  0.97191011,\n",
       "        0.97969543,  0.96478873,  0.95491803,  0.03508772,  0.73584906,\n",
       "        0.96341463,  0.69135802,  0.61764706,  0.74358974,  0.92428198,\n",
       "        0.93421053,  0.78723404,  0.37931034,  0.95762712,  0.92783505,\n",
       "        0.16      ,  0.34615385,  0.76388889,  0.63461538,  0.68518519,\n",
       "        0.67567568,  0.675     ,  0.98394495,  0.40540541,  0.57575758,\n",
       "        0.89189189,  0.86330935,  0.18604651,  0.98897059,  0.9673913 ,\n",
       "        0.9379562 ,  0.93243243,  0.98347107,  0.19444444,  0.91139241,\n",
       "        0.84444444,  0.93220339,  0.968     ,  0.53125   ,  0.71698113,\n",
       "        0.80672269,  0.02325581,  0.21875   ,  0.89519651,  0.71604938,\n",
       "        0.2826087 ,  0.07462687,  0.97887324,  0.58974359,  0.33928571,\n",
       "        0.21818182,  0.06779661,  0.28947368,  0.9625    ,  0.95081967,\n",
       "        0.91549296,  0.10344828,  0.99212598,  0.84848485,  0.07317073,\n",
       "        0.97831325,  0.97972973,  0.96511628,  0.9202454 ,  0.90140845,\n",
       "        0.14492754,  0.37837838,  0.46511628,  0.98765432,  0.98697068,\n",
       "        0.91875   ,  0.84274194,  0.84693878,  0.828125  ,  0.6969697 ,\n",
       "        0.02439024,  0.99090909,  0.94078947,  0.94666667,  0.98979592,\n",
       "        0.81132075,  0.87654321,  0.15277778,  0.68085106,  0.82022472,\n",
       "        0.88321168,  0.96703297,  0.08955224,  0.31818182,  0.96610169,\n",
       "        0.95302013,  0.94375   ,  0.81578947,  0.98319328,  0.98639456,\n",
       "        0.89719626,  0.99107143,  0.64864865,  0.88947368,  0.78688525,\n",
       "        0.825     ,  0.34482759,  0.95098039,  0.04444444,  0.95804196,\n",
       "        0.18461538,  0.97663551,  0.97196262,  0.72641509,  0.3877551 ,\n",
       "        0.85964912,  0.43333333,  0.34920635,  0.09195402,  0.98529412,\n",
       "        0.36666667,  0.9695122 ,  0.83928571,  0.75675676,  0.5862069 ,\n",
       "        0.98780488,  0.48648649,  0.03448276,  0.04285714,  0.96039604,\n",
       "        0.01098901,  0.43902439,  0.31428571,  0.95327103,  0.98695652,\n",
       "        0.94949495,  0.89230769,  0.83673469,  0.75438596,  0.24242424,\n",
       "        0.25961538,  0.75409836,  0.14634146,  0.9627907 ,  0.30232558,\n",
       "        0.97163121,  0.37037037,  0.0212766 ,  0.5952381 ,  0.995     ,\n",
       "        0.99029126,  0.99689441,  0.9691358 ,  0.74      ,  0.34210526,\n",
       "        0.38596491,  0.97857143,  0.90697674,  0.20588235,  0.97807018,\n",
       "        0.97905759,  0.77570093,  0.11666667,  0.85384615,  0.92380952,\n",
       "        0.76829268,  0.91612903,  0.91025641,  0.99019608,  0.58181818,\n",
       "        0.46875   ,  0.73170732,  0.97321429,  0.70731707,  0.59259259,\n",
       "        0.10810811,  0.89830508,  0.44827586,  0.97457627,  0.8961039 ,\n",
       "        0.54285714,  0.07843137,  0.98251748,  0.90234375,  0.02830189,\n",
       "        0.98947368,  0.98684211,  0.17073171,  0.69724771,  0.976     ,\n",
       "        0.98165138,  0.97590361,  0.90438247,  0.40740741,  0.8490566 ,\n",
       "        0.96410256,  0.9380531 ,  0.77358491,  0.17777778,  0.44117647,\n",
       "        0.03076923,  0.87755102,  0.0962963 ,  0.91836735,  0.87951807,\n",
       "        0.80851064,  0.99141104])"
      ]
     },
     "metadata": {},
     "execution_count": 6
    }
   ],
   "source": [
    "df['Helpful %'].unique()"
   ]
  },
  {
   "cell_type": "code",
   "execution_count": 7,
   "metadata": {},
   "outputs": [
    {
     "output_type": "execute_result",
     "data": {
      "text/plain": [
       "0         80-100%\n",
       "1             NaN\n",
       "2         80-100%\n",
       "3         80-100%\n",
       "4             NaN\n",
       "           ...   \n",
       "568449        NaN\n",
       "568450        NaN\n",
       "568451    80-100%\n",
       "568452    80-100%\n",
       "568453        NaN\n",
       "Name: Helpful %, Length: 568454, dtype: category\n",
       "Categories (6, object): ['Empty' < '0-20%' < '20-40%' < '40-60%' < '60-80%' < '80-100%']"
      ]
     },
     "metadata": {},
     "execution_count": 7
    }
   ],
   "source": [
    "pd.cut(df['Helpful %'] , bins = [-1, 0, 0.2, 0.4, 0.6, 0.8, 1.0], labels = ['Empty', '0-20%', '20-40%', '40-60%', '60-80%', '80-100%'])"
   ]
  },
  {
   "cell_type": "code",
   "execution_count": 8,
   "metadata": {},
   "outputs": [],
   "source": [
    "df['%upvote'] = pd.cut( df['Helpful %'] , bins = [-1, 0, 0.2, 0.4, 0.6, 0.8, 1.0], labels = ['Empty', '0-20%', '20-40%', '40-60%', '60-80%', '80-100%'])"
   ]
  },
  {
   "cell_type": "code",
   "execution_count": 9,
   "metadata": {},
   "outputs": [
    {
     "output_type": "execute_result",
     "data": {
      "text/plain": [
       "   Id   ProductId          UserId ProfileName  HelpfulnessNumerator  \\\n",
       "0   1  B001E4KFG0  A3SGXH7AUHU8GW  delmartian                     1   \n",
       "1   2  B00813GRG4  A1D87F6ZCVE5NK      dll pa                     0   \n",
       "\n",
       "   HelpfulnessDenominator  Score        Time                Summary  \\\n",
       "0                       1      5  1303862400  Good Quality Dog Food   \n",
       "1                       0      1  1346976000      Not as Advertised   \n",
       "\n",
       "                                                Text  Helpful %  %upvote  \n",
       "0  I have bought several of the Vitality canned d...        1.0  80-100%  \n",
       "1  Product arrived labeled as Jumbo Salted Peanut...       -1.0      NaN  "
      ],
      "text/html": "<div>\n<style scoped>\n    .dataframe tbody tr th:only-of-type {\n        vertical-align: middle;\n    }\n\n    .dataframe tbody tr th {\n        vertical-align: top;\n    }\n\n    .dataframe thead th {\n        text-align: right;\n    }\n</style>\n<table border=\"1\" class=\"dataframe\">\n  <thead>\n    <tr style=\"text-align: right;\">\n      <th></th>\n      <th>Id</th>\n      <th>ProductId</th>\n      <th>UserId</th>\n      <th>ProfileName</th>\n      <th>HelpfulnessNumerator</th>\n      <th>HelpfulnessDenominator</th>\n      <th>Score</th>\n      <th>Time</th>\n      <th>Summary</th>\n      <th>Text</th>\n      <th>Helpful %</th>\n      <th>%upvote</th>\n    </tr>\n  </thead>\n  <tbody>\n    <tr>\n      <th>0</th>\n      <td>1</td>\n      <td>B001E4KFG0</td>\n      <td>A3SGXH7AUHU8GW</td>\n      <td>delmartian</td>\n      <td>1</td>\n      <td>1</td>\n      <td>5</td>\n      <td>1303862400</td>\n      <td>Good Quality Dog Food</td>\n      <td>I have bought several of the Vitality canned d...</td>\n      <td>1.0</td>\n      <td>80-100%</td>\n    </tr>\n    <tr>\n      <th>1</th>\n      <td>2</td>\n      <td>B00813GRG4</td>\n      <td>A1D87F6ZCVE5NK</td>\n      <td>dll pa</td>\n      <td>0</td>\n      <td>0</td>\n      <td>1</td>\n      <td>1346976000</td>\n      <td>Not as Advertised</td>\n      <td>Product arrived labeled as Jumbo Salted Peanut...</td>\n      <td>-1.0</td>\n      <td>NaN</td>\n    </tr>\n  </tbody>\n</table>\n</div>"
     },
     "metadata": {},
     "execution_count": 9
    }
   ],
   "source": [
    "df.head(n=2)"
   ]
  },
  {
   "cell_type": "code",
   "execution_count": 10,
   "metadata": {},
   "outputs": [
    {
     "output_type": "execute_result",
     "data": {
      "text/plain": [
       "                   Id  ProductId  UserId  ProfileName  HelpfulnessNumerator  \\\n",
       "Score %upvote                                                                 \n",
       "1     Empty      8060       8060    8060         8060                  8060   \n",
       "      0-20%      2338       2338    2338         2338                  2338   \n",
       "      20-40%     4649       4649    4649         4649                  4649   \n",
       "      40-60%     6586       6586    6586         6586                  6586   \n",
       "      60-80%     5838       5838    5838         5836                  5838   \n",
       "      80-100%   12531      12531   12531        12531                 12531   \n",
       "2     Empty      4234       4234    4234         4234                  4234   \n",
       "      0-20%       762        762     762          762                   762   \n",
       "      20-40%     1618       1618    1618         1618                  1618   \n",
       "      40-60%     3051       3051    3051         3051                  3051   \n",
       "      60-80%     2486       2486    2486         2486                  2486   \n",
       "      80-100%    7014       7014    7014         7014                  7014   \n",
       "3     Empty      5062       5062    5062         5062                  5062   \n",
       "      0-20%       474        474     474          474                   474   \n",
       "      20-40%     1506       1506    1506         1506                  1506   \n",
       "      40-60%     3384       3384    3384         3384                  3384   \n",
       "      60-80%     2754       2754    2754         2754                  2754   \n",
       "      80-100%   11037      11037   11037        11037                 11037   \n",
       "4     Empty      4780       4780    4780         4780                  4780   \n",
       "      0-20%       116        116     116          116                   116   \n",
       "      20-40%      909        909     909          909                   909   \n",
       "      40-60%     3185       3185    3185         3185                  3185   \n",
       "      60-80%     2941       2941    2941         2941                  2941   \n",
       "      80-100%   26707      26707   26707        26707                 26707   \n",
       "5     Empty     11638      11638   11638        11638                 11638   \n",
       "      0-20%       432        432     432          432                   432   \n",
       "      20-40%     2275       2275    2275         2275                  2275   \n",
       "      40-60%    10312      10312   10312        10312                 10312   \n",
       "      60-80%    11060      11060   11060        11060                 11060   \n",
       "      80-100%  140661     140661  140661       140659                140661   \n",
       "\n",
       "               HelpfulnessDenominator    Time  Summary    Text  Helpful %  \n",
       "Score %upvote                                                              \n",
       "1     Empty                      8060    8060     8060    8060       8060  \n",
       "      0-20%                      2338    2338     2338    2338       2338  \n",
       "      20-40%                     4649    4649     4649    4649       4649  \n",
       "      40-60%                     6586    6586     6586    6586       6586  \n",
       "      60-80%                     5838    5838     5838    5838       5838  \n",
       "      80-100%                   12531   12531    12531   12531      12531  \n",
       "2     Empty                      4234    4234     4234    4234       4234  \n",
       "      0-20%                       762     762      737     762        762  \n",
       "      20-40%                     1618    1618     1618    1618       1618  \n",
       "      40-60%                     3051    3051     3051    3051       3051  \n",
       "      60-80%                     2486    2486     2486    2486       2486  \n",
       "      80-100%                    7014    7014     7014    7014       7014  \n",
       "3     Empty                      5062    5062     5062    5062       5062  \n",
       "      0-20%                       474     474      474     474        474  \n",
       "      20-40%                     1506    1506     1506    1506       1506  \n",
       "      40-60%                     3384    3384     3384    3384       3384  \n",
       "      60-80%                     2754    2754     2754    2754       2754  \n",
       "      80-100%                   11037   11037    11036   11037      11037  \n",
       "4     Empty                      4780    4780     4780    4780       4780  \n",
       "      0-20%                       116     116      116     116        116  \n",
       "      20-40%                      909     909      909     909        909  \n",
       "      40-60%                     3185    3185     3185    3185       3185  \n",
       "      60-80%                     2941    2941     2941    2941       2941  \n",
       "      80-100%                   26707   26707    26707   26707      26707  \n",
       "5     Empty                     11638   11638    11638   11638      11638  \n",
       "      0-20%                       432     432      432     432        432  \n",
       "      20-40%                     2275    2275     2275    2275       2275  \n",
       "      40-60%                    10312   10312    10312   10312      10312  \n",
       "      60-80%                    11060   11060    11060   11060      11060  \n",
       "      80-100%                  140661  140661   140661  140661     140661  "
      ],
      "text/html": "<div>\n<style scoped>\n    .dataframe tbody tr th:only-of-type {\n        vertical-align: middle;\n    }\n\n    .dataframe tbody tr th {\n        vertical-align: top;\n    }\n\n    .dataframe thead th {\n        text-align: right;\n    }\n</style>\n<table border=\"1\" class=\"dataframe\">\n  <thead>\n    <tr style=\"text-align: right;\">\n      <th></th>\n      <th></th>\n      <th>Id</th>\n      <th>ProductId</th>\n      <th>UserId</th>\n      <th>ProfileName</th>\n      <th>HelpfulnessNumerator</th>\n      <th>HelpfulnessDenominator</th>\n      <th>Time</th>\n      <th>Summary</th>\n      <th>Text</th>\n      <th>Helpful %</th>\n    </tr>\n    <tr>\n      <th>Score</th>\n      <th>%upvote</th>\n      <th></th>\n      <th></th>\n      <th></th>\n      <th></th>\n      <th></th>\n      <th></th>\n      <th></th>\n      <th></th>\n      <th></th>\n      <th></th>\n    </tr>\n  </thead>\n  <tbody>\n    <tr>\n      <th rowspan=\"6\" valign=\"top\">1</th>\n      <th>Empty</th>\n      <td>8060</td>\n      <td>8060</td>\n      <td>8060</td>\n      <td>8060</td>\n      <td>8060</td>\n      <td>8060</td>\n      <td>8060</td>\n      <td>8060</td>\n      <td>8060</td>\n      <td>8060</td>\n    </tr>\n    <tr>\n      <th>0-20%</th>\n      <td>2338</td>\n      <td>2338</td>\n      <td>2338</td>\n      <td>2338</td>\n      <td>2338</td>\n      <td>2338</td>\n      <td>2338</td>\n      <td>2338</td>\n      <td>2338</td>\n      <td>2338</td>\n    </tr>\n    <tr>\n      <th>20-40%</th>\n      <td>4649</td>\n      <td>4649</td>\n      <td>4649</td>\n      <td>4649</td>\n      <td>4649</td>\n      <td>4649</td>\n      <td>4649</td>\n      <td>4649</td>\n      <td>4649</td>\n      <td>4649</td>\n    </tr>\n    <tr>\n      <th>40-60%</th>\n      <td>6586</td>\n      <td>6586</td>\n      <td>6586</td>\n      <td>6586</td>\n      <td>6586</td>\n      <td>6586</td>\n      <td>6586</td>\n      <td>6586</td>\n      <td>6586</td>\n      <td>6586</td>\n    </tr>\n    <tr>\n      <th>60-80%</th>\n      <td>5838</td>\n      <td>5838</td>\n      <td>5838</td>\n      <td>5836</td>\n      <td>5838</td>\n      <td>5838</td>\n      <td>5838</td>\n      <td>5838</td>\n      <td>5838</td>\n      <td>5838</td>\n    </tr>\n    <tr>\n      <th>80-100%</th>\n      <td>12531</td>\n      <td>12531</td>\n      <td>12531</td>\n      <td>12531</td>\n      <td>12531</td>\n      <td>12531</td>\n      <td>12531</td>\n      <td>12531</td>\n      <td>12531</td>\n      <td>12531</td>\n    </tr>\n    <tr>\n      <th rowspan=\"6\" valign=\"top\">2</th>\n      <th>Empty</th>\n      <td>4234</td>\n      <td>4234</td>\n      <td>4234</td>\n      <td>4234</td>\n      <td>4234</td>\n      <td>4234</td>\n      <td>4234</td>\n      <td>4234</td>\n      <td>4234</td>\n      <td>4234</td>\n    </tr>\n    <tr>\n      <th>0-20%</th>\n      <td>762</td>\n      <td>762</td>\n      <td>762</td>\n      <td>762</td>\n      <td>762</td>\n      <td>762</td>\n      <td>762</td>\n      <td>737</td>\n      <td>762</td>\n      <td>762</td>\n    </tr>\n    <tr>\n      <th>20-40%</th>\n      <td>1618</td>\n      <td>1618</td>\n      <td>1618</td>\n      <td>1618</td>\n      <td>1618</td>\n      <td>1618</td>\n      <td>1618</td>\n      <td>1618</td>\n      <td>1618</td>\n      <td>1618</td>\n    </tr>\n    <tr>\n      <th>40-60%</th>\n      <td>3051</td>\n      <td>3051</td>\n      <td>3051</td>\n      <td>3051</td>\n      <td>3051</td>\n      <td>3051</td>\n      <td>3051</td>\n      <td>3051</td>\n      <td>3051</td>\n      <td>3051</td>\n    </tr>\n    <tr>\n      <th>60-80%</th>\n      <td>2486</td>\n      <td>2486</td>\n      <td>2486</td>\n      <td>2486</td>\n      <td>2486</td>\n      <td>2486</td>\n      <td>2486</td>\n      <td>2486</td>\n      <td>2486</td>\n      <td>2486</td>\n    </tr>\n    <tr>\n      <th>80-100%</th>\n      <td>7014</td>\n      <td>7014</td>\n      <td>7014</td>\n      <td>7014</td>\n      <td>7014</td>\n      <td>7014</td>\n      <td>7014</td>\n      <td>7014</td>\n      <td>7014</td>\n      <td>7014</td>\n    </tr>\n    <tr>\n      <th rowspan=\"6\" valign=\"top\">3</th>\n      <th>Empty</th>\n      <td>5062</td>\n      <td>5062</td>\n      <td>5062</td>\n      <td>5062</td>\n      <td>5062</td>\n      <td>5062</td>\n      <td>5062</td>\n      <td>5062</td>\n      <td>5062</td>\n      <td>5062</td>\n    </tr>\n    <tr>\n      <th>0-20%</th>\n      <td>474</td>\n      <td>474</td>\n      <td>474</td>\n      <td>474</td>\n      <td>474</td>\n      <td>474</td>\n      <td>474</td>\n      <td>474</td>\n      <td>474</td>\n      <td>474</td>\n    </tr>\n    <tr>\n      <th>20-40%</th>\n      <td>1506</td>\n      <td>1506</td>\n      <td>1506</td>\n      <td>1506</td>\n      <td>1506</td>\n      <td>1506</td>\n      <td>1506</td>\n      <td>1506</td>\n      <td>1506</td>\n      <td>1506</td>\n    </tr>\n    <tr>\n      <th>40-60%</th>\n      <td>3384</td>\n      <td>3384</td>\n      <td>3384</td>\n      <td>3384</td>\n      <td>3384</td>\n      <td>3384</td>\n      <td>3384</td>\n      <td>3384</td>\n      <td>3384</td>\n      <td>3384</td>\n    </tr>\n    <tr>\n      <th>60-80%</th>\n      <td>2754</td>\n      <td>2754</td>\n      <td>2754</td>\n      <td>2754</td>\n      <td>2754</td>\n      <td>2754</td>\n      <td>2754</td>\n      <td>2754</td>\n      <td>2754</td>\n      <td>2754</td>\n    </tr>\n    <tr>\n      <th>80-100%</th>\n      <td>11037</td>\n      <td>11037</td>\n      <td>11037</td>\n      <td>11037</td>\n      <td>11037</td>\n      <td>11037</td>\n      <td>11037</td>\n      <td>11036</td>\n      <td>11037</td>\n      <td>11037</td>\n    </tr>\n    <tr>\n      <th rowspan=\"6\" valign=\"top\">4</th>\n      <th>Empty</th>\n      <td>4780</td>\n      <td>4780</td>\n      <td>4780</td>\n      <td>4780</td>\n      <td>4780</td>\n      <td>4780</td>\n      <td>4780</td>\n      <td>4780</td>\n      <td>4780</td>\n      <td>4780</td>\n    </tr>\n    <tr>\n      <th>0-20%</th>\n      <td>116</td>\n      <td>116</td>\n      <td>116</td>\n      <td>116</td>\n      <td>116</td>\n      <td>116</td>\n      <td>116</td>\n      <td>116</td>\n      <td>116</td>\n      <td>116</td>\n    </tr>\n    <tr>\n      <th>20-40%</th>\n      <td>909</td>\n      <td>909</td>\n      <td>909</td>\n      <td>909</td>\n      <td>909</td>\n      <td>909</td>\n      <td>909</td>\n      <td>909</td>\n      <td>909</td>\n      <td>909</td>\n    </tr>\n    <tr>\n      <th>40-60%</th>\n      <td>3185</td>\n      <td>3185</td>\n      <td>3185</td>\n      <td>3185</td>\n      <td>3185</td>\n      <td>3185</td>\n      <td>3185</td>\n      <td>3185</td>\n      <td>3185</td>\n      <td>3185</td>\n    </tr>\n    <tr>\n      <th>60-80%</th>\n      <td>2941</td>\n      <td>2941</td>\n      <td>2941</td>\n      <td>2941</td>\n      <td>2941</td>\n      <td>2941</td>\n      <td>2941</td>\n      <td>2941</td>\n      <td>2941</td>\n      <td>2941</td>\n    </tr>\n    <tr>\n      <th>80-100%</th>\n      <td>26707</td>\n      <td>26707</td>\n      <td>26707</td>\n      <td>26707</td>\n      <td>26707</td>\n      <td>26707</td>\n      <td>26707</td>\n      <td>26707</td>\n      <td>26707</td>\n      <td>26707</td>\n    </tr>\n    <tr>\n      <th rowspan=\"6\" valign=\"top\">5</th>\n      <th>Empty</th>\n      <td>11638</td>\n      <td>11638</td>\n      <td>11638</td>\n      <td>11638</td>\n      <td>11638</td>\n      <td>11638</td>\n      <td>11638</td>\n      <td>11638</td>\n      <td>11638</td>\n      <td>11638</td>\n    </tr>\n    <tr>\n      <th>0-20%</th>\n      <td>432</td>\n      <td>432</td>\n      <td>432</td>\n      <td>432</td>\n      <td>432</td>\n      <td>432</td>\n      <td>432</td>\n      <td>432</td>\n      <td>432</td>\n      <td>432</td>\n    </tr>\n    <tr>\n      <th>20-40%</th>\n      <td>2275</td>\n      <td>2275</td>\n      <td>2275</td>\n      <td>2275</td>\n      <td>2275</td>\n      <td>2275</td>\n      <td>2275</td>\n      <td>2275</td>\n      <td>2275</td>\n      <td>2275</td>\n    </tr>\n    <tr>\n      <th>40-60%</th>\n      <td>10312</td>\n      <td>10312</td>\n      <td>10312</td>\n      <td>10312</td>\n      <td>10312</td>\n      <td>10312</td>\n      <td>10312</td>\n      <td>10312</td>\n      <td>10312</td>\n      <td>10312</td>\n    </tr>\n    <tr>\n      <th>60-80%</th>\n      <td>11060</td>\n      <td>11060</td>\n      <td>11060</td>\n      <td>11060</td>\n      <td>11060</td>\n      <td>11060</td>\n      <td>11060</td>\n      <td>11060</td>\n      <td>11060</td>\n      <td>11060</td>\n    </tr>\n    <tr>\n      <th>80-100%</th>\n      <td>140661</td>\n      <td>140661</td>\n      <td>140661</td>\n      <td>140659</td>\n      <td>140661</td>\n      <td>140661</td>\n      <td>140661</td>\n      <td>140661</td>\n      <td>140661</td>\n      <td>140661</td>\n    </tr>\n  </tbody>\n</table>\n</div>"
     },
     "metadata": {},
     "execution_count": 10
    }
   ],
   "source": [
    "df.groupby(['Score', '%upvote']).agg('count')\n",
    "\n",
    "# Primero agrupo en función del score asignado en los comentarios. Esto me dividiría en 5 grupos\n",
    "# Luego, subagrupo de acuerdo al porcentual de utilidad del review, por lo cual me quedan 5 x 6 = 30 grupos\n",
    "# Tengo que definir un método de agrupamiento: count.\n",
    "# Como cuento los datos, van a estar todos repetidos. Luego me focalizo solo en Id."
   ]
  },
  {
   "cell_type": "markdown",
   "metadata": {},
   "source": [
    "#### considering only Id Column, as I have to count Total Upvotes for different different categories"
   ]
  },
  {
   "cell_type": "code",
   "execution_count": 11,
   "metadata": {},
   "outputs": [
    {
     "output_type": "execute_result",
     "data": {
      "text/plain": [
       "                   Id\n",
       "Score %upvote        \n",
       "1     Empty      8060\n",
       "      0-20%      2338\n",
       "      20-40%     4649\n",
       "      40-60%     6586\n",
       "      60-80%     5838\n",
       "      80-100%   12531\n",
       "2     Empty      4234\n",
       "      0-20%       762\n",
       "      20-40%     1618\n",
       "      40-60%     3051\n",
       "      60-80%     2486\n",
       "      80-100%    7014\n",
       "3     Empty      5062\n",
       "      0-20%       474\n",
       "      20-40%     1506\n",
       "      40-60%     3384\n",
       "      60-80%     2754\n",
       "      80-100%   11037\n",
       "4     Empty      4780\n",
       "      0-20%       116\n",
       "      20-40%      909\n",
       "      40-60%     3185\n",
       "      60-80%     2941\n",
       "      80-100%   26707\n",
       "5     Empty     11638\n",
       "      0-20%       432\n",
       "      20-40%     2275\n",
       "      40-60%    10312\n",
       "      60-80%    11060\n",
       "      80-100%  140661"
      ],
      "text/html": "<div>\n<style scoped>\n    .dataframe tbody tr th:only-of-type {\n        vertical-align: middle;\n    }\n\n    .dataframe tbody tr th {\n        vertical-align: top;\n    }\n\n    .dataframe thead th {\n        text-align: right;\n    }\n</style>\n<table border=\"1\" class=\"dataframe\">\n  <thead>\n    <tr style=\"text-align: right;\">\n      <th></th>\n      <th></th>\n      <th>Id</th>\n    </tr>\n    <tr>\n      <th>Score</th>\n      <th>%upvote</th>\n      <th></th>\n    </tr>\n  </thead>\n  <tbody>\n    <tr>\n      <th rowspan=\"6\" valign=\"top\">1</th>\n      <th>Empty</th>\n      <td>8060</td>\n    </tr>\n    <tr>\n      <th>0-20%</th>\n      <td>2338</td>\n    </tr>\n    <tr>\n      <th>20-40%</th>\n      <td>4649</td>\n    </tr>\n    <tr>\n      <th>40-60%</th>\n      <td>6586</td>\n    </tr>\n    <tr>\n      <th>60-80%</th>\n      <td>5838</td>\n    </tr>\n    <tr>\n      <th>80-100%</th>\n      <td>12531</td>\n    </tr>\n    <tr>\n      <th rowspan=\"6\" valign=\"top\">2</th>\n      <th>Empty</th>\n      <td>4234</td>\n    </tr>\n    <tr>\n      <th>0-20%</th>\n      <td>762</td>\n    </tr>\n    <tr>\n      <th>20-40%</th>\n      <td>1618</td>\n    </tr>\n    <tr>\n      <th>40-60%</th>\n      <td>3051</td>\n    </tr>\n    <tr>\n      <th>60-80%</th>\n      <td>2486</td>\n    </tr>\n    <tr>\n      <th>80-100%</th>\n      <td>7014</td>\n    </tr>\n    <tr>\n      <th rowspan=\"6\" valign=\"top\">3</th>\n      <th>Empty</th>\n      <td>5062</td>\n    </tr>\n    <tr>\n      <th>0-20%</th>\n      <td>474</td>\n    </tr>\n    <tr>\n      <th>20-40%</th>\n      <td>1506</td>\n    </tr>\n    <tr>\n      <th>40-60%</th>\n      <td>3384</td>\n    </tr>\n    <tr>\n      <th>60-80%</th>\n      <td>2754</td>\n    </tr>\n    <tr>\n      <th>80-100%</th>\n      <td>11037</td>\n    </tr>\n    <tr>\n      <th rowspan=\"6\" valign=\"top\">4</th>\n      <th>Empty</th>\n      <td>4780</td>\n    </tr>\n    <tr>\n      <th>0-20%</th>\n      <td>116</td>\n    </tr>\n    <tr>\n      <th>20-40%</th>\n      <td>909</td>\n    </tr>\n    <tr>\n      <th>40-60%</th>\n      <td>3185</td>\n    </tr>\n    <tr>\n      <th>60-80%</th>\n      <td>2941</td>\n    </tr>\n    <tr>\n      <th>80-100%</th>\n      <td>26707</td>\n    </tr>\n    <tr>\n      <th rowspan=\"6\" valign=\"top\">5</th>\n      <th>Empty</th>\n      <td>11638</td>\n    </tr>\n    <tr>\n      <th>0-20%</th>\n      <td>432</td>\n    </tr>\n    <tr>\n      <th>20-40%</th>\n      <td>2275</td>\n    </tr>\n    <tr>\n      <th>40-60%</th>\n      <td>10312</td>\n    </tr>\n    <tr>\n      <th>60-80%</th>\n      <td>11060</td>\n    </tr>\n    <tr>\n      <th>80-100%</th>\n      <td>140661</td>\n    </tr>\n  </tbody>\n</table>\n</div>"
     },
     "metadata": {},
     "execution_count": 11
    }
   ],
   "source": [
    "df.groupby(['Score', '%upvote']).agg({'Id':'count'})"
   ]
  },
  {
   "cell_type": "code",
   "execution_count": 12,
   "metadata": {},
   "outputs": [
    {
     "output_type": "execute_result",
     "data": {
      "text/plain": [
       "    Score  %upvote      Id\n",
       "0       1    Empty    8060\n",
       "1       1    0-20%    2338\n",
       "2       1   20-40%    4649\n",
       "3       1   40-60%    6586\n",
       "4       1   60-80%    5838\n",
       "5       1  80-100%   12531\n",
       "6       2    Empty    4234\n",
       "7       2    0-20%     762\n",
       "8       2   20-40%    1618\n",
       "9       2   40-60%    3051\n",
       "10      2   60-80%    2486\n",
       "11      2  80-100%    7014\n",
       "12      3    Empty    5062\n",
       "13      3    0-20%     474\n",
       "14      3   20-40%    1506\n",
       "15      3   40-60%    3384\n",
       "16      3   60-80%    2754\n",
       "17      3  80-100%   11037\n",
       "18      4    Empty    4780\n",
       "19      4    0-20%     116\n",
       "20      4   20-40%     909\n",
       "21      4   40-60%    3185\n",
       "22      4   60-80%    2941\n",
       "23      4  80-100%   26707\n",
       "24      5    Empty   11638\n",
       "25      5    0-20%     432\n",
       "26      5   20-40%    2275\n",
       "27      5   40-60%   10312\n",
       "28      5   60-80%   11060\n",
       "29      5  80-100%  140661"
      ],
      "text/html": "<div>\n<style scoped>\n    .dataframe tbody tr th:only-of-type {\n        vertical-align: middle;\n    }\n\n    .dataframe tbody tr th {\n        vertical-align: top;\n    }\n\n    .dataframe thead th {\n        text-align: right;\n    }\n</style>\n<table border=\"1\" class=\"dataframe\">\n  <thead>\n    <tr style=\"text-align: right;\">\n      <th></th>\n      <th>Score</th>\n      <th>%upvote</th>\n      <th>Id</th>\n    </tr>\n  </thead>\n  <tbody>\n    <tr>\n      <th>0</th>\n      <td>1</td>\n      <td>Empty</td>\n      <td>8060</td>\n    </tr>\n    <tr>\n      <th>1</th>\n      <td>1</td>\n      <td>0-20%</td>\n      <td>2338</td>\n    </tr>\n    <tr>\n      <th>2</th>\n      <td>1</td>\n      <td>20-40%</td>\n      <td>4649</td>\n    </tr>\n    <tr>\n      <th>3</th>\n      <td>1</td>\n      <td>40-60%</td>\n      <td>6586</td>\n    </tr>\n    <tr>\n      <th>4</th>\n      <td>1</td>\n      <td>60-80%</td>\n      <td>5838</td>\n    </tr>\n    <tr>\n      <th>5</th>\n      <td>1</td>\n      <td>80-100%</td>\n      <td>12531</td>\n    </tr>\n    <tr>\n      <th>6</th>\n      <td>2</td>\n      <td>Empty</td>\n      <td>4234</td>\n    </tr>\n    <tr>\n      <th>7</th>\n      <td>2</td>\n      <td>0-20%</td>\n      <td>762</td>\n    </tr>\n    <tr>\n      <th>8</th>\n      <td>2</td>\n      <td>20-40%</td>\n      <td>1618</td>\n    </tr>\n    <tr>\n      <th>9</th>\n      <td>2</td>\n      <td>40-60%</td>\n      <td>3051</td>\n    </tr>\n    <tr>\n      <th>10</th>\n      <td>2</td>\n      <td>60-80%</td>\n      <td>2486</td>\n    </tr>\n    <tr>\n      <th>11</th>\n      <td>2</td>\n      <td>80-100%</td>\n      <td>7014</td>\n    </tr>\n    <tr>\n      <th>12</th>\n      <td>3</td>\n      <td>Empty</td>\n      <td>5062</td>\n    </tr>\n    <tr>\n      <th>13</th>\n      <td>3</td>\n      <td>0-20%</td>\n      <td>474</td>\n    </tr>\n    <tr>\n      <th>14</th>\n      <td>3</td>\n      <td>20-40%</td>\n      <td>1506</td>\n    </tr>\n    <tr>\n      <th>15</th>\n      <td>3</td>\n      <td>40-60%</td>\n      <td>3384</td>\n    </tr>\n    <tr>\n      <th>16</th>\n      <td>3</td>\n      <td>60-80%</td>\n      <td>2754</td>\n    </tr>\n    <tr>\n      <th>17</th>\n      <td>3</td>\n      <td>80-100%</td>\n      <td>11037</td>\n    </tr>\n    <tr>\n      <th>18</th>\n      <td>4</td>\n      <td>Empty</td>\n      <td>4780</td>\n    </tr>\n    <tr>\n      <th>19</th>\n      <td>4</td>\n      <td>0-20%</td>\n      <td>116</td>\n    </tr>\n    <tr>\n      <th>20</th>\n      <td>4</td>\n      <td>20-40%</td>\n      <td>909</td>\n    </tr>\n    <tr>\n      <th>21</th>\n      <td>4</td>\n      <td>40-60%</td>\n      <td>3185</td>\n    </tr>\n    <tr>\n      <th>22</th>\n      <td>4</td>\n      <td>60-80%</td>\n      <td>2941</td>\n    </tr>\n    <tr>\n      <th>23</th>\n      <td>4</td>\n      <td>80-100%</td>\n      <td>26707</td>\n    </tr>\n    <tr>\n      <th>24</th>\n      <td>5</td>\n      <td>Empty</td>\n      <td>11638</td>\n    </tr>\n    <tr>\n      <th>25</th>\n      <td>5</td>\n      <td>0-20%</td>\n      <td>432</td>\n    </tr>\n    <tr>\n      <th>26</th>\n      <td>5</td>\n      <td>20-40%</td>\n      <td>2275</td>\n    </tr>\n    <tr>\n      <th>27</th>\n      <td>5</td>\n      <td>40-60%</td>\n      <td>10312</td>\n    </tr>\n    <tr>\n      <th>28</th>\n      <td>5</td>\n      <td>60-80%</td>\n      <td>11060</td>\n    </tr>\n    <tr>\n      <th>29</th>\n      <td>5</td>\n      <td>80-100%</td>\n      <td>140661</td>\n    </tr>\n  </tbody>\n</table>\n</div>"
     },
     "metadata": {},
     "execution_count": 12
    }
   ],
   "source": [
    "df_s=df.groupby(['Score', '%upvote']).agg({'Id':'count'}).reset_index()\n",
    "df_s"
   ]
  },
  {
   "cell_type": "code",
   "execution_count": null,
   "metadata": {},
   "outputs": [],
   "source": []
  },
  {
   "cell_type": "markdown",
   "metadata": {},
   "source": [
    "#### create Pivot Table for better conclusion"
   ]
  },
  {
   "cell_type": "code",
   "execution_count": 13,
   "metadata": {},
   "outputs": [
    {
     "output_type": "execute_result",
     "data": {
      "text/plain": [
       "            Id                            \n",
       "Score        1     2      3      4       5\n",
       "%upvote                                   \n",
       "Empty     8060  4234   5062   4780   11638\n",
       "0-20%     2338   762    474    116     432\n",
       "20-40%    4649  1618   1506    909    2275\n",
       "40-60%    6586  3051   3384   3185   10312\n",
       "60-80%    5838  2486   2754   2941   11060\n",
       "80-100%  12531  7014  11037  26707  140661"
      ],
      "text/html": "<div>\n<style scoped>\n    .dataframe tbody tr th:only-of-type {\n        vertical-align: middle;\n    }\n\n    .dataframe tbody tr th {\n        vertical-align: top;\n    }\n\n    .dataframe thead tr th {\n        text-align: left;\n    }\n\n    .dataframe thead tr:last-of-type th {\n        text-align: right;\n    }\n</style>\n<table border=\"1\" class=\"dataframe\">\n  <thead>\n    <tr>\n      <th></th>\n      <th colspan=\"5\" halign=\"left\">Id</th>\n    </tr>\n    <tr>\n      <th>Score</th>\n      <th>1</th>\n      <th>2</th>\n      <th>3</th>\n      <th>4</th>\n      <th>5</th>\n    </tr>\n    <tr>\n      <th>%upvote</th>\n      <th></th>\n      <th></th>\n      <th></th>\n      <th></th>\n      <th></th>\n    </tr>\n  </thead>\n  <tbody>\n    <tr>\n      <th>Empty</th>\n      <td>8060</td>\n      <td>4234</td>\n      <td>5062</td>\n      <td>4780</td>\n      <td>11638</td>\n    </tr>\n    <tr>\n      <th>0-20%</th>\n      <td>2338</td>\n      <td>762</td>\n      <td>474</td>\n      <td>116</td>\n      <td>432</td>\n    </tr>\n    <tr>\n      <th>20-40%</th>\n      <td>4649</td>\n      <td>1618</td>\n      <td>1506</td>\n      <td>909</td>\n      <td>2275</td>\n    </tr>\n    <tr>\n      <th>40-60%</th>\n      <td>6586</td>\n      <td>3051</td>\n      <td>3384</td>\n      <td>3185</td>\n      <td>10312</td>\n    </tr>\n    <tr>\n      <th>60-80%</th>\n      <td>5838</td>\n      <td>2486</td>\n      <td>2754</td>\n      <td>2941</td>\n      <td>11060</td>\n    </tr>\n    <tr>\n      <th>80-100%</th>\n      <td>12531</td>\n      <td>7014</td>\n      <td>11037</td>\n      <td>26707</td>\n      <td>140661</td>\n    </tr>\n  </tbody>\n</table>\n</div>"
     },
     "metadata": {},
     "execution_count": 13
    }
   ],
   "source": [
    "df_s.pivot(index='%upvote',columns='Score')"
   ]
  },
  {
   "cell_type": "code",
   "execution_count": null,
   "metadata": {},
   "outputs": [],
   "source": []
  },
  {
   "cell_type": "markdown",
   "metadata": {},
   "source": [
    "#### create heatmap of it,for better Visualisations"
   ]
  },
  {
   "cell_type": "code",
   "execution_count": 14,
   "metadata": {},
   "outputs": [
    {
     "output_type": "execute_result",
     "data": {
      "text/plain": [
       "Text(0.5, 1.0, 'How helpful users find among user scores')"
      ]
     },
     "metadata": {},
     "execution_count": 14
    },
    {
     "output_type": "display_data",
     "data": {
      "text/plain": "<Figure size 432x288 with 2 Axes>",
      "image/svg+xml": "<?xml version=\"1.0\" encoding=\"utf-8\" standalone=\"no\"?>\r\n<!DOCTYPE svg PUBLIC \"-//W3C//DTD SVG 1.1//EN\"\r\n  \"http://www.w3.org/Graphics/SVG/1.1/DTD/svg11.dtd\">\r\n<!-- Created with matplotlib (https://matplotlib.org/) -->\r\n<svg height=\"277.314375pt\" version=\"1.1\" viewBox=\"0 0 420.627 277.314375\" width=\"420.627pt\" xmlns=\"http://www.w3.org/2000/svg\" xmlns:xlink=\"http://www.w3.org/1999/xlink\">\r\n <metadata>\r\n  <rdf:RDF xmlns:cc=\"http://creativecommons.org/ns#\" xmlns:dc=\"http://purl.org/dc/elements/1.1/\" xmlns:rdf=\"http://www.w3.org/1999/02/22-rdf-syntax-ns#\">\r\n   <cc:Work>\r\n    <dc:type rdf:resource=\"http://purl.org/dc/dcmitype/StillImage\"/>\r\n    <dc:date>2021-06-16T07:24:31.423152</dc:date>\r\n    <dc:format>image/svg+xml</dc:format>\r\n    <dc:creator>\r\n     <cc:Agent>\r\n      <dc:title>Matplotlib v3.3.4, https://matplotlib.org/</dc:title>\r\n     </cc:Agent>\r\n    </dc:creator>\r\n   </cc:Work>\r\n  </rdf:RDF>\r\n </metadata>\r\n <defs>\r\n  <style type=\"text/css\">*{stroke-linecap:butt;stroke-linejoin:round;}</style>\r\n </defs>\r\n <g id=\"figure_1\">\r\n  <g id=\"patch_1\">\r\n   <path d=\"M 0 277.314375 \r\nL 420.627 277.314375 \r\nL 420.627 0 \r\nL 0 0 \r\nz\r\n\" style=\"fill:none;\"/>\r\n  </g>\r\n  <g id=\"axes_1\">\r\n   <g id=\"patch_2\">\r\n    <path d=\"M 72.8 239.758125 \r\nL 340.64 239.758125 \r\nL 340.64 22.318125 \r\nL 72.8 22.318125 \r\nz\r\n\" style=\"fill:#ffffff;\"/>\r\n   </g>\r\n   <g id=\"QuadMesh_1\">\r\n    <path clip-path=\"url(#p66813857a0)\" d=\"M 72.8 22.318125 \r\nL 126.368 22.318125 \r\nL 126.368 58.558125 \r\nL 72.8 58.558125 \r\nL 72.8 22.318125 \r\n\" style=\"fill:#f7fcc7;\"/>\r\n    <path clip-path=\"url(#p66813857a0)\" d=\"M 126.368 22.318125 \r\nL 179.936 22.318125 \r\nL 179.936 58.558125 \r\nL 126.368 58.558125 \r\nL 126.368 22.318125 \r\n\" style=\"fill:#fbfdd0;\"/>\r\n    <path clip-path=\"url(#p66813857a0)\" d=\"M 179.936 22.318125 \r\nL 233.504 22.318125 \r\nL 233.504 58.558125 \r\nL 179.936 58.558125 \r\nL 179.936 22.318125 \r\n\" style=\"fill:#fafdce;\"/>\r\n    <path clip-path=\"url(#p66813857a0)\" d=\"M 233.504 22.318125 \r\nL 287.072 22.318125 \r\nL 287.072 58.558125 \r\nL 233.504 58.558125 \r\nL 233.504 22.318125 \r\n\" style=\"fill:#fafdcf;\"/>\r\n    <path clip-path=\"url(#p66813857a0)\" d=\"M 287.072 22.318125 \r\nL 340.64 22.318125 \r\nL 340.64 58.558125 \r\nL 287.072 58.558125 \r\nL 287.072 22.318125 \r\n\" style=\"fill:#f4fbc0;\"/>\r\n    <path clip-path=\"url(#p66813857a0)\" d=\"M 72.8 58.558125 \r\nL 126.368 58.558125 \r\nL 126.368 94.798125 \r\nL 72.8 94.798125 \r\nL 72.8 58.558125 \r\n\" style=\"fill:#fdfed4;\"/>\r\n    <path clip-path=\"url(#p66813857a0)\" d=\"M 126.368 58.558125 \r\nL 179.936 58.558125 \r\nL 179.936 94.798125 \r\nL 126.368 94.798125 \r\nL 126.368 58.558125 \r\n\" style=\"fill:#feffd8;\"/>\r\n    <path clip-path=\"url(#p66813857a0)\" d=\"M 179.936 58.558125 \r\nL 233.504 58.558125 \r\nL 233.504 94.798125 \r\nL 179.936 94.798125 \r\nL 179.936 58.558125 \r\n\" style=\"fill:#ffffd9;\"/>\r\n    <path clip-path=\"url(#p66813857a0)\" d=\"M 233.504 58.558125 \r\nL 287.072 58.558125 \r\nL 287.072 94.798125 \r\nL 233.504 94.798125 \r\nL 233.504 58.558125 \r\n\" style=\"fill:#ffffd9;\"/>\r\n    <path clip-path=\"url(#p66813857a0)\" d=\"M 287.072 58.558125 \r\nL 340.64 58.558125 \r\nL 340.64 94.798125 \r\nL 287.072 94.798125 \r\nL 287.072 58.558125 \r\n\" style=\"fill:#ffffd9;\"/>\r\n    <path clip-path=\"url(#p66813857a0)\" d=\"M 72.8 94.798125 \r\nL 126.368 94.798125 \r\nL 126.368 131.038125 \r\nL 72.8 131.038125 \r\nL 72.8 94.798125 \r\n\" style=\"fill:#fafdcf;\"/>\r\n    <path clip-path=\"url(#p66813857a0)\" d=\"M 126.368 94.798125 \r\nL 179.936 94.798125 \r\nL 179.936 131.038125 \r\nL 126.368 131.038125 \r\nL 126.368 94.798125 \r\n\" style=\"fill:#feffd6;\"/>\r\n    <path clip-path=\"url(#p66813857a0)\" d=\"M 179.936 94.798125 \r\nL 233.504 94.798125 \r\nL 233.504 131.038125 \r\nL 179.936 131.038125 \r\nL 179.936 94.798125 \r\n\" style=\"fill:#feffd6;\"/>\r\n    <path clip-path=\"url(#p66813857a0)\" d=\"M 233.504 94.798125 \r\nL 287.072 94.798125 \r\nL 287.072 131.038125 \r\nL 233.504 131.038125 \r\nL 233.504 94.798125 \r\n\" style=\"fill:#feffd8;\"/>\r\n    <path clip-path=\"url(#p66813857a0)\" d=\"M 287.072 94.798125 \r\nL 340.64 94.798125 \r\nL 340.64 131.038125 \r\nL 287.072 131.038125 \r\nL 287.072 94.798125 \r\n\" style=\"fill:#fdfed5;\"/>\r\n    <path clip-path=\"url(#p66813857a0)\" d=\"M 72.8 131.038125 \r\nL 126.368 131.038125 \r\nL 126.368 167.278125 \r\nL 72.8 167.278125 \r\nL 72.8 131.038125 \r\n\" style=\"fill:#f9fdcb;\"/>\r\n    <path clip-path=\"url(#p66813857a0)\" d=\"M 126.368 131.038125 \r\nL 179.936 131.038125 \r\nL 179.936 167.278125 \r\nL 126.368 167.278125 \r\nL 126.368 131.038125 \r\n\" style=\"fill:#fcfed3;\"/>\r\n    <path clip-path=\"url(#p66813857a0)\" d=\"M 179.936 131.038125 \r\nL 233.504 131.038125 \r\nL 233.504 167.278125 \r\nL 179.936 167.278125 \r\nL 179.936 131.038125 \r\n\" style=\"fill:#fcfed3;\"/>\r\n    <path clip-path=\"url(#p66813857a0)\" d=\"M 233.504 131.038125 \r\nL 287.072 131.038125 \r\nL 287.072 167.278125 \r\nL 233.504 167.278125 \r\nL 233.504 131.038125 \r\n\" style=\"fill:#fcfed3;\"/>\r\n    <path clip-path=\"url(#p66813857a0)\" d=\"M 287.072 131.038125 \r\nL 340.64 131.038125 \r\nL 340.64 167.278125 \r\nL 287.072 167.278125 \r\nL 287.072 131.038125 \r\n\" style=\"fill:#f5fbc2;\"/>\r\n    <path clip-path=\"url(#p66813857a0)\" d=\"M 72.8 167.278125 \r\nL 126.368 167.278125 \r\nL 126.368 203.518125 \r\nL 72.8 203.518125 \r\nL 72.8 167.278125 \r\n\" style=\"fill:#f9fdcc;\"/>\r\n    <path clip-path=\"url(#p66813857a0)\" d=\"M 126.368 167.278125 \r\nL 179.936 167.278125 \r\nL 179.936 203.518125 \r\nL 126.368 203.518125 \r\nL 126.368 167.278125 \r\n\" style=\"fill:#fdfed4;\"/>\r\n    <path clip-path=\"url(#p66813857a0)\" d=\"M 179.936 167.278125 \r\nL 233.504 167.278125 \r\nL 233.504 203.518125 \r\nL 179.936 203.518125 \r\nL 179.936 167.278125 \r\n\" style=\"fill:#fdfed4;\"/>\r\n    <path clip-path=\"url(#p66813857a0)\" d=\"M 233.504 167.278125 \r\nL 287.072 167.278125 \r\nL 287.072 203.518125 \r\nL 233.504 203.518125 \r\nL 233.504 167.278125 \r\n\" style=\"fill:#fcfed3;\"/>\r\n    <path clip-path=\"url(#p66813857a0)\" d=\"M 287.072 167.278125 \r\nL 340.64 167.278125 \r\nL 340.64 203.518125 \r\nL 287.072 203.518125 \r\nL 287.072 167.278125 \r\n\" style=\"fill:#f4fbc1;\"/>\r\n    <path clip-path=\"url(#p66813857a0)\" d=\"M 72.8 203.518125 \r\nL 126.368 203.518125 \r\nL 126.368 239.758125 \r\nL 72.8 239.758125 \r\nL 72.8 203.518125 \r\n\" style=\"fill:#f3fabd;\"/>\r\n    <path clip-path=\"url(#p66813857a0)\" d=\"M 126.368 203.518125 \r\nL 179.936 203.518125 \r\nL 179.936 239.758125 \r\nL 126.368 239.758125 \r\nL 126.368 203.518125 \r\n\" style=\"fill:#f8fcca;\"/>\r\n    <path clip-path=\"url(#p66813857a0)\" d=\"M 179.936 203.518125 \r\nL 233.504 203.518125 \r\nL 233.504 239.758125 \r\nL 179.936 239.758125 \r\nL 179.936 203.518125 \r\n\" style=\"fill:#f4fbc1;\"/>\r\n    <path clip-path=\"url(#p66813857a0)\" d=\"M 233.504 203.518125 \r\nL 287.072 203.518125 \r\nL 287.072 239.758125 \r\nL 233.504 239.758125 \r\nL 233.504 203.518125 \r\n\" style=\"fill:#daf0b3;\"/>\r\n    <path clip-path=\"url(#p66813857a0)\" d=\"M 287.072 203.518125 \r\nL 340.64 203.518125 \r\nL 340.64 239.758125 \r\nL 287.072 239.758125 \r\nL 287.072 203.518125 \r\n\" style=\"fill:#081d58;\"/>\r\n   </g>\r\n   <g id=\"matplotlib.axis_1\">\r\n    <g id=\"xtick_1\">\r\n     <g id=\"line2d_1\">\r\n      <defs>\r\n       <path d=\"M 0 0 \r\nL 0 3.5 \r\n\" id=\"m47ed146115\" style=\"stroke:#000000;stroke-width:0.8;\"/>\r\n      </defs>\r\n      <g>\r\n       <use style=\"stroke:#000000;stroke-width:0.8;\" x=\"99.584\" xlink:href=\"#m47ed146115\" y=\"239.758125\"/>\r\n      </g>\r\n     </g>\r\n     <g id=\"text_1\">\r\n      <!-- Id-1 -->\r\n      <g transform=\"translate(89.949625 254.356562)scale(0.1 -0.1)\">\r\n       <defs>\r\n        <path d=\"M 9.8125 72.90625 \r\nL 19.671875 72.90625 \r\nL 19.671875 0 \r\nL 9.8125 0 \r\nz\r\n\" id=\"DejaVuSans-73\"/>\r\n        <path d=\"M 45.40625 46.390625 \r\nL 45.40625 75.984375 \r\nL 54.390625 75.984375 \r\nL 54.390625 0 \r\nL 45.40625 0 \r\nL 45.40625 8.203125 \r\nQ 42.578125 3.328125 38.25 0.953125 \r\nQ 33.9375 -1.421875 27.875 -1.421875 \r\nQ 17.96875 -1.421875 11.734375 6.484375 \r\nQ 5.515625 14.40625 5.515625 27.296875 \r\nQ 5.515625 40.1875 11.734375 48.09375 \r\nQ 17.96875 56 27.875 56 \r\nQ 33.9375 56 38.25 53.625 \r\nQ 42.578125 51.265625 45.40625 46.390625 \r\nz\r\nM 14.796875 27.296875 \r\nQ 14.796875 17.390625 18.875 11.75 \r\nQ 22.953125 6.109375 30.078125 6.109375 \r\nQ 37.203125 6.109375 41.296875 11.75 \r\nQ 45.40625 17.390625 45.40625 27.296875 \r\nQ 45.40625 37.203125 41.296875 42.84375 \r\nQ 37.203125 48.484375 30.078125 48.484375 \r\nQ 22.953125 48.484375 18.875 42.84375 \r\nQ 14.796875 37.203125 14.796875 27.296875 \r\nz\r\n\" id=\"DejaVuSans-100\"/>\r\n        <path d=\"M 4.890625 31.390625 \r\nL 31.203125 31.390625 \r\nL 31.203125 23.390625 \r\nL 4.890625 23.390625 \r\nz\r\n\" id=\"DejaVuSans-45\"/>\r\n        <path d=\"M 12.40625 8.296875 \r\nL 28.515625 8.296875 \r\nL 28.515625 63.921875 \r\nL 10.984375 60.40625 \r\nL 10.984375 69.390625 \r\nL 28.421875 72.90625 \r\nL 38.28125 72.90625 \r\nL 38.28125 8.296875 \r\nL 54.390625 8.296875 \r\nL 54.390625 0 \r\nL 12.40625 0 \r\nz\r\n\" id=\"DejaVuSans-49\"/>\r\n       </defs>\r\n       <use xlink:href=\"#DejaVuSans-73\"/>\r\n       <use x=\"29.492188\" xlink:href=\"#DejaVuSans-100\"/>\r\n       <use x=\"92.96875\" xlink:href=\"#DejaVuSans-45\"/>\r\n       <use x=\"129.052734\" xlink:href=\"#DejaVuSans-49\"/>\r\n      </g>\r\n     </g>\r\n    </g>\r\n    <g id=\"xtick_2\">\r\n     <g id=\"line2d_2\">\r\n      <g>\r\n       <use style=\"stroke:#000000;stroke-width:0.8;\" x=\"153.152\" xlink:href=\"#m47ed146115\" y=\"239.758125\"/>\r\n      </g>\r\n     </g>\r\n     <g id=\"text_2\">\r\n      <!-- Id-2 -->\r\n      <g transform=\"translate(143.517625 254.356562)scale(0.1 -0.1)\">\r\n       <defs>\r\n        <path d=\"M 19.1875 8.296875 \r\nL 53.609375 8.296875 \r\nL 53.609375 0 \r\nL 7.328125 0 \r\nL 7.328125 8.296875 \r\nQ 12.9375 14.109375 22.625 23.890625 \r\nQ 32.328125 33.6875 34.8125 36.53125 \r\nQ 39.546875 41.84375 41.421875 45.53125 \r\nQ 43.3125 49.21875 43.3125 52.78125 \r\nQ 43.3125 58.59375 39.234375 62.25 \r\nQ 35.15625 65.921875 28.609375 65.921875 \r\nQ 23.96875 65.921875 18.8125 64.3125 \r\nQ 13.671875 62.703125 7.8125 59.421875 \r\nL 7.8125 69.390625 \r\nQ 13.765625 71.78125 18.9375 73 \r\nQ 24.125 74.21875 28.421875 74.21875 \r\nQ 39.75 74.21875 46.484375 68.546875 \r\nQ 53.21875 62.890625 53.21875 53.421875 \r\nQ 53.21875 48.921875 51.53125 44.890625 \r\nQ 49.859375 40.875 45.40625 35.40625 \r\nQ 44.1875 33.984375 37.640625 27.21875 \r\nQ 31.109375 20.453125 19.1875 8.296875 \r\nz\r\n\" id=\"DejaVuSans-50\"/>\r\n       </defs>\r\n       <use xlink:href=\"#DejaVuSans-73\"/>\r\n       <use x=\"29.492188\" xlink:href=\"#DejaVuSans-100\"/>\r\n       <use x=\"92.96875\" xlink:href=\"#DejaVuSans-45\"/>\r\n       <use x=\"129.052734\" xlink:href=\"#DejaVuSans-50\"/>\r\n      </g>\r\n     </g>\r\n    </g>\r\n    <g id=\"xtick_3\">\r\n     <g id=\"line2d_3\">\r\n      <g>\r\n       <use style=\"stroke:#000000;stroke-width:0.8;\" x=\"206.72\" xlink:href=\"#m47ed146115\" y=\"239.758125\"/>\r\n      </g>\r\n     </g>\r\n     <g id=\"text_3\">\r\n      <!-- Id-3 -->\r\n      <g transform=\"translate(197.085625 254.356562)scale(0.1 -0.1)\">\r\n       <defs>\r\n        <path d=\"M 40.578125 39.3125 \r\nQ 47.65625 37.796875 51.625 33 \r\nQ 55.609375 28.21875 55.609375 21.1875 \r\nQ 55.609375 10.40625 48.1875 4.484375 \r\nQ 40.765625 -1.421875 27.09375 -1.421875 \r\nQ 22.515625 -1.421875 17.65625 -0.515625 \r\nQ 12.796875 0.390625 7.625 2.203125 \r\nL 7.625 11.71875 \r\nQ 11.71875 9.328125 16.59375 8.109375 \r\nQ 21.484375 6.890625 26.8125 6.890625 \r\nQ 36.078125 6.890625 40.9375 10.546875 \r\nQ 45.796875 14.203125 45.796875 21.1875 \r\nQ 45.796875 27.640625 41.28125 31.265625 \r\nQ 36.765625 34.90625 28.71875 34.90625 \r\nL 20.21875 34.90625 \r\nL 20.21875 43.015625 \r\nL 29.109375 43.015625 \r\nQ 36.375 43.015625 40.234375 45.921875 \r\nQ 44.09375 48.828125 44.09375 54.296875 \r\nQ 44.09375 59.90625 40.109375 62.90625 \r\nQ 36.140625 65.921875 28.71875 65.921875 \r\nQ 24.65625 65.921875 20.015625 65.03125 \r\nQ 15.375 64.15625 9.8125 62.3125 \r\nL 9.8125 71.09375 \r\nQ 15.4375 72.65625 20.34375 73.4375 \r\nQ 25.25 74.21875 29.59375 74.21875 \r\nQ 40.828125 74.21875 47.359375 69.109375 \r\nQ 53.90625 64.015625 53.90625 55.328125 \r\nQ 53.90625 49.265625 50.4375 45.09375 \r\nQ 46.96875 40.921875 40.578125 39.3125 \r\nz\r\n\" id=\"DejaVuSans-51\"/>\r\n       </defs>\r\n       <use xlink:href=\"#DejaVuSans-73\"/>\r\n       <use x=\"29.492188\" xlink:href=\"#DejaVuSans-100\"/>\r\n       <use x=\"92.96875\" xlink:href=\"#DejaVuSans-45\"/>\r\n       <use x=\"129.052734\" xlink:href=\"#DejaVuSans-51\"/>\r\n      </g>\r\n     </g>\r\n    </g>\r\n    <g id=\"xtick_4\">\r\n     <g id=\"line2d_4\">\r\n      <g>\r\n       <use style=\"stroke:#000000;stroke-width:0.8;\" x=\"260.288\" xlink:href=\"#m47ed146115\" y=\"239.758125\"/>\r\n      </g>\r\n     </g>\r\n     <g id=\"text_4\">\r\n      <!-- Id-4 -->\r\n      <g transform=\"translate(250.653625 254.356562)scale(0.1 -0.1)\">\r\n       <defs>\r\n        <path d=\"M 37.796875 64.3125 \r\nL 12.890625 25.390625 \r\nL 37.796875 25.390625 \r\nz\r\nM 35.203125 72.90625 \r\nL 47.609375 72.90625 \r\nL 47.609375 25.390625 \r\nL 58.015625 25.390625 \r\nL 58.015625 17.1875 \r\nL 47.609375 17.1875 \r\nL 47.609375 0 \r\nL 37.796875 0 \r\nL 37.796875 17.1875 \r\nL 4.890625 17.1875 \r\nL 4.890625 26.703125 \r\nz\r\n\" id=\"DejaVuSans-52\"/>\r\n       </defs>\r\n       <use xlink:href=\"#DejaVuSans-73\"/>\r\n       <use x=\"29.492188\" xlink:href=\"#DejaVuSans-100\"/>\r\n       <use x=\"92.96875\" xlink:href=\"#DejaVuSans-45\"/>\r\n       <use x=\"129.052734\" xlink:href=\"#DejaVuSans-52\"/>\r\n      </g>\r\n     </g>\r\n    </g>\r\n    <g id=\"xtick_5\">\r\n     <g id=\"line2d_5\">\r\n      <g>\r\n       <use style=\"stroke:#000000;stroke-width:0.8;\" x=\"313.856\" xlink:href=\"#m47ed146115\" y=\"239.758125\"/>\r\n      </g>\r\n     </g>\r\n     <g id=\"text_5\">\r\n      <!-- Id-5 -->\r\n      <g transform=\"translate(304.221625 254.356562)scale(0.1 -0.1)\">\r\n       <defs>\r\n        <path d=\"M 10.796875 72.90625 \r\nL 49.515625 72.90625 \r\nL 49.515625 64.59375 \r\nL 19.828125 64.59375 \r\nL 19.828125 46.734375 \r\nQ 21.96875 47.46875 24.109375 47.828125 \r\nQ 26.265625 48.1875 28.421875 48.1875 \r\nQ 40.625 48.1875 47.75 41.5 \r\nQ 54.890625 34.8125 54.890625 23.390625 \r\nQ 54.890625 11.625 47.5625 5.09375 \r\nQ 40.234375 -1.421875 26.90625 -1.421875 \r\nQ 22.3125 -1.421875 17.546875 -0.640625 \r\nQ 12.796875 0.140625 7.71875 1.703125 \r\nL 7.71875 11.625 \r\nQ 12.109375 9.234375 16.796875 8.0625 \r\nQ 21.484375 6.890625 26.703125 6.890625 \r\nQ 35.15625 6.890625 40.078125 11.328125 \r\nQ 45.015625 15.765625 45.015625 23.390625 \r\nQ 45.015625 31 40.078125 35.4375 \r\nQ 35.15625 39.890625 26.703125 39.890625 \r\nQ 22.75 39.890625 18.8125 39.015625 \r\nQ 14.890625 38.140625 10.796875 36.28125 \r\nz\r\n\" id=\"DejaVuSans-53\"/>\r\n       </defs>\r\n       <use xlink:href=\"#DejaVuSans-73\"/>\r\n       <use x=\"29.492188\" xlink:href=\"#DejaVuSans-100\"/>\r\n       <use x=\"92.96875\" xlink:href=\"#DejaVuSans-45\"/>\r\n       <use x=\"129.052734\" xlink:href=\"#DejaVuSans-53\"/>\r\n      </g>\r\n     </g>\r\n    </g>\r\n    <g id=\"text_6\">\r\n     <!-- None-Score -->\r\n     <g transform=\"translate(177.868438 268.034687)scale(0.1 -0.1)\">\r\n      <defs>\r\n       <path d=\"M 9.8125 72.90625 \r\nL 23.09375 72.90625 \r\nL 55.421875 11.921875 \r\nL 55.421875 72.90625 \r\nL 64.984375 72.90625 \r\nL 64.984375 0 \r\nL 51.703125 0 \r\nL 19.390625 60.984375 \r\nL 19.390625 0 \r\nL 9.8125 0 \r\nz\r\n\" id=\"DejaVuSans-78\"/>\r\n       <path d=\"M 30.609375 48.390625 \r\nQ 23.390625 48.390625 19.1875 42.75 \r\nQ 14.984375 37.109375 14.984375 27.296875 \r\nQ 14.984375 17.484375 19.15625 11.84375 \r\nQ 23.34375 6.203125 30.609375 6.203125 \r\nQ 37.796875 6.203125 41.984375 11.859375 \r\nQ 46.1875 17.53125 46.1875 27.296875 \r\nQ 46.1875 37.015625 41.984375 42.703125 \r\nQ 37.796875 48.390625 30.609375 48.390625 \r\nz\r\nM 30.609375 56 \r\nQ 42.328125 56 49.015625 48.375 \r\nQ 55.71875 40.765625 55.71875 27.296875 \r\nQ 55.71875 13.875 49.015625 6.21875 \r\nQ 42.328125 -1.421875 30.609375 -1.421875 \r\nQ 18.84375 -1.421875 12.171875 6.21875 \r\nQ 5.515625 13.875 5.515625 27.296875 \r\nQ 5.515625 40.765625 12.171875 48.375 \r\nQ 18.84375 56 30.609375 56 \r\nz\r\n\" id=\"DejaVuSans-111\"/>\r\n       <path d=\"M 54.890625 33.015625 \r\nL 54.890625 0 \r\nL 45.90625 0 \r\nL 45.90625 32.71875 \r\nQ 45.90625 40.484375 42.875 44.328125 \r\nQ 39.84375 48.1875 33.796875 48.1875 \r\nQ 26.515625 48.1875 22.3125 43.546875 \r\nQ 18.109375 38.921875 18.109375 30.90625 \r\nL 18.109375 0 \r\nL 9.078125 0 \r\nL 9.078125 54.6875 \r\nL 18.109375 54.6875 \r\nL 18.109375 46.1875 \r\nQ 21.34375 51.125 25.703125 53.5625 \r\nQ 30.078125 56 35.796875 56 \r\nQ 45.21875 56 50.046875 50.171875 \r\nQ 54.890625 44.34375 54.890625 33.015625 \r\nz\r\n\" id=\"DejaVuSans-110\"/>\r\n       <path d=\"M 56.203125 29.59375 \r\nL 56.203125 25.203125 \r\nL 14.890625 25.203125 \r\nQ 15.484375 15.921875 20.484375 11.0625 \r\nQ 25.484375 6.203125 34.421875 6.203125 \r\nQ 39.59375 6.203125 44.453125 7.46875 \r\nQ 49.3125 8.734375 54.109375 11.28125 \r\nL 54.109375 2.78125 \r\nQ 49.265625 0.734375 44.1875 -0.34375 \r\nQ 39.109375 -1.421875 33.890625 -1.421875 \r\nQ 20.796875 -1.421875 13.15625 6.1875 \r\nQ 5.515625 13.8125 5.515625 26.8125 \r\nQ 5.515625 40.234375 12.765625 48.109375 \r\nQ 20.015625 56 32.328125 56 \r\nQ 43.359375 56 49.78125 48.890625 \r\nQ 56.203125 41.796875 56.203125 29.59375 \r\nz\r\nM 47.21875 32.234375 \r\nQ 47.125 39.59375 43.09375 43.984375 \r\nQ 39.0625 48.390625 32.421875 48.390625 \r\nQ 24.90625 48.390625 20.390625 44.140625 \r\nQ 15.875 39.890625 15.1875 32.171875 \r\nz\r\n\" id=\"DejaVuSans-101\"/>\r\n       <path d=\"M 53.515625 70.515625 \r\nL 53.515625 60.890625 \r\nQ 47.90625 63.578125 42.921875 64.890625 \r\nQ 37.9375 66.21875 33.296875 66.21875 \r\nQ 25.25 66.21875 20.875 63.09375 \r\nQ 16.5 59.96875 16.5 54.203125 \r\nQ 16.5 49.359375 19.40625 46.890625 \r\nQ 22.3125 44.4375 30.421875 42.921875 \r\nL 36.375 41.703125 \r\nQ 47.40625 39.59375 52.65625 34.296875 \r\nQ 57.90625 29 57.90625 20.125 \r\nQ 57.90625 9.515625 50.796875 4.046875 \r\nQ 43.703125 -1.421875 29.984375 -1.421875 \r\nQ 24.8125 -1.421875 18.96875 -0.25 \r\nQ 13.140625 0.921875 6.890625 3.21875 \r\nL 6.890625 13.375 \r\nQ 12.890625 10.015625 18.65625 8.296875 \r\nQ 24.421875 6.59375 29.984375 6.59375 \r\nQ 38.421875 6.59375 43.015625 9.90625 \r\nQ 47.609375 13.234375 47.609375 19.390625 \r\nQ 47.609375 24.75 44.3125 27.78125 \r\nQ 41.015625 30.8125 33.5 32.328125 \r\nL 27.484375 33.5 \r\nQ 16.453125 35.6875 11.515625 40.375 \r\nQ 6.59375 45.0625 6.59375 53.421875 \r\nQ 6.59375 63.09375 13.40625 68.65625 \r\nQ 20.21875 74.21875 32.171875 74.21875 \r\nQ 37.3125 74.21875 42.625 73.28125 \r\nQ 47.953125 72.359375 53.515625 70.515625 \r\nz\r\n\" id=\"DejaVuSans-83\"/>\r\n       <path d=\"M 48.78125 52.59375 \r\nL 48.78125 44.1875 \r\nQ 44.96875 46.296875 41.140625 47.34375 \r\nQ 37.3125 48.390625 33.40625 48.390625 \r\nQ 24.65625 48.390625 19.8125 42.84375 \r\nQ 14.984375 37.3125 14.984375 27.296875 \r\nQ 14.984375 17.28125 19.8125 11.734375 \r\nQ 24.65625 6.203125 33.40625 6.203125 \r\nQ 37.3125 6.203125 41.140625 7.25 \r\nQ 44.96875 8.296875 48.78125 10.40625 \r\nL 48.78125 2.09375 \r\nQ 45.015625 0.34375 40.984375 -0.53125 \r\nQ 36.96875 -1.421875 32.421875 -1.421875 \r\nQ 20.0625 -1.421875 12.78125 6.34375 \r\nQ 5.515625 14.109375 5.515625 27.296875 \r\nQ 5.515625 40.671875 12.859375 48.328125 \r\nQ 20.21875 56 33.015625 56 \r\nQ 37.15625 56 41.109375 55.140625 \r\nQ 45.0625 54.296875 48.78125 52.59375 \r\nz\r\n\" id=\"DejaVuSans-99\"/>\r\n       <path d=\"M 41.109375 46.296875 \r\nQ 39.59375 47.171875 37.8125 47.578125 \r\nQ 36.03125 48 33.890625 48 \r\nQ 26.265625 48 22.1875 43.046875 \r\nQ 18.109375 38.09375 18.109375 28.8125 \r\nL 18.109375 0 \r\nL 9.078125 0 \r\nL 9.078125 54.6875 \r\nL 18.109375 54.6875 \r\nL 18.109375 46.1875 \r\nQ 20.953125 51.171875 25.484375 53.578125 \r\nQ 30.03125 56 36.53125 56 \r\nQ 37.453125 56 38.578125 55.875 \r\nQ 39.703125 55.765625 41.0625 55.515625 \r\nz\r\n\" id=\"DejaVuSans-114\"/>\r\n      </defs>\r\n      <use xlink:href=\"#DejaVuSans-78\"/>\r\n      <use x=\"74.804688\" xlink:href=\"#DejaVuSans-111\"/>\r\n      <use x=\"135.986328\" xlink:href=\"#DejaVuSans-110\"/>\r\n      <use x=\"199.365234\" xlink:href=\"#DejaVuSans-101\"/>\r\n      <use x=\"260.888672\" xlink:href=\"#DejaVuSans-45\"/>\r\n      <use x=\"296.972656\" xlink:href=\"#DejaVuSans-83\"/>\r\n      <use x=\"360.449219\" xlink:href=\"#DejaVuSans-99\"/>\r\n      <use x=\"415.429688\" xlink:href=\"#DejaVuSans-111\"/>\r\n      <use x=\"476.611328\" xlink:href=\"#DejaVuSans-114\"/>\r\n      <use x=\"515.474609\" xlink:href=\"#DejaVuSans-101\"/>\r\n     </g>\r\n    </g>\r\n   </g>\r\n   <g id=\"matplotlib.axis_2\">\r\n    <g id=\"ytick_1\">\r\n     <g id=\"line2d_6\">\r\n      <defs>\r\n       <path d=\"M 0 0 \r\nL -3.5 0 \r\n\" id=\"m0a8e26aa64\" style=\"stroke:#000000;stroke-width:0.8;\"/>\r\n      </defs>\r\n      <g>\r\n       <use style=\"stroke:#000000;stroke-width:0.8;\" x=\"72.8\" xlink:href=\"#m0a8e26aa64\" y=\"40.438125\"/>\r\n      </g>\r\n     </g>\r\n     <g id=\"text_7\">\r\n      <!-- Empty -->\r\n      <g transform=\"translate(33.553125 44.237344)scale(0.1 -0.1)\">\r\n       <defs>\r\n        <path d=\"M 9.8125 72.90625 \r\nL 55.90625 72.90625 \r\nL 55.90625 64.59375 \r\nL 19.671875 64.59375 \r\nL 19.671875 43.015625 \r\nL 54.390625 43.015625 \r\nL 54.390625 34.71875 \r\nL 19.671875 34.71875 \r\nL 19.671875 8.296875 \r\nL 56.78125 8.296875 \r\nL 56.78125 0 \r\nL 9.8125 0 \r\nz\r\n\" id=\"DejaVuSans-69\"/>\r\n        <path d=\"M 52 44.1875 \r\nQ 55.375 50.25 60.0625 53.125 \r\nQ 64.75 56 71.09375 56 \r\nQ 79.640625 56 84.28125 50.015625 \r\nQ 88.921875 44.046875 88.921875 33.015625 \r\nL 88.921875 0 \r\nL 79.890625 0 \r\nL 79.890625 32.71875 \r\nQ 79.890625 40.578125 77.09375 44.375 \r\nQ 74.3125 48.1875 68.609375 48.1875 \r\nQ 61.625 48.1875 57.5625 43.546875 \r\nQ 53.515625 38.921875 53.515625 30.90625 \r\nL 53.515625 0 \r\nL 44.484375 0 \r\nL 44.484375 32.71875 \r\nQ 44.484375 40.625 41.703125 44.40625 \r\nQ 38.921875 48.1875 33.109375 48.1875 \r\nQ 26.21875 48.1875 22.15625 43.53125 \r\nQ 18.109375 38.875 18.109375 30.90625 \r\nL 18.109375 0 \r\nL 9.078125 0 \r\nL 9.078125 54.6875 \r\nL 18.109375 54.6875 \r\nL 18.109375 46.1875 \r\nQ 21.1875 51.21875 25.484375 53.609375 \r\nQ 29.78125 56 35.6875 56 \r\nQ 41.65625 56 45.828125 52.96875 \r\nQ 50 49.953125 52 44.1875 \r\nz\r\n\" id=\"DejaVuSans-109\"/>\r\n        <path d=\"M 18.109375 8.203125 \r\nL 18.109375 -20.796875 \r\nL 9.078125 -20.796875 \r\nL 9.078125 54.6875 \r\nL 18.109375 54.6875 \r\nL 18.109375 46.390625 \r\nQ 20.953125 51.265625 25.265625 53.625 \r\nQ 29.59375 56 35.59375 56 \r\nQ 45.5625 56 51.78125 48.09375 \r\nQ 58.015625 40.1875 58.015625 27.296875 \r\nQ 58.015625 14.40625 51.78125 6.484375 \r\nQ 45.5625 -1.421875 35.59375 -1.421875 \r\nQ 29.59375 -1.421875 25.265625 0.953125 \r\nQ 20.953125 3.328125 18.109375 8.203125 \r\nz\r\nM 48.6875 27.296875 \r\nQ 48.6875 37.203125 44.609375 42.84375 \r\nQ 40.53125 48.484375 33.40625 48.484375 \r\nQ 26.265625 48.484375 22.1875 42.84375 \r\nQ 18.109375 37.203125 18.109375 27.296875 \r\nQ 18.109375 17.390625 22.1875 11.75 \r\nQ 26.265625 6.109375 33.40625 6.109375 \r\nQ 40.53125 6.109375 44.609375 11.75 \r\nQ 48.6875 17.390625 48.6875 27.296875 \r\nz\r\n\" id=\"DejaVuSans-112\"/>\r\n        <path d=\"M 18.3125 70.21875 \r\nL 18.3125 54.6875 \r\nL 36.8125 54.6875 \r\nL 36.8125 47.703125 \r\nL 18.3125 47.703125 \r\nL 18.3125 18.015625 \r\nQ 18.3125 11.328125 20.140625 9.421875 \r\nQ 21.96875 7.515625 27.59375 7.515625 \r\nL 36.8125 7.515625 \r\nL 36.8125 0 \r\nL 27.59375 0 \r\nQ 17.1875 0 13.234375 3.875 \r\nQ 9.28125 7.765625 9.28125 18.015625 \r\nL 9.28125 47.703125 \r\nL 2.6875 47.703125 \r\nL 2.6875 54.6875 \r\nL 9.28125 54.6875 \r\nL 9.28125 70.21875 \r\nz\r\n\" id=\"DejaVuSans-116\"/>\r\n        <path d=\"M 32.171875 -5.078125 \r\nQ 28.375 -14.84375 24.75 -17.8125 \r\nQ 21.140625 -20.796875 15.09375 -20.796875 \r\nL 7.90625 -20.796875 \r\nL 7.90625 -13.28125 \r\nL 13.1875 -13.28125 \r\nQ 16.890625 -13.28125 18.9375 -11.515625 \r\nQ 21 -9.765625 23.484375 -3.21875 \r\nL 25.09375 0.875 \r\nL 2.984375 54.6875 \r\nL 12.5 54.6875 \r\nL 29.59375 11.921875 \r\nL 46.6875 54.6875 \r\nL 56.203125 54.6875 \r\nz\r\n\" id=\"DejaVuSans-121\"/>\r\n       </defs>\r\n       <use xlink:href=\"#DejaVuSans-69\"/>\r\n       <use x=\"63.183594\" xlink:href=\"#DejaVuSans-109\"/>\r\n       <use x=\"160.595703\" xlink:href=\"#DejaVuSans-112\"/>\r\n       <use x=\"224.072266\" xlink:href=\"#DejaVuSans-116\"/>\r\n       <use x=\"263.28125\" xlink:href=\"#DejaVuSans-121\"/>\r\n      </g>\r\n     </g>\r\n    </g>\r\n    <g id=\"ytick_2\">\r\n     <g id=\"line2d_7\">\r\n      <g>\r\n       <use style=\"stroke:#000000;stroke-width:0.8;\" x=\"72.8\" xlink:href=\"#m0a8e26aa64\" y=\"76.678125\"/>\r\n      </g>\r\n     </g>\r\n     <g id=\"text_8\">\r\n      <!-- 0-20% -->\r\n      <g transform=\"translate(33.603125 80.477344)scale(0.1 -0.1)\">\r\n       <defs>\r\n        <path d=\"M 31.78125 66.40625 \r\nQ 24.171875 66.40625 20.328125 58.90625 \r\nQ 16.5 51.421875 16.5 36.375 \r\nQ 16.5 21.390625 20.328125 13.890625 \r\nQ 24.171875 6.390625 31.78125 6.390625 \r\nQ 39.453125 6.390625 43.28125 13.890625 \r\nQ 47.125 21.390625 47.125 36.375 \r\nQ 47.125 51.421875 43.28125 58.90625 \r\nQ 39.453125 66.40625 31.78125 66.40625 \r\nz\r\nM 31.78125 74.21875 \r\nQ 44.046875 74.21875 50.515625 64.515625 \r\nQ 56.984375 54.828125 56.984375 36.375 \r\nQ 56.984375 17.96875 50.515625 8.265625 \r\nQ 44.046875 -1.421875 31.78125 -1.421875 \r\nQ 19.53125 -1.421875 13.0625 8.265625 \r\nQ 6.59375 17.96875 6.59375 36.375 \r\nQ 6.59375 54.828125 13.0625 64.515625 \r\nQ 19.53125 74.21875 31.78125 74.21875 \r\nz\r\n\" id=\"DejaVuSans-48\"/>\r\n        <path d=\"M 72.703125 32.078125 \r\nQ 68.453125 32.078125 66.03125 28.46875 \r\nQ 63.625 24.859375 63.625 18.40625 \r\nQ 63.625 12.0625 66.03125 8.421875 \r\nQ 68.453125 4.78125 72.703125 4.78125 \r\nQ 76.859375 4.78125 79.265625 8.421875 \r\nQ 81.6875 12.0625 81.6875 18.40625 \r\nQ 81.6875 24.8125 79.265625 28.4375 \r\nQ 76.859375 32.078125 72.703125 32.078125 \r\nz\r\nM 72.703125 38.28125 \r\nQ 80.421875 38.28125 84.953125 32.90625 \r\nQ 89.5 27.546875 89.5 18.40625 \r\nQ 89.5 9.28125 84.9375 3.921875 \r\nQ 80.375 -1.421875 72.703125 -1.421875 \r\nQ 64.890625 -1.421875 60.34375 3.921875 \r\nQ 55.8125 9.28125 55.8125 18.40625 \r\nQ 55.8125 27.59375 60.375 32.9375 \r\nQ 64.9375 38.28125 72.703125 38.28125 \r\nz\r\nM 22.3125 68.015625 \r\nQ 18.109375 68.015625 15.6875 64.375 \r\nQ 13.28125 60.75 13.28125 54.390625 \r\nQ 13.28125 47.953125 15.671875 44.328125 \r\nQ 18.0625 40.71875 22.3125 40.71875 \r\nQ 26.5625 40.71875 28.96875 44.328125 \r\nQ 31.390625 47.953125 31.390625 54.390625 \r\nQ 31.390625 60.6875 28.953125 64.34375 \r\nQ 26.515625 68.015625 22.3125 68.015625 \r\nz\r\nM 66.40625 74.21875 \r\nL 74.21875 74.21875 \r\nL 28.609375 -1.421875 \r\nL 20.796875 -1.421875 \r\nz\r\nM 22.3125 74.21875 \r\nQ 30.03125 74.21875 34.609375 68.875 \r\nQ 39.203125 63.53125 39.203125 54.390625 \r\nQ 39.203125 45.171875 34.640625 39.84375 \r\nQ 30.078125 34.515625 22.3125 34.515625 \r\nQ 14.546875 34.515625 10.03125 39.859375 \r\nQ 5.515625 45.21875 5.515625 54.390625 \r\nQ 5.515625 63.484375 10.046875 68.84375 \r\nQ 14.59375 74.21875 22.3125 74.21875 \r\nz\r\n\" id=\"DejaVuSans-37\"/>\r\n       </defs>\r\n       <use xlink:href=\"#DejaVuSans-48\"/>\r\n       <use x=\"63.623047\" xlink:href=\"#DejaVuSans-45\"/>\r\n       <use x=\"99.707031\" xlink:href=\"#DejaVuSans-50\"/>\r\n       <use x=\"163.330078\" xlink:href=\"#DejaVuSans-48\"/>\r\n       <use x=\"226.953125\" xlink:href=\"#DejaVuSans-37\"/>\r\n      </g>\r\n     </g>\r\n    </g>\r\n    <g id=\"ytick_3\">\r\n     <g id=\"line2d_8\">\r\n      <g>\r\n       <use style=\"stroke:#000000;stroke-width:0.8;\" x=\"72.8\" xlink:href=\"#m0a8e26aa64\" y=\"112.918125\"/>\r\n      </g>\r\n     </g>\r\n     <g id=\"text_9\">\r\n      <!-- 20-40% -->\r\n      <g transform=\"translate(27.240625 116.717344)scale(0.1 -0.1)\">\r\n       <use xlink:href=\"#DejaVuSans-50\"/>\r\n       <use x=\"63.623047\" xlink:href=\"#DejaVuSans-48\"/>\r\n       <use x=\"127.246094\" xlink:href=\"#DejaVuSans-45\"/>\r\n       <use x=\"163.330078\" xlink:href=\"#DejaVuSans-52\"/>\r\n       <use x=\"226.953125\" xlink:href=\"#DejaVuSans-48\"/>\r\n       <use x=\"290.576172\" xlink:href=\"#DejaVuSans-37\"/>\r\n      </g>\r\n     </g>\r\n    </g>\r\n    <g id=\"ytick_4\">\r\n     <g id=\"line2d_9\">\r\n      <g>\r\n       <use style=\"stroke:#000000;stroke-width:0.8;\" x=\"72.8\" xlink:href=\"#m0a8e26aa64\" y=\"149.158125\"/>\r\n      </g>\r\n     </g>\r\n     <g id=\"text_10\">\r\n      <!-- 40-60% -->\r\n      <g transform=\"translate(27.240625 152.957344)scale(0.1 -0.1)\">\r\n       <defs>\r\n        <path d=\"M 33.015625 40.375 \r\nQ 26.375 40.375 22.484375 35.828125 \r\nQ 18.609375 31.296875 18.609375 23.390625 \r\nQ 18.609375 15.53125 22.484375 10.953125 \r\nQ 26.375 6.390625 33.015625 6.390625 \r\nQ 39.65625 6.390625 43.53125 10.953125 \r\nQ 47.40625 15.53125 47.40625 23.390625 \r\nQ 47.40625 31.296875 43.53125 35.828125 \r\nQ 39.65625 40.375 33.015625 40.375 \r\nz\r\nM 52.59375 71.296875 \r\nL 52.59375 62.3125 \r\nQ 48.875 64.0625 45.09375 64.984375 \r\nQ 41.3125 65.921875 37.59375 65.921875 \r\nQ 27.828125 65.921875 22.671875 59.328125 \r\nQ 17.53125 52.734375 16.796875 39.40625 \r\nQ 19.671875 43.65625 24.015625 45.921875 \r\nQ 28.375 48.1875 33.59375 48.1875 \r\nQ 44.578125 48.1875 50.953125 41.515625 \r\nQ 57.328125 34.859375 57.328125 23.390625 \r\nQ 57.328125 12.15625 50.6875 5.359375 \r\nQ 44.046875 -1.421875 33.015625 -1.421875 \r\nQ 20.359375 -1.421875 13.671875 8.265625 \r\nQ 6.984375 17.96875 6.984375 36.375 \r\nQ 6.984375 53.65625 15.1875 63.9375 \r\nQ 23.390625 74.21875 37.203125 74.21875 \r\nQ 40.921875 74.21875 44.703125 73.484375 \r\nQ 48.484375 72.75 52.59375 71.296875 \r\nz\r\n\" id=\"DejaVuSans-54\"/>\r\n       </defs>\r\n       <use xlink:href=\"#DejaVuSans-52\"/>\r\n       <use x=\"63.623047\" xlink:href=\"#DejaVuSans-48\"/>\r\n       <use x=\"127.246094\" xlink:href=\"#DejaVuSans-45\"/>\r\n       <use x=\"163.330078\" xlink:href=\"#DejaVuSans-54\"/>\r\n       <use x=\"226.953125\" xlink:href=\"#DejaVuSans-48\"/>\r\n       <use x=\"290.576172\" xlink:href=\"#DejaVuSans-37\"/>\r\n      </g>\r\n     </g>\r\n    </g>\r\n    <g id=\"ytick_5\">\r\n     <g id=\"line2d_10\">\r\n      <g>\r\n       <use style=\"stroke:#000000;stroke-width:0.8;\" x=\"72.8\" xlink:href=\"#m0a8e26aa64\" y=\"185.398125\"/>\r\n      </g>\r\n     </g>\r\n     <g id=\"text_11\">\r\n      <!-- 60-80% -->\r\n      <g transform=\"translate(27.240625 189.197344)scale(0.1 -0.1)\">\r\n       <defs>\r\n        <path d=\"M 31.78125 34.625 \r\nQ 24.75 34.625 20.71875 30.859375 \r\nQ 16.703125 27.09375 16.703125 20.515625 \r\nQ 16.703125 13.921875 20.71875 10.15625 \r\nQ 24.75 6.390625 31.78125 6.390625 \r\nQ 38.8125 6.390625 42.859375 10.171875 \r\nQ 46.921875 13.96875 46.921875 20.515625 \r\nQ 46.921875 27.09375 42.890625 30.859375 \r\nQ 38.875 34.625 31.78125 34.625 \r\nz\r\nM 21.921875 38.8125 \r\nQ 15.578125 40.375 12.03125 44.71875 \r\nQ 8.5 49.078125 8.5 55.328125 \r\nQ 8.5 64.0625 14.71875 69.140625 \r\nQ 20.953125 74.21875 31.78125 74.21875 \r\nQ 42.671875 74.21875 48.875 69.140625 \r\nQ 55.078125 64.0625 55.078125 55.328125 \r\nQ 55.078125 49.078125 51.53125 44.71875 \r\nQ 48 40.375 41.703125 38.8125 \r\nQ 48.828125 37.15625 52.796875 32.3125 \r\nQ 56.78125 27.484375 56.78125 20.515625 \r\nQ 56.78125 9.90625 50.3125 4.234375 \r\nQ 43.84375 -1.421875 31.78125 -1.421875 \r\nQ 19.734375 -1.421875 13.25 4.234375 \r\nQ 6.78125 9.90625 6.78125 20.515625 \r\nQ 6.78125 27.484375 10.78125 32.3125 \r\nQ 14.796875 37.15625 21.921875 38.8125 \r\nz\r\nM 18.3125 54.390625 \r\nQ 18.3125 48.734375 21.84375 45.5625 \r\nQ 25.390625 42.390625 31.78125 42.390625 \r\nQ 38.140625 42.390625 41.71875 45.5625 \r\nQ 45.3125 48.734375 45.3125 54.390625 \r\nQ 45.3125 60.0625 41.71875 63.234375 \r\nQ 38.140625 66.40625 31.78125 66.40625 \r\nQ 25.390625 66.40625 21.84375 63.234375 \r\nQ 18.3125 60.0625 18.3125 54.390625 \r\nz\r\n\" id=\"DejaVuSans-56\"/>\r\n       </defs>\r\n       <use xlink:href=\"#DejaVuSans-54\"/>\r\n       <use x=\"63.623047\" xlink:href=\"#DejaVuSans-48\"/>\r\n       <use x=\"127.246094\" xlink:href=\"#DejaVuSans-45\"/>\r\n       <use x=\"163.330078\" xlink:href=\"#DejaVuSans-56\"/>\r\n       <use x=\"226.953125\" xlink:href=\"#DejaVuSans-48\"/>\r\n       <use x=\"290.576172\" xlink:href=\"#DejaVuSans-37\"/>\r\n      </g>\r\n     </g>\r\n    </g>\r\n    <g id=\"ytick_6\">\r\n     <g id=\"line2d_11\">\r\n      <g>\r\n       <use style=\"stroke:#000000;stroke-width:0.8;\" x=\"72.8\" xlink:href=\"#m0a8e26aa64\" y=\"221.638125\"/>\r\n      </g>\r\n     </g>\r\n     <g id=\"text_12\">\r\n      <!-- 80-100% -->\r\n      <g transform=\"translate(20.878125 225.437344)scale(0.1 -0.1)\">\r\n       <use xlink:href=\"#DejaVuSans-56\"/>\r\n       <use x=\"63.623047\" xlink:href=\"#DejaVuSans-48\"/>\r\n       <use x=\"127.246094\" xlink:href=\"#DejaVuSans-45\"/>\r\n       <use x=\"163.330078\" xlink:href=\"#DejaVuSans-49\"/>\r\n       <use x=\"226.953125\" xlink:href=\"#DejaVuSans-48\"/>\r\n       <use x=\"290.576172\" xlink:href=\"#DejaVuSans-48\"/>\r\n       <use x=\"354.199219\" xlink:href=\"#DejaVuSans-37\"/>\r\n      </g>\r\n     </g>\r\n    </g>\r\n    <g id=\"text_13\">\r\n     <!-- %upvote -->\r\n     <g transform=\"translate(14.798438 153.187344)rotate(-90)scale(0.1 -0.1)\">\r\n      <defs>\r\n       <path d=\"M 8.5 21.578125 \r\nL 8.5 54.6875 \r\nL 17.484375 54.6875 \r\nL 17.484375 21.921875 \r\nQ 17.484375 14.15625 20.5 10.265625 \r\nQ 23.53125 6.390625 29.59375 6.390625 \r\nQ 36.859375 6.390625 41.078125 11.03125 \r\nQ 45.3125 15.671875 45.3125 23.6875 \r\nL 45.3125 54.6875 \r\nL 54.296875 54.6875 \r\nL 54.296875 0 \r\nL 45.3125 0 \r\nL 45.3125 8.40625 \r\nQ 42.046875 3.421875 37.71875 1 \r\nQ 33.40625 -1.421875 27.6875 -1.421875 \r\nQ 18.265625 -1.421875 13.375 4.4375 \r\nQ 8.5 10.296875 8.5 21.578125 \r\nz\r\nM 31.109375 56 \r\nz\r\n\" id=\"DejaVuSans-117\"/>\r\n       <path d=\"M 2.984375 54.6875 \r\nL 12.5 54.6875 \r\nL 29.59375 8.796875 \r\nL 46.6875 54.6875 \r\nL 56.203125 54.6875 \r\nL 35.6875 0 \r\nL 23.484375 0 \r\nz\r\n\" id=\"DejaVuSans-118\"/>\r\n      </defs>\r\n      <use xlink:href=\"#DejaVuSans-37\"/>\r\n      <use x=\"95.019531\" xlink:href=\"#DejaVuSans-117\"/>\r\n      <use x=\"158.398438\" xlink:href=\"#DejaVuSans-112\"/>\r\n      <use x=\"221.875\" xlink:href=\"#DejaVuSans-118\"/>\r\n      <use x=\"281.054688\" xlink:href=\"#DejaVuSans-111\"/>\r\n      <use x=\"342.236328\" xlink:href=\"#DejaVuSans-116\"/>\r\n      <use x=\"381.445312\" xlink:href=\"#DejaVuSans-101\"/>\r\n     </g>\r\n    </g>\r\n   </g>\r\n   <g id=\"text_14\">\r\n    <!-- 8.1e+03 -->\r\n    <g style=\"fill:#262626;\" transform=\"translate(78.003531 43.1975)scale(0.1 -0.1)\">\r\n     <defs>\r\n      <path d=\"M 10.6875 12.40625 \r\nL 21 12.40625 \r\nL 21 0 \r\nL 10.6875 0 \r\nz\r\n\" id=\"DejaVuSans-46\"/>\r\n      <path d=\"M 46 62.703125 \r\nL 46 35.5 \r\nL 73.1875 35.5 \r\nL 73.1875 27.203125 \r\nL 46 27.203125 \r\nL 46 0 \r\nL 37.796875 0 \r\nL 37.796875 27.203125 \r\nL 10.59375 27.203125 \r\nL 10.59375 35.5 \r\nL 37.796875 35.5 \r\nL 37.796875 62.703125 \r\nz\r\n\" id=\"DejaVuSans-43\"/>\r\n     </defs>\r\n     <use xlink:href=\"#DejaVuSans-56\"/>\r\n     <use x=\"63.623047\" xlink:href=\"#DejaVuSans-46\"/>\r\n     <use x=\"95.410156\" xlink:href=\"#DejaVuSans-49\"/>\r\n     <use x=\"159.033203\" xlink:href=\"#DejaVuSans-101\"/>\r\n     <use x=\"220.556641\" xlink:href=\"#DejaVuSans-43\"/>\r\n     <use x=\"304.345703\" xlink:href=\"#DejaVuSans-48\"/>\r\n     <use x=\"367.96875\" xlink:href=\"#DejaVuSans-51\"/>\r\n    </g>\r\n   </g>\r\n   <g id=\"text_15\">\r\n    <!-- 4.2e+03 -->\r\n    <g style=\"fill:#262626;\" transform=\"translate(131.571531 43.1975)scale(0.1 -0.1)\">\r\n     <use xlink:href=\"#DejaVuSans-52\"/>\r\n     <use x=\"63.623047\" xlink:href=\"#DejaVuSans-46\"/>\r\n     <use x=\"95.410156\" xlink:href=\"#DejaVuSans-50\"/>\r\n     <use x=\"159.033203\" xlink:href=\"#DejaVuSans-101\"/>\r\n     <use x=\"220.556641\" xlink:href=\"#DejaVuSans-43\"/>\r\n     <use x=\"304.345703\" xlink:href=\"#DejaVuSans-48\"/>\r\n     <use x=\"367.96875\" xlink:href=\"#DejaVuSans-51\"/>\r\n    </g>\r\n   </g>\r\n   <g id=\"text_16\">\r\n    <!-- 5.1e+03 -->\r\n    <g style=\"fill:#262626;\" transform=\"translate(185.139531 43.1975)scale(0.1 -0.1)\">\r\n     <use xlink:href=\"#DejaVuSans-53\"/>\r\n     <use x=\"63.623047\" xlink:href=\"#DejaVuSans-46\"/>\r\n     <use x=\"95.410156\" xlink:href=\"#DejaVuSans-49\"/>\r\n     <use x=\"159.033203\" xlink:href=\"#DejaVuSans-101\"/>\r\n     <use x=\"220.556641\" xlink:href=\"#DejaVuSans-43\"/>\r\n     <use x=\"304.345703\" xlink:href=\"#DejaVuSans-48\"/>\r\n     <use x=\"367.96875\" xlink:href=\"#DejaVuSans-51\"/>\r\n    </g>\r\n   </g>\r\n   <g id=\"text_17\">\r\n    <!-- 4.8e+03 -->\r\n    <g style=\"fill:#262626;\" transform=\"translate(238.707531 43.1975)scale(0.1 -0.1)\">\r\n     <use xlink:href=\"#DejaVuSans-52\"/>\r\n     <use x=\"63.623047\" xlink:href=\"#DejaVuSans-46\"/>\r\n     <use x=\"95.410156\" xlink:href=\"#DejaVuSans-56\"/>\r\n     <use x=\"159.033203\" xlink:href=\"#DejaVuSans-101\"/>\r\n     <use x=\"220.556641\" xlink:href=\"#DejaVuSans-43\"/>\r\n     <use x=\"304.345703\" xlink:href=\"#DejaVuSans-48\"/>\r\n     <use x=\"367.96875\" xlink:href=\"#DejaVuSans-51\"/>\r\n    </g>\r\n   </g>\r\n   <g id=\"text_18\">\r\n    <!-- 1.2e+04 -->\r\n    <g style=\"fill:#262626;\" transform=\"translate(292.275531 43.1975)scale(0.1 -0.1)\">\r\n     <use xlink:href=\"#DejaVuSans-49\"/>\r\n     <use x=\"63.623047\" xlink:href=\"#DejaVuSans-46\"/>\r\n     <use x=\"95.410156\" xlink:href=\"#DejaVuSans-50\"/>\r\n     <use x=\"159.033203\" xlink:href=\"#DejaVuSans-101\"/>\r\n     <use x=\"220.556641\" xlink:href=\"#DejaVuSans-43\"/>\r\n     <use x=\"304.345703\" xlink:href=\"#DejaVuSans-48\"/>\r\n     <use x=\"367.96875\" xlink:href=\"#DejaVuSans-52\"/>\r\n    </g>\r\n   </g>\r\n   <g id=\"text_19\">\r\n    <!-- 2.3e+03 -->\r\n    <g style=\"fill:#262626;\" transform=\"translate(78.003531 79.4375)scale(0.1 -0.1)\">\r\n     <use xlink:href=\"#DejaVuSans-50\"/>\r\n     <use x=\"63.623047\" xlink:href=\"#DejaVuSans-46\"/>\r\n     <use x=\"95.410156\" xlink:href=\"#DejaVuSans-51\"/>\r\n     <use x=\"159.033203\" xlink:href=\"#DejaVuSans-101\"/>\r\n     <use x=\"220.556641\" xlink:href=\"#DejaVuSans-43\"/>\r\n     <use x=\"304.345703\" xlink:href=\"#DejaVuSans-48\"/>\r\n     <use x=\"367.96875\" xlink:href=\"#DejaVuSans-51\"/>\r\n    </g>\r\n   </g>\r\n   <g id=\"text_20\">\r\n    <!-- 7.6e+02 -->\r\n    <g style=\"fill:#262626;\" transform=\"translate(131.571531 79.4375)scale(0.1 -0.1)\">\r\n     <defs>\r\n      <path d=\"M 8.203125 72.90625 \r\nL 55.078125 72.90625 \r\nL 55.078125 68.703125 \r\nL 28.609375 0 \r\nL 18.3125 0 \r\nL 43.21875 64.59375 \r\nL 8.203125 64.59375 \r\nz\r\n\" id=\"DejaVuSans-55\"/>\r\n     </defs>\r\n     <use xlink:href=\"#DejaVuSans-55\"/>\r\n     <use x=\"63.623047\" xlink:href=\"#DejaVuSans-46\"/>\r\n     <use x=\"95.410156\" xlink:href=\"#DejaVuSans-54\"/>\r\n     <use x=\"159.033203\" xlink:href=\"#DejaVuSans-101\"/>\r\n     <use x=\"220.556641\" xlink:href=\"#DejaVuSans-43\"/>\r\n     <use x=\"304.345703\" xlink:href=\"#DejaVuSans-48\"/>\r\n     <use x=\"367.96875\" xlink:href=\"#DejaVuSans-50\"/>\r\n    </g>\r\n   </g>\r\n   <g id=\"text_21\">\r\n    <!-- 4.7e+02 -->\r\n    <g style=\"fill:#262626;\" transform=\"translate(185.139531 79.4375)scale(0.1 -0.1)\">\r\n     <use xlink:href=\"#DejaVuSans-52\"/>\r\n     <use x=\"63.623047\" xlink:href=\"#DejaVuSans-46\"/>\r\n     <use x=\"95.410156\" xlink:href=\"#DejaVuSans-55\"/>\r\n     <use x=\"159.033203\" xlink:href=\"#DejaVuSans-101\"/>\r\n     <use x=\"220.556641\" xlink:href=\"#DejaVuSans-43\"/>\r\n     <use x=\"304.345703\" xlink:href=\"#DejaVuSans-48\"/>\r\n     <use x=\"367.96875\" xlink:href=\"#DejaVuSans-50\"/>\r\n    </g>\r\n   </g>\r\n   <g id=\"text_22\">\r\n    <!-- 1.2e+02 -->\r\n    <g style=\"fill:#262626;\" transform=\"translate(238.707531 79.4375)scale(0.1 -0.1)\">\r\n     <use xlink:href=\"#DejaVuSans-49\"/>\r\n     <use x=\"63.623047\" xlink:href=\"#DejaVuSans-46\"/>\r\n     <use x=\"95.410156\" xlink:href=\"#DejaVuSans-50\"/>\r\n     <use x=\"159.033203\" xlink:href=\"#DejaVuSans-101\"/>\r\n     <use x=\"220.556641\" xlink:href=\"#DejaVuSans-43\"/>\r\n     <use x=\"304.345703\" xlink:href=\"#DejaVuSans-48\"/>\r\n     <use x=\"367.96875\" xlink:href=\"#DejaVuSans-50\"/>\r\n    </g>\r\n   </g>\r\n   <g id=\"text_23\">\r\n    <!-- 4.3e+02 -->\r\n    <g style=\"fill:#262626;\" transform=\"translate(292.275531 79.4375)scale(0.1 -0.1)\">\r\n     <use xlink:href=\"#DejaVuSans-52\"/>\r\n     <use x=\"63.623047\" xlink:href=\"#DejaVuSans-46\"/>\r\n     <use x=\"95.410156\" xlink:href=\"#DejaVuSans-51\"/>\r\n     <use x=\"159.033203\" xlink:href=\"#DejaVuSans-101\"/>\r\n     <use x=\"220.556641\" xlink:href=\"#DejaVuSans-43\"/>\r\n     <use x=\"304.345703\" xlink:href=\"#DejaVuSans-48\"/>\r\n     <use x=\"367.96875\" xlink:href=\"#DejaVuSans-50\"/>\r\n    </g>\r\n   </g>\r\n   <g id=\"text_24\">\r\n    <!-- 4.6e+03 -->\r\n    <g style=\"fill:#262626;\" transform=\"translate(78.003531 115.6775)scale(0.1 -0.1)\">\r\n     <use xlink:href=\"#DejaVuSans-52\"/>\r\n     <use x=\"63.623047\" xlink:href=\"#DejaVuSans-46\"/>\r\n     <use x=\"95.410156\" xlink:href=\"#DejaVuSans-54\"/>\r\n     <use x=\"159.033203\" xlink:href=\"#DejaVuSans-101\"/>\r\n     <use x=\"220.556641\" xlink:href=\"#DejaVuSans-43\"/>\r\n     <use x=\"304.345703\" xlink:href=\"#DejaVuSans-48\"/>\r\n     <use x=\"367.96875\" xlink:href=\"#DejaVuSans-51\"/>\r\n    </g>\r\n   </g>\r\n   <g id=\"text_25\">\r\n    <!-- 1.6e+03 -->\r\n    <g style=\"fill:#262626;\" transform=\"translate(131.571531 115.6775)scale(0.1 -0.1)\">\r\n     <use xlink:href=\"#DejaVuSans-49\"/>\r\n     <use x=\"63.623047\" xlink:href=\"#DejaVuSans-46\"/>\r\n     <use x=\"95.410156\" xlink:href=\"#DejaVuSans-54\"/>\r\n     <use x=\"159.033203\" xlink:href=\"#DejaVuSans-101\"/>\r\n     <use x=\"220.556641\" xlink:href=\"#DejaVuSans-43\"/>\r\n     <use x=\"304.345703\" xlink:href=\"#DejaVuSans-48\"/>\r\n     <use x=\"367.96875\" xlink:href=\"#DejaVuSans-51\"/>\r\n    </g>\r\n   </g>\r\n   <g id=\"text_26\">\r\n    <!-- 1.5e+03 -->\r\n    <g style=\"fill:#262626;\" transform=\"translate(185.139531 115.6775)scale(0.1 -0.1)\">\r\n     <use xlink:href=\"#DejaVuSans-49\"/>\r\n     <use x=\"63.623047\" xlink:href=\"#DejaVuSans-46\"/>\r\n     <use x=\"95.410156\" xlink:href=\"#DejaVuSans-53\"/>\r\n     <use x=\"159.033203\" xlink:href=\"#DejaVuSans-101\"/>\r\n     <use x=\"220.556641\" xlink:href=\"#DejaVuSans-43\"/>\r\n     <use x=\"304.345703\" xlink:href=\"#DejaVuSans-48\"/>\r\n     <use x=\"367.96875\" xlink:href=\"#DejaVuSans-51\"/>\r\n    </g>\r\n   </g>\r\n   <g id=\"text_27\">\r\n    <!-- 9.1e+02 -->\r\n    <g style=\"fill:#262626;\" transform=\"translate(238.707531 115.6775)scale(0.1 -0.1)\">\r\n     <defs>\r\n      <path d=\"M 10.984375 1.515625 \r\nL 10.984375 10.5 \r\nQ 14.703125 8.734375 18.5 7.8125 \r\nQ 22.3125 6.890625 25.984375 6.890625 \r\nQ 35.75 6.890625 40.890625 13.453125 \r\nQ 46.046875 20.015625 46.78125 33.40625 \r\nQ 43.953125 29.203125 39.59375 26.953125 \r\nQ 35.25 24.703125 29.984375 24.703125 \r\nQ 19.046875 24.703125 12.671875 31.3125 \r\nQ 6.296875 37.9375 6.296875 49.421875 \r\nQ 6.296875 60.640625 12.9375 67.421875 \r\nQ 19.578125 74.21875 30.609375 74.21875 \r\nQ 43.265625 74.21875 49.921875 64.515625 \r\nQ 56.59375 54.828125 56.59375 36.375 \r\nQ 56.59375 19.140625 48.40625 8.859375 \r\nQ 40.234375 -1.421875 26.421875 -1.421875 \r\nQ 22.703125 -1.421875 18.890625 -0.6875 \r\nQ 15.09375 0.046875 10.984375 1.515625 \r\nz\r\nM 30.609375 32.421875 \r\nQ 37.25 32.421875 41.125 36.953125 \r\nQ 45.015625 41.5 45.015625 49.421875 \r\nQ 45.015625 57.28125 41.125 61.84375 \r\nQ 37.25 66.40625 30.609375 66.40625 \r\nQ 23.96875 66.40625 20.09375 61.84375 \r\nQ 16.21875 57.28125 16.21875 49.421875 \r\nQ 16.21875 41.5 20.09375 36.953125 \r\nQ 23.96875 32.421875 30.609375 32.421875 \r\nz\r\n\" id=\"DejaVuSans-57\"/>\r\n     </defs>\r\n     <use xlink:href=\"#DejaVuSans-57\"/>\r\n     <use x=\"63.623047\" xlink:href=\"#DejaVuSans-46\"/>\r\n     <use x=\"95.410156\" xlink:href=\"#DejaVuSans-49\"/>\r\n     <use x=\"159.033203\" xlink:href=\"#DejaVuSans-101\"/>\r\n     <use x=\"220.556641\" xlink:href=\"#DejaVuSans-43\"/>\r\n     <use x=\"304.345703\" xlink:href=\"#DejaVuSans-48\"/>\r\n     <use x=\"367.96875\" xlink:href=\"#DejaVuSans-50\"/>\r\n    </g>\r\n   </g>\r\n   <g id=\"text_28\">\r\n    <!-- 2.3e+03 -->\r\n    <g style=\"fill:#262626;\" transform=\"translate(292.275531 115.6775)scale(0.1 -0.1)\">\r\n     <use xlink:href=\"#DejaVuSans-50\"/>\r\n     <use x=\"63.623047\" xlink:href=\"#DejaVuSans-46\"/>\r\n     <use x=\"95.410156\" xlink:href=\"#DejaVuSans-51\"/>\r\n     <use x=\"159.033203\" xlink:href=\"#DejaVuSans-101\"/>\r\n     <use x=\"220.556641\" xlink:href=\"#DejaVuSans-43\"/>\r\n     <use x=\"304.345703\" xlink:href=\"#DejaVuSans-48\"/>\r\n     <use x=\"367.96875\" xlink:href=\"#DejaVuSans-51\"/>\r\n    </g>\r\n   </g>\r\n   <g id=\"text_29\">\r\n    <!-- 6.6e+03 -->\r\n    <g style=\"fill:#262626;\" transform=\"translate(78.003531 151.9175)scale(0.1 -0.1)\">\r\n     <use xlink:href=\"#DejaVuSans-54\"/>\r\n     <use x=\"63.623047\" xlink:href=\"#DejaVuSans-46\"/>\r\n     <use x=\"95.410156\" xlink:href=\"#DejaVuSans-54\"/>\r\n     <use x=\"159.033203\" xlink:href=\"#DejaVuSans-101\"/>\r\n     <use x=\"220.556641\" xlink:href=\"#DejaVuSans-43\"/>\r\n     <use x=\"304.345703\" xlink:href=\"#DejaVuSans-48\"/>\r\n     <use x=\"367.96875\" xlink:href=\"#DejaVuSans-51\"/>\r\n    </g>\r\n   </g>\r\n   <g id=\"text_30\">\r\n    <!-- 3.1e+03 -->\r\n    <g style=\"fill:#262626;\" transform=\"translate(131.571531 151.9175)scale(0.1 -0.1)\">\r\n     <use xlink:href=\"#DejaVuSans-51\"/>\r\n     <use x=\"63.623047\" xlink:href=\"#DejaVuSans-46\"/>\r\n     <use x=\"95.410156\" xlink:href=\"#DejaVuSans-49\"/>\r\n     <use x=\"159.033203\" xlink:href=\"#DejaVuSans-101\"/>\r\n     <use x=\"220.556641\" xlink:href=\"#DejaVuSans-43\"/>\r\n     <use x=\"304.345703\" xlink:href=\"#DejaVuSans-48\"/>\r\n     <use x=\"367.96875\" xlink:href=\"#DejaVuSans-51\"/>\r\n    </g>\r\n   </g>\r\n   <g id=\"text_31\">\r\n    <!-- 3.4e+03 -->\r\n    <g style=\"fill:#262626;\" transform=\"translate(185.139531 151.9175)scale(0.1 -0.1)\">\r\n     <use xlink:href=\"#DejaVuSans-51\"/>\r\n     <use x=\"63.623047\" xlink:href=\"#DejaVuSans-46\"/>\r\n     <use x=\"95.410156\" xlink:href=\"#DejaVuSans-52\"/>\r\n     <use x=\"159.033203\" xlink:href=\"#DejaVuSans-101\"/>\r\n     <use x=\"220.556641\" xlink:href=\"#DejaVuSans-43\"/>\r\n     <use x=\"304.345703\" xlink:href=\"#DejaVuSans-48\"/>\r\n     <use x=\"367.96875\" xlink:href=\"#DejaVuSans-51\"/>\r\n    </g>\r\n   </g>\r\n   <g id=\"text_32\">\r\n    <!-- 3.2e+03 -->\r\n    <g style=\"fill:#262626;\" transform=\"translate(238.707531 151.9175)scale(0.1 -0.1)\">\r\n     <use xlink:href=\"#DejaVuSans-51\"/>\r\n     <use x=\"63.623047\" xlink:href=\"#DejaVuSans-46\"/>\r\n     <use x=\"95.410156\" xlink:href=\"#DejaVuSans-50\"/>\r\n     <use x=\"159.033203\" xlink:href=\"#DejaVuSans-101\"/>\r\n     <use x=\"220.556641\" xlink:href=\"#DejaVuSans-43\"/>\r\n     <use x=\"304.345703\" xlink:href=\"#DejaVuSans-48\"/>\r\n     <use x=\"367.96875\" xlink:href=\"#DejaVuSans-51\"/>\r\n    </g>\r\n   </g>\r\n   <g id=\"text_33\">\r\n    <!-- 1e+04 -->\r\n    <g style=\"fill:#262626;\" transform=\"translate(297.045844 151.9175)scale(0.1 -0.1)\">\r\n     <use xlink:href=\"#DejaVuSans-49\"/>\r\n     <use x=\"63.623047\" xlink:href=\"#DejaVuSans-101\"/>\r\n     <use x=\"125.146484\" xlink:href=\"#DejaVuSans-43\"/>\r\n     <use x=\"208.935547\" xlink:href=\"#DejaVuSans-48\"/>\r\n     <use x=\"272.558594\" xlink:href=\"#DejaVuSans-52\"/>\r\n    </g>\r\n   </g>\r\n   <g id=\"text_34\">\r\n    <!-- 5.8e+03 -->\r\n    <g style=\"fill:#262626;\" transform=\"translate(78.003531 188.1575)scale(0.1 -0.1)\">\r\n     <use xlink:href=\"#DejaVuSans-53\"/>\r\n     <use x=\"63.623047\" xlink:href=\"#DejaVuSans-46\"/>\r\n     <use x=\"95.410156\" xlink:href=\"#DejaVuSans-56\"/>\r\n     <use x=\"159.033203\" xlink:href=\"#DejaVuSans-101\"/>\r\n     <use x=\"220.556641\" xlink:href=\"#DejaVuSans-43\"/>\r\n     <use x=\"304.345703\" xlink:href=\"#DejaVuSans-48\"/>\r\n     <use x=\"367.96875\" xlink:href=\"#DejaVuSans-51\"/>\r\n    </g>\r\n   </g>\r\n   <g id=\"text_35\">\r\n    <!-- 2.5e+03 -->\r\n    <g style=\"fill:#262626;\" transform=\"translate(131.571531 188.1575)scale(0.1 -0.1)\">\r\n     <use xlink:href=\"#DejaVuSans-50\"/>\r\n     <use x=\"63.623047\" xlink:href=\"#DejaVuSans-46\"/>\r\n     <use x=\"95.410156\" xlink:href=\"#DejaVuSans-53\"/>\r\n     <use x=\"159.033203\" xlink:href=\"#DejaVuSans-101\"/>\r\n     <use x=\"220.556641\" xlink:href=\"#DejaVuSans-43\"/>\r\n     <use x=\"304.345703\" xlink:href=\"#DejaVuSans-48\"/>\r\n     <use x=\"367.96875\" xlink:href=\"#DejaVuSans-51\"/>\r\n    </g>\r\n   </g>\r\n   <g id=\"text_36\">\r\n    <!-- 2.8e+03 -->\r\n    <g style=\"fill:#262626;\" transform=\"translate(185.139531 188.1575)scale(0.1 -0.1)\">\r\n     <use xlink:href=\"#DejaVuSans-50\"/>\r\n     <use x=\"63.623047\" xlink:href=\"#DejaVuSans-46\"/>\r\n     <use x=\"95.410156\" xlink:href=\"#DejaVuSans-56\"/>\r\n     <use x=\"159.033203\" xlink:href=\"#DejaVuSans-101\"/>\r\n     <use x=\"220.556641\" xlink:href=\"#DejaVuSans-43\"/>\r\n     <use x=\"304.345703\" xlink:href=\"#DejaVuSans-48\"/>\r\n     <use x=\"367.96875\" xlink:href=\"#DejaVuSans-51\"/>\r\n    </g>\r\n   </g>\r\n   <g id=\"text_37\">\r\n    <!-- 2.9e+03 -->\r\n    <g style=\"fill:#262626;\" transform=\"translate(238.707531 188.1575)scale(0.1 -0.1)\">\r\n     <use xlink:href=\"#DejaVuSans-50\"/>\r\n     <use x=\"63.623047\" xlink:href=\"#DejaVuSans-46\"/>\r\n     <use x=\"95.410156\" xlink:href=\"#DejaVuSans-57\"/>\r\n     <use x=\"159.033203\" xlink:href=\"#DejaVuSans-101\"/>\r\n     <use x=\"220.556641\" xlink:href=\"#DejaVuSans-43\"/>\r\n     <use x=\"304.345703\" xlink:href=\"#DejaVuSans-48\"/>\r\n     <use x=\"367.96875\" xlink:href=\"#DejaVuSans-51\"/>\r\n    </g>\r\n   </g>\r\n   <g id=\"text_38\">\r\n    <!-- 1.1e+04 -->\r\n    <g style=\"fill:#262626;\" transform=\"translate(292.275531 188.1575)scale(0.1 -0.1)\">\r\n     <use xlink:href=\"#DejaVuSans-49\"/>\r\n     <use x=\"63.623047\" xlink:href=\"#DejaVuSans-46\"/>\r\n     <use x=\"95.410156\" xlink:href=\"#DejaVuSans-49\"/>\r\n     <use x=\"159.033203\" xlink:href=\"#DejaVuSans-101\"/>\r\n     <use x=\"220.556641\" xlink:href=\"#DejaVuSans-43\"/>\r\n     <use x=\"304.345703\" xlink:href=\"#DejaVuSans-48\"/>\r\n     <use x=\"367.96875\" xlink:href=\"#DejaVuSans-52\"/>\r\n    </g>\r\n   </g>\r\n   <g id=\"text_39\">\r\n    <!-- 1.3e+04 -->\r\n    <g style=\"fill:#262626;\" transform=\"translate(78.003531 224.3975)scale(0.1 -0.1)\">\r\n     <use xlink:href=\"#DejaVuSans-49\"/>\r\n     <use x=\"63.623047\" xlink:href=\"#DejaVuSans-46\"/>\r\n     <use x=\"95.410156\" xlink:href=\"#DejaVuSans-51\"/>\r\n     <use x=\"159.033203\" xlink:href=\"#DejaVuSans-101\"/>\r\n     <use x=\"220.556641\" xlink:href=\"#DejaVuSans-43\"/>\r\n     <use x=\"304.345703\" xlink:href=\"#DejaVuSans-48\"/>\r\n     <use x=\"367.96875\" xlink:href=\"#DejaVuSans-52\"/>\r\n    </g>\r\n   </g>\r\n   <g id=\"text_40\">\r\n    <!-- 7e+03 -->\r\n    <g style=\"fill:#262626;\" transform=\"translate(136.341844 224.3975)scale(0.1 -0.1)\">\r\n     <use xlink:href=\"#DejaVuSans-55\"/>\r\n     <use x=\"63.623047\" xlink:href=\"#DejaVuSans-101\"/>\r\n     <use x=\"125.146484\" xlink:href=\"#DejaVuSans-43\"/>\r\n     <use x=\"208.935547\" xlink:href=\"#DejaVuSans-48\"/>\r\n     <use x=\"272.558594\" xlink:href=\"#DejaVuSans-51\"/>\r\n    </g>\r\n   </g>\r\n   <g id=\"text_41\">\r\n    <!-- 1.1e+04 -->\r\n    <g style=\"fill:#262626;\" transform=\"translate(185.139531 224.3975)scale(0.1 -0.1)\">\r\n     <use xlink:href=\"#DejaVuSans-49\"/>\r\n     <use x=\"63.623047\" xlink:href=\"#DejaVuSans-46\"/>\r\n     <use x=\"95.410156\" xlink:href=\"#DejaVuSans-49\"/>\r\n     <use x=\"159.033203\" xlink:href=\"#DejaVuSans-101\"/>\r\n     <use x=\"220.556641\" xlink:href=\"#DejaVuSans-43\"/>\r\n     <use x=\"304.345703\" xlink:href=\"#DejaVuSans-48\"/>\r\n     <use x=\"367.96875\" xlink:href=\"#DejaVuSans-52\"/>\r\n    </g>\r\n   </g>\r\n   <g id=\"text_42\">\r\n    <!-- 2.7e+04 -->\r\n    <g style=\"fill:#262626;\" transform=\"translate(238.707531 224.3975)scale(0.1 -0.1)\">\r\n     <use xlink:href=\"#DejaVuSans-50\"/>\r\n     <use x=\"63.623047\" xlink:href=\"#DejaVuSans-46\"/>\r\n     <use x=\"95.410156\" xlink:href=\"#DejaVuSans-55\"/>\r\n     <use x=\"159.033203\" xlink:href=\"#DejaVuSans-101\"/>\r\n     <use x=\"220.556641\" xlink:href=\"#DejaVuSans-43\"/>\r\n     <use x=\"304.345703\" xlink:href=\"#DejaVuSans-48\"/>\r\n     <use x=\"367.96875\" xlink:href=\"#DejaVuSans-52\"/>\r\n    </g>\r\n   </g>\r\n   <g id=\"text_43\">\r\n    <!-- 1.4e+05 -->\r\n    <g style=\"fill:#ffffff;\" transform=\"translate(292.275531 224.3975)scale(0.1 -0.1)\">\r\n     <use xlink:href=\"#DejaVuSans-49\"/>\r\n     <use x=\"63.623047\" xlink:href=\"#DejaVuSans-46\"/>\r\n     <use x=\"95.410156\" xlink:href=\"#DejaVuSans-52\"/>\r\n     <use x=\"159.033203\" xlink:href=\"#DejaVuSans-101\"/>\r\n     <use x=\"220.556641\" xlink:href=\"#DejaVuSans-43\"/>\r\n     <use x=\"304.345703\" xlink:href=\"#DejaVuSans-48\"/>\r\n     <use x=\"367.96875\" xlink:href=\"#DejaVuSans-53\"/>\r\n    </g>\r\n   </g>\r\n   <g id=\"text_44\">\r\n    <!-- How helpful users find among user scores -->\r\n    <g transform=\"translate(80.898125 16.318125)scale(0.12 -0.12)\">\r\n     <defs>\r\n      <path d=\"M 9.8125 72.90625 \r\nL 19.671875 72.90625 \r\nL 19.671875 43.015625 \r\nL 55.515625 43.015625 \r\nL 55.515625 72.90625 \r\nL 65.375 72.90625 \r\nL 65.375 0 \r\nL 55.515625 0 \r\nL 55.515625 34.71875 \r\nL 19.671875 34.71875 \r\nL 19.671875 0 \r\nL 9.8125 0 \r\nz\r\n\" id=\"DejaVuSans-72\"/>\r\n      <path d=\"M 4.203125 54.6875 \r\nL 13.1875 54.6875 \r\nL 24.421875 12.015625 \r\nL 35.59375 54.6875 \r\nL 46.1875 54.6875 \r\nL 57.421875 12.015625 \r\nL 68.609375 54.6875 \r\nL 77.59375 54.6875 \r\nL 63.28125 0 \r\nL 52.6875 0 \r\nL 40.921875 44.828125 \r\nL 29.109375 0 \r\nL 18.5 0 \r\nz\r\n\" id=\"DejaVuSans-119\"/>\r\n      <path id=\"DejaVuSans-32\"/>\r\n      <path d=\"M 54.890625 33.015625 \r\nL 54.890625 0 \r\nL 45.90625 0 \r\nL 45.90625 32.71875 \r\nQ 45.90625 40.484375 42.875 44.328125 \r\nQ 39.84375 48.1875 33.796875 48.1875 \r\nQ 26.515625 48.1875 22.3125 43.546875 \r\nQ 18.109375 38.921875 18.109375 30.90625 \r\nL 18.109375 0 \r\nL 9.078125 0 \r\nL 9.078125 75.984375 \r\nL 18.109375 75.984375 \r\nL 18.109375 46.1875 \r\nQ 21.34375 51.125 25.703125 53.5625 \r\nQ 30.078125 56 35.796875 56 \r\nQ 45.21875 56 50.046875 50.171875 \r\nQ 54.890625 44.34375 54.890625 33.015625 \r\nz\r\n\" id=\"DejaVuSans-104\"/>\r\n      <path d=\"M 9.421875 75.984375 \r\nL 18.40625 75.984375 \r\nL 18.40625 0 \r\nL 9.421875 0 \r\nz\r\n\" id=\"DejaVuSans-108\"/>\r\n      <path d=\"M 37.109375 75.984375 \r\nL 37.109375 68.5 \r\nL 28.515625 68.5 \r\nQ 23.6875 68.5 21.796875 66.546875 \r\nQ 19.921875 64.59375 19.921875 59.515625 \r\nL 19.921875 54.6875 \r\nL 34.71875 54.6875 \r\nL 34.71875 47.703125 \r\nL 19.921875 47.703125 \r\nL 19.921875 0 \r\nL 10.890625 0 \r\nL 10.890625 47.703125 \r\nL 2.296875 47.703125 \r\nL 2.296875 54.6875 \r\nL 10.890625 54.6875 \r\nL 10.890625 58.5 \r\nQ 10.890625 67.625 15.140625 71.796875 \r\nQ 19.390625 75.984375 28.609375 75.984375 \r\nz\r\n\" id=\"DejaVuSans-102\"/>\r\n      <path d=\"M 44.28125 53.078125 \r\nL 44.28125 44.578125 \r\nQ 40.484375 46.53125 36.375 47.5 \r\nQ 32.28125 48.484375 27.875 48.484375 \r\nQ 21.1875 48.484375 17.84375 46.4375 \r\nQ 14.5 44.390625 14.5 40.28125 \r\nQ 14.5 37.15625 16.890625 35.375 \r\nQ 19.28125 33.59375 26.515625 31.984375 \r\nL 29.59375 31.296875 \r\nQ 39.15625 29.25 43.1875 25.515625 \r\nQ 47.21875 21.78125 47.21875 15.09375 \r\nQ 47.21875 7.46875 41.1875 3.015625 \r\nQ 35.15625 -1.421875 24.609375 -1.421875 \r\nQ 20.21875 -1.421875 15.453125 -0.5625 \r\nQ 10.6875 0.296875 5.421875 2 \r\nL 5.421875 11.28125 \r\nQ 10.40625 8.6875 15.234375 7.390625 \r\nQ 20.0625 6.109375 24.8125 6.109375 \r\nQ 31.15625 6.109375 34.5625 8.28125 \r\nQ 37.984375 10.453125 37.984375 14.40625 \r\nQ 37.984375 18.0625 35.515625 20.015625 \r\nQ 33.0625 21.96875 24.703125 23.78125 \r\nL 21.578125 24.515625 \r\nQ 13.234375 26.265625 9.515625 29.90625 \r\nQ 5.8125 33.546875 5.8125 39.890625 \r\nQ 5.8125 47.609375 11.28125 51.796875 \r\nQ 16.75 56 26.8125 56 \r\nQ 31.78125 56 36.171875 55.265625 \r\nQ 40.578125 54.546875 44.28125 53.078125 \r\nz\r\n\" id=\"DejaVuSans-115\"/>\r\n      <path d=\"M 9.421875 54.6875 \r\nL 18.40625 54.6875 \r\nL 18.40625 0 \r\nL 9.421875 0 \r\nz\r\nM 9.421875 75.984375 \r\nL 18.40625 75.984375 \r\nL 18.40625 64.59375 \r\nL 9.421875 64.59375 \r\nz\r\n\" id=\"DejaVuSans-105\"/>\r\n      <path d=\"M 34.28125 27.484375 \r\nQ 23.390625 27.484375 19.1875 25 \r\nQ 14.984375 22.515625 14.984375 16.5 \r\nQ 14.984375 11.71875 18.140625 8.90625 \r\nQ 21.296875 6.109375 26.703125 6.109375 \r\nQ 34.1875 6.109375 38.703125 11.40625 \r\nQ 43.21875 16.703125 43.21875 25.484375 \r\nL 43.21875 27.484375 \r\nz\r\nM 52.203125 31.203125 \r\nL 52.203125 0 \r\nL 43.21875 0 \r\nL 43.21875 8.296875 \r\nQ 40.140625 3.328125 35.546875 0.953125 \r\nQ 30.953125 -1.421875 24.3125 -1.421875 \r\nQ 15.921875 -1.421875 10.953125 3.296875 \r\nQ 6 8.015625 6 15.921875 \r\nQ 6 25.140625 12.171875 29.828125 \r\nQ 18.359375 34.515625 30.609375 34.515625 \r\nL 43.21875 34.515625 \r\nL 43.21875 35.40625 \r\nQ 43.21875 41.609375 39.140625 45 \r\nQ 35.0625 48.390625 27.6875 48.390625 \r\nQ 23 48.390625 18.546875 47.265625 \r\nQ 14.109375 46.140625 10.015625 43.890625 \r\nL 10.015625 52.203125 \r\nQ 14.9375 54.109375 19.578125 55.046875 \r\nQ 24.21875 56 28.609375 56 \r\nQ 40.484375 56 46.34375 49.84375 \r\nQ 52.203125 43.703125 52.203125 31.203125 \r\nz\r\n\" id=\"DejaVuSans-97\"/>\r\n      <path d=\"M 45.40625 27.984375 \r\nQ 45.40625 37.75 41.375 43.109375 \r\nQ 37.359375 48.484375 30.078125 48.484375 \r\nQ 22.859375 48.484375 18.828125 43.109375 \r\nQ 14.796875 37.75 14.796875 27.984375 \r\nQ 14.796875 18.265625 18.828125 12.890625 \r\nQ 22.859375 7.515625 30.078125 7.515625 \r\nQ 37.359375 7.515625 41.375 12.890625 \r\nQ 45.40625 18.265625 45.40625 27.984375 \r\nz\r\nM 54.390625 6.78125 \r\nQ 54.390625 -7.171875 48.1875 -13.984375 \r\nQ 42 -20.796875 29.203125 -20.796875 \r\nQ 24.46875 -20.796875 20.265625 -20.09375 \r\nQ 16.0625 -19.390625 12.109375 -17.921875 \r\nL 12.109375 -9.1875 \r\nQ 16.0625 -11.328125 19.921875 -12.34375 \r\nQ 23.78125 -13.375 27.78125 -13.375 \r\nQ 36.625 -13.375 41.015625 -8.765625 \r\nQ 45.40625 -4.15625 45.40625 5.171875 \r\nL 45.40625 9.625 \r\nQ 42.625 4.78125 38.28125 2.390625 \r\nQ 33.9375 0 27.875 0 \r\nQ 17.828125 0 11.671875 7.65625 \r\nQ 5.515625 15.328125 5.515625 27.984375 \r\nQ 5.515625 40.671875 11.671875 48.328125 \r\nQ 17.828125 56 27.875 56 \r\nQ 33.9375 56 38.28125 53.609375 \r\nQ 42.625 51.21875 45.40625 46.390625 \r\nL 45.40625 54.6875 \r\nL 54.390625 54.6875 \r\nz\r\n\" id=\"DejaVuSans-103\"/>\r\n     </defs>\r\n     <use xlink:href=\"#DejaVuSans-72\"/>\r\n     <use x=\"75.195312\" xlink:href=\"#DejaVuSans-111\"/>\r\n     <use x=\"136.376953\" xlink:href=\"#DejaVuSans-119\"/>\r\n     <use x=\"218.164062\" xlink:href=\"#DejaVuSans-32\"/>\r\n     <use x=\"249.951172\" xlink:href=\"#DejaVuSans-104\"/>\r\n     <use x=\"313.330078\" xlink:href=\"#DejaVuSans-101\"/>\r\n     <use x=\"374.853516\" xlink:href=\"#DejaVuSans-108\"/>\r\n     <use x=\"402.636719\" xlink:href=\"#DejaVuSans-112\"/>\r\n     <use x=\"466.113281\" xlink:href=\"#DejaVuSans-102\"/>\r\n     <use x=\"501.318359\" xlink:href=\"#DejaVuSans-117\"/>\r\n     <use x=\"564.697266\" xlink:href=\"#DejaVuSans-108\"/>\r\n     <use x=\"592.480469\" xlink:href=\"#DejaVuSans-32\"/>\r\n     <use x=\"624.267578\" xlink:href=\"#DejaVuSans-117\"/>\r\n     <use x=\"687.646484\" xlink:href=\"#DejaVuSans-115\"/>\r\n     <use x=\"739.746094\" xlink:href=\"#DejaVuSans-101\"/>\r\n     <use x=\"801.269531\" xlink:href=\"#DejaVuSans-114\"/>\r\n     <use x=\"842.382812\" xlink:href=\"#DejaVuSans-115\"/>\r\n     <use x=\"894.482422\" xlink:href=\"#DejaVuSans-32\"/>\r\n     <use x=\"926.269531\" xlink:href=\"#DejaVuSans-102\"/>\r\n     <use x=\"961.474609\" xlink:href=\"#DejaVuSans-105\"/>\r\n     <use x=\"989.257812\" xlink:href=\"#DejaVuSans-110\"/>\r\n     <use x=\"1052.636719\" xlink:href=\"#DejaVuSans-100\"/>\r\n     <use x=\"1116.113281\" xlink:href=\"#DejaVuSans-32\"/>\r\n     <use x=\"1147.900391\" xlink:href=\"#DejaVuSans-97\"/>\r\n     <use x=\"1209.179688\" xlink:href=\"#DejaVuSans-109\"/>\r\n     <use x=\"1306.591797\" xlink:href=\"#DejaVuSans-111\"/>\r\n     <use x=\"1367.773438\" xlink:href=\"#DejaVuSans-110\"/>\r\n     <use x=\"1431.152344\" xlink:href=\"#DejaVuSans-103\"/>\r\n     <use x=\"1494.628906\" xlink:href=\"#DejaVuSans-32\"/>\r\n     <use x=\"1526.416016\" xlink:href=\"#DejaVuSans-117\"/>\r\n     <use x=\"1589.794922\" xlink:href=\"#DejaVuSans-115\"/>\r\n     <use x=\"1641.894531\" xlink:href=\"#DejaVuSans-101\"/>\r\n     <use x=\"1703.417969\" xlink:href=\"#DejaVuSans-114\"/>\r\n     <use x=\"1744.53125\" xlink:href=\"#DejaVuSans-32\"/>\r\n     <use x=\"1776.318359\" xlink:href=\"#DejaVuSans-115\"/>\r\n     <use x=\"1828.417969\" xlink:href=\"#DejaVuSans-99\"/>\r\n     <use x=\"1883.398438\" xlink:href=\"#DejaVuSans-111\"/>\r\n     <use x=\"1944.580078\" xlink:href=\"#DejaVuSans-114\"/>\r\n     <use x=\"1983.443359\" xlink:href=\"#DejaVuSans-101\"/>\r\n     <use x=\"2044.966797\" xlink:href=\"#DejaVuSans-115\"/>\r\n    </g>\r\n   </g>\r\n  </g>\r\n  <g id=\"axes_2\">\r\n   <g id=\"patch_3\">\r\n    <path clip-path=\"url(#pf70f11d26f)\" d=\"M 357.38 239.758125 \r\nL 357.38 238.90875 \r\nL 357.38 23.1675 \r\nL 357.38 22.318125 \r\nL 368.252 22.318125 \r\nL 368.252 23.1675 \r\nL 368.252 238.90875 \r\nL 368.252 239.758125 \r\nz\r\n\" style=\"fill:#ffffff;stroke:#ffffff;stroke-linejoin:miter;stroke-width:0.01;\"/>\r\n   </g>\r\n   <image height=\"217\" id=\"image3f1ca4dd4f\" transform=\"scale(1 -1)translate(0 -217)\" width=\"11\" x=\"357\" xlink:href=\"data:image/png;base64,\r\niVBORw0KGgoAAAANSUhEUgAAAAsAAADZCAYAAAD2WsoCAAABWklEQVR4nNWawQ0DMQgEsUT/9V0vOUNaYB4jcXkjtJ5dE8fxqX46hp+MqGltZDcpjrEKLAN0hjJQ5wuKiWYoA6BDnYvYzRz0TGGcgebSOKNtBbNhca4G4Yc0xrWRc3ARCRpHFpHRfVbIIJ0ZZ88UcYGWKXeHKV6QzNQBU5YECdntcS6CztP87pDhFf+KRFQbjBftFJEG6mxpnp821G0FaXjFZA/OG0e+nt1Ehnf6grMOFC+h4Q1zL6LeFF1Cw4voF2mI2UDFZNax4yW6oUKdNc1XpEGKgYWijDU0UGdygaOdZJbkmd1vaKlDnME9WWQQzUGyccDPNihD0wxuZyMP2N5bNMPOO+zWNIt2ew7uQGfaPa5Vs0FkwGyAzl8cBWJEta+2g2Sg8H8wz0wGocE4e3nWFgifN2gvFtDfwaS4+pVkQBor0Hk0xEc1bIHogcoKzWaQkN3a3FhB4w9t6ajtRcvsGQAAAABJRU5ErkJggg==\" y=\"-22\"/>\r\n   <g id=\"matplotlib.axis_3\"/>\r\n   <g id=\"matplotlib.axis_4\">\r\n    <g id=\"ytick_7\">\r\n     <g id=\"line2d_12\">\r\n      <defs>\r\n       <path d=\"M 0 0 \r\nL 3.5 0 \r\n\" id=\"m58e6f05278\" style=\"stroke:#000000;stroke-width:0.8;\"/>\r\n      </defs>\r\n      <g>\r\n       <use style=\"stroke:#000000;stroke-width:0.8;\" x=\"368.252\" xlink:href=\"#m58e6f05278\" y=\"208.995188\"/>\r\n      </g>\r\n     </g>\r\n     <g id=\"text_45\">\r\n      <!-- 20000 -->\r\n      <g transform=\"translate(375.252 212.794407)scale(0.1 -0.1)\">\r\n       <use xlink:href=\"#DejaVuSans-50\"/>\r\n       <use x=\"63.623047\" xlink:href=\"#DejaVuSans-48\"/>\r\n       <use x=\"127.246094\" xlink:href=\"#DejaVuSans-48\"/>\r\n       <use x=\"190.869141\" xlink:href=\"#DejaVuSans-48\"/>\r\n       <use x=\"254.492188\" xlink:href=\"#DejaVuSans-48\"/>\r\n      </g>\r\n     </g>\r\n    </g>\r\n    <g id=\"ytick_8\">\r\n     <g id=\"line2d_13\">\r\n      <g>\r\n       <use style=\"stroke:#000000;stroke-width:0.8;\" x=\"368.252\" xlink:href=\"#m58e6f05278\" y=\"178.052785\"/>\r\n      </g>\r\n     </g>\r\n     <g id=\"text_46\">\r\n      <!-- 40000 -->\r\n      <g transform=\"translate(375.252 181.852004)scale(0.1 -0.1)\">\r\n       <use xlink:href=\"#DejaVuSans-52\"/>\r\n       <use x=\"63.623047\" xlink:href=\"#DejaVuSans-48\"/>\r\n       <use x=\"127.246094\" xlink:href=\"#DejaVuSans-48\"/>\r\n       <use x=\"190.869141\" xlink:href=\"#DejaVuSans-48\"/>\r\n       <use x=\"254.492188\" xlink:href=\"#DejaVuSans-48\"/>\r\n      </g>\r\n     </g>\r\n    </g>\r\n    <g id=\"ytick_9\">\r\n     <g id=\"line2d_14\">\r\n      <g>\r\n       <use style=\"stroke:#000000;stroke-width:0.8;\" x=\"368.252\" xlink:href=\"#m58e6f05278\" y=\"147.110383\"/>\r\n      </g>\r\n     </g>\r\n     <g id=\"text_47\">\r\n      <!-- 60000 -->\r\n      <g transform=\"translate(375.252 150.909601)scale(0.1 -0.1)\">\r\n       <use xlink:href=\"#DejaVuSans-54\"/>\r\n       <use x=\"63.623047\" xlink:href=\"#DejaVuSans-48\"/>\r\n       <use x=\"127.246094\" xlink:href=\"#DejaVuSans-48\"/>\r\n       <use x=\"190.869141\" xlink:href=\"#DejaVuSans-48\"/>\r\n       <use x=\"254.492188\" xlink:href=\"#DejaVuSans-48\"/>\r\n      </g>\r\n     </g>\r\n    </g>\r\n    <g id=\"ytick_10\">\r\n     <g id=\"line2d_15\">\r\n      <g>\r\n       <use style=\"stroke:#000000;stroke-width:0.8;\" x=\"368.252\" xlink:href=\"#m58e6f05278\" y=\"116.16798\"/>\r\n      </g>\r\n     </g>\r\n     <g id=\"text_48\">\r\n      <!-- 80000 -->\r\n      <g transform=\"translate(375.252 119.967199)scale(0.1 -0.1)\">\r\n       <use xlink:href=\"#DejaVuSans-56\"/>\r\n       <use x=\"63.623047\" xlink:href=\"#DejaVuSans-48\"/>\r\n       <use x=\"127.246094\" xlink:href=\"#DejaVuSans-48\"/>\r\n       <use x=\"190.869141\" xlink:href=\"#DejaVuSans-48\"/>\r\n       <use x=\"254.492188\" xlink:href=\"#DejaVuSans-48\"/>\r\n      </g>\r\n     </g>\r\n    </g>\r\n    <g id=\"ytick_11\">\r\n     <g id=\"line2d_16\">\r\n      <g>\r\n       <use style=\"stroke:#000000;stroke-width:0.8;\" x=\"368.252\" xlink:href=\"#m58e6f05278\" y=\"85.225577\"/>\r\n      </g>\r\n     </g>\r\n     <g id=\"text_49\">\r\n      <!-- 100000 -->\r\n      <g transform=\"translate(375.252 89.024796)scale(0.1 -0.1)\">\r\n       <use xlink:href=\"#DejaVuSans-49\"/>\r\n       <use x=\"63.623047\" xlink:href=\"#DejaVuSans-48\"/>\r\n       <use x=\"127.246094\" xlink:href=\"#DejaVuSans-48\"/>\r\n       <use x=\"190.869141\" xlink:href=\"#DejaVuSans-48\"/>\r\n       <use x=\"254.492188\" xlink:href=\"#DejaVuSans-48\"/>\r\n       <use x=\"318.115234\" xlink:href=\"#DejaVuSans-48\"/>\r\n      </g>\r\n     </g>\r\n    </g>\r\n    <g id=\"ytick_12\">\r\n     <g id=\"line2d_17\">\r\n      <g>\r\n       <use style=\"stroke:#000000;stroke-width:0.8;\" x=\"368.252\" xlink:href=\"#m58e6f05278\" y=\"54.283174\"/>\r\n      </g>\r\n     </g>\r\n     <g id=\"text_50\">\r\n      <!-- 120000 -->\r\n      <g transform=\"translate(375.252 58.082393)scale(0.1 -0.1)\">\r\n       <use xlink:href=\"#DejaVuSans-49\"/>\r\n       <use x=\"63.623047\" xlink:href=\"#DejaVuSans-50\"/>\r\n       <use x=\"127.246094\" xlink:href=\"#DejaVuSans-48\"/>\r\n       <use x=\"190.869141\" xlink:href=\"#DejaVuSans-48\"/>\r\n       <use x=\"254.492188\" xlink:href=\"#DejaVuSans-48\"/>\r\n       <use x=\"318.115234\" xlink:href=\"#DejaVuSans-48\"/>\r\n      </g>\r\n     </g>\r\n    </g>\r\n    <g id=\"ytick_13\">\r\n     <g id=\"line2d_18\">\r\n      <g>\r\n       <use style=\"stroke:#000000;stroke-width:0.8;\" x=\"368.252\" xlink:href=\"#m58e6f05278\" y=\"23.340771\"/>\r\n      </g>\r\n     </g>\r\n     <g id=\"text_51\">\r\n      <!-- 140000 -->\r\n      <g transform=\"translate(375.252 27.13999)scale(0.1 -0.1)\">\r\n       <use xlink:href=\"#DejaVuSans-49\"/>\r\n       <use x=\"63.623047\" xlink:href=\"#DejaVuSans-52\"/>\r\n       <use x=\"127.246094\" xlink:href=\"#DejaVuSans-48\"/>\r\n       <use x=\"190.869141\" xlink:href=\"#DejaVuSans-48\"/>\r\n       <use x=\"254.492188\" xlink:href=\"#DejaVuSans-48\"/>\r\n       <use x=\"318.115234\" xlink:href=\"#DejaVuSans-48\"/>\r\n      </g>\r\n     </g>\r\n    </g>\r\n   </g>\r\n   <g id=\"patch_4\">\r\n    <path d=\"M 357.38 239.758125 \r\nL 357.38 238.90875 \r\nL 357.38 23.1675 \r\nL 357.38 22.318125 \r\nL 368.252 22.318125 \r\nL 368.252 23.1675 \r\nL 368.252 238.90875 \r\nL 368.252 239.758125 \r\nz\r\n\" style=\"fill:none;\"/>\r\n   </g>\r\n  </g>\r\n </g>\r\n <defs>\r\n  <clipPath id=\"p66813857a0\">\r\n   <rect height=\"217.44\" width=\"267.84\" x=\"72.8\" y=\"22.318125\"/>\r\n  </clipPath>\r\n  <clipPath id=\"pf70f11d26f\">\r\n   <rect height=\"217.44\" width=\"10.872\" x=\"357.38\" y=\"22.318125\"/>\r\n  </clipPath>\r\n </defs>\r\n</svg>\r\n",
      "image/png": "[encoded data removed]"
     },
     "metadata": {
      "needs_background": "light"
     }
    }
   ],
   "source": [
    "import seaborn as sns\n",
    "import matplotlib.pyplot as plt\n",
    "sns.heatmap(df_s.pivot(index='%upvote',columns='Score'),annot=True,cmap = 'YlGnBu')\n",
    "plt.title('How helpful users find among user scores')"
   ]
  },
  {
   "source": [
    "Esto significa, que los usuarios están encontrando muchos más utilizables aquellas reviews que otorgaron 5 estrellas, que aquellas que asinaron 1,2,3,4..."
   ],
   "cell_type": "markdown",
   "metadata": {}
  },
  {
   "cell_type": "raw",
   "metadata": {},
   "source": [
    "Key message from above:\n",
    "\n",
    "Reviews are skewed towards positive\n",
    "More than half of the reviews are with zero votes\n",
    "Many people agree with score 5 reviews"
   ]
  },
  {
   "cell_type": "code",
   "execution_count": 24,
   "metadata": {},
   "outputs": [
    {
     "output_type": "execute_result",
     "data": {
      "text/plain": [
       "(568454, 12)"
      ]
     },
     "metadata": {},
     "execution_count": 24
    }
   ],
   "source": [
    "df.shape"
   ]
  },
  {
   "cell_type": "code",
   "execution_count": 26,
   "metadata": {},
   "outputs": [
    {
     "output_type": "execute_result",
     "data": {
      "text/plain": [
       "   Id   ProductId          UserId ProfileName  HelpfulnessNumerator  \\\n",
       "0   1  B001E4KFG0  A3SGXH7AUHU8GW  delmartian                     1   \n",
       "1   2  B00813GRG4  A1D87F6ZCVE5NK      dll pa                     0   \n",
       "\n",
       "   HelpfulnessDenominator  Score        Time                Summary  \\\n",
       "0                       1      5  1303862400  Good Quality Dog Food   \n",
       "1                       0      1  1346976000      Not as Advertised   \n",
       "\n",
       "                                                Text  Helpful %  %upvote  \n",
       "0  I have bought several of the Vitality canned d...        1.0  80-100%  \n",
       "1  Product arrived labeled as Jumbo Salted Peanut...       -1.0      NaN  "
      ],
      "text/html": "<div>\n<style scoped>\n    .dataframe tbody tr th:only-of-type {\n        vertical-align: middle;\n    }\n\n    .dataframe tbody tr th {\n        vertical-align: top;\n    }\n\n    .dataframe thead th {\n        text-align: right;\n    }\n</style>\n<table border=\"1\" class=\"dataframe\">\n  <thead>\n    <tr style=\"text-align: right;\">\n      <th></th>\n      <th>Id</th>\n      <th>ProductId</th>\n      <th>UserId</th>\n      <th>ProfileName</th>\n      <th>HelpfulnessNumerator</th>\n      <th>HelpfulnessDenominator</th>\n      <th>Score</th>\n      <th>Time</th>\n      <th>Summary</th>\n      <th>Text</th>\n      <th>Helpful %</th>\n      <th>%upvote</th>\n    </tr>\n  </thead>\n  <tbody>\n    <tr>\n      <th>0</th>\n      <td>1</td>\n      <td>B001E4KFG0</td>\n      <td>A3SGXH7AUHU8GW</td>\n      <td>delmartian</td>\n      <td>1</td>\n      <td>1</td>\n      <td>5</td>\n      <td>1303862400</td>\n      <td>Good Quality Dog Food</td>\n      <td>I have bought several of the Vitality canned d...</td>\n      <td>1.0</td>\n      <td>80-100%</td>\n    </tr>\n    <tr>\n      <th>1</th>\n      <td>2</td>\n      <td>B00813GRG4</td>\n      <td>A1D87F6ZCVE5NK</td>\n      <td>dll pa</td>\n      <td>0</td>\n      <td>0</td>\n      <td>1</td>\n      <td>1346976000</td>\n      <td>Not as Advertised</td>\n      <td>Product arrived labeled as Jumbo Salted Peanut...</td>\n      <td>-1.0</td>\n      <td>NaN</td>\n    </tr>\n  </tbody>\n</table>\n</div>"
     },
     "metadata": {},
     "execution_count": 26
    }
   ],
   "source": [
    "df.head(n=2)"
   ]
  },
  {
   "cell_type": "code",
   "execution_count": 15,
   "metadata": {},
   "outputs": [
    {
     "output_type": "execute_result",
     "data": {
      "text/plain": [
       "array([5, 1, 4, 2, 3], dtype=int64)"
      ]
     },
     "metadata": {},
     "execution_count": 15
    }
   ],
   "source": [
    "df['Score'].unique()"
   ]
  },
  {
   "source": [
    "Tenemos 5 posbiles calificaciones, pero particularmento la 3 no nos sirve para predecir nada, ya que no sería asignable a algo positivo o negativo, sino más bien neutro. Por lo cual procedemos a eliminar esas calificaciones."
   ],
   "cell_type": "markdown",
   "metadata": {}
  },
  {
   "cell_type": "code",
   "execution_count": 16,
   "metadata": {},
   "outputs": [],
   "source": [
    "df2 = df[df['Score'] != 3 ]\n",
    "# Elimino las calificaciones evaluadas con 3."
   ]
  },
  {
   "cell_type": "code",
   "execution_count": 17,
   "metadata": {},
   "outputs": [
    {
     "output_type": "execute_result",
     "data": {
      "text/plain": [
       "   Id   ProductId          UserId                      ProfileName  \\\n",
       "0   1  B001E4KFG0  A3SGXH7AUHU8GW                       delmartian   \n",
       "1   2  B00813GRG4  A1D87F6ZCVE5NK                           dll pa   \n",
       "2   3  B000LQOCH0   ABXLMWJIXXAIN  Natalia Corres \"Natalia Corres\"   \n",
       "\n",
       "   HelpfulnessNumerator  HelpfulnessDenominator  Score        Time  \\\n",
       "0                     1                       1      5  1303862400   \n",
       "1                     0                       0      1  1346976000   \n",
       "2                     1                       1      4  1219017600   \n",
       "\n",
       "                 Summary                                               Text  \\\n",
       "0  Good Quality Dog Food  I have bought several of the Vitality canned d...   \n",
       "1      Not as Advertised  Product arrived labeled as Jumbo Salted Peanut...   \n",
       "2  \"Delight\" says it all  This is a confection that has been around a fe...   \n",
       "\n",
       "   Helpful %  %upvote  \n",
       "0        1.0  80-100%  \n",
       "1       -1.0      NaN  \n",
       "2        1.0  80-100%  "
      ],
      "text/html": "<div>\n<style scoped>\n    .dataframe tbody tr th:only-of-type {\n        vertical-align: middle;\n    }\n\n    .dataframe tbody tr th {\n        vertical-align: top;\n    }\n\n    .dataframe thead th {\n        text-align: right;\n    }\n</style>\n<table border=\"1\" class=\"dataframe\">\n  <thead>\n    <tr style=\"text-align: right;\">\n      <th></th>\n      <th>Id</th>\n      <th>ProductId</th>\n      <th>UserId</th>\n      <th>ProfileName</th>\n      <th>HelpfulnessNumerator</th>\n      <th>HelpfulnessDenominator</th>\n      <th>Score</th>\n      <th>Time</th>\n      <th>Summary</th>\n      <th>Text</th>\n      <th>Helpful %</th>\n      <th>%upvote</th>\n    </tr>\n  </thead>\n  <tbody>\n    <tr>\n      <th>0</th>\n      <td>1</td>\n      <td>B001E4KFG0</td>\n      <td>A3SGXH7AUHU8GW</td>\n      <td>delmartian</td>\n      <td>1</td>\n      <td>1</td>\n      <td>5</td>\n      <td>1303862400</td>\n      <td>Good Quality Dog Food</td>\n      <td>I have bought several of the Vitality canned d...</td>\n      <td>1.0</td>\n      <td>80-100%</td>\n    </tr>\n    <tr>\n      <th>1</th>\n      <td>2</td>\n      <td>B00813GRG4</td>\n      <td>A1D87F6ZCVE5NK</td>\n      <td>dll pa</td>\n      <td>0</td>\n      <td>0</td>\n      <td>1</td>\n      <td>1346976000</td>\n      <td>Not as Advertised</td>\n      <td>Product arrived labeled as Jumbo Salted Peanut...</td>\n      <td>-1.0</td>\n      <td>NaN</td>\n    </tr>\n    <tr>\n      <th>2</th>\n      <td>3</td>\n      <td>B000LQOCH0</td>\n      <td>ABXLMWJIXXAIN</td>\n      <td>Natalia Corres \"Natalia Corres\"</td>\n      <td>1</td>\n      <td>1</td>\n      <td>4</td>\n      <td>1219017600</td>\n      <td>\"Delight\" says it all</td>\n      <td>This is a confection that has been around a fe...</td>\n      <td>1.0</td>\n      <td>80-100%</td>\n    </tr>\n  </tbody>\n</table>\n</div>"
     },
     "metadata": {},
     "execution_count": 17
    }
   ],
   "source": [
    "df2.head(n=3)"
   ]
  },
  {
   "cell_type": "code",
   "execution_count": 18,
   "metadata": {},
   "outputs": [
    {
     "output_type": "execute_result",
     "data": {
      "text/plain": [
       "0    I have bought several of the Vitality canned d...\n",
       "1    Product arrived labeled as Jumbo Salted Peanut...\n",
       "2    This is a confection that has been around a fe...\n",
       "Name: Text, dtype: object"
      ]
     },
     "metadata": {},
     "execution_count": 18
    }
   ],
   "source": [
    "# Mis variables independientes van a ser aquellas de texto, mediante las cuales quiero predecor el score:\n",
    "X = df2['Text']\n",
    "X.head(n=3)"
   ]
  },
  {
   "cell_type": "code",
   "execution_count": 19,
   "metadata": {},
   "outputs": [],
   "source": [
    "# Tengo que llevar mi variable objetivo target a 0 o 1, por lo cual defino un diccionario para realizar el ajuste:\n",
    "y_dict = {1:0, 2:0, 4:1, 5:1}"
   ]
  },
  {
   "cell_type": "code",
   "execution_count": 20,
   "metadata": {},
   "outputs": [
    {
     "output_type": "execute_result",
     "data": {
      "text/plain": [
       "0    1\n",
       "1    0\n",
       "2    1\n",
       "3    0\n",
       "4    1\n",
       "Name: Score, dtype: int64"
      ]
     },
     "metadata": {},
     "execution_count": 20
    }
   ],
   "source": [
    "# Con la función MAP reemplazo en la variable target por lo que definimos en el diccionario:\n",
    "y = df2['Score'].map(y_dict)\n",
    "y.head()"
   ]
  },
  {
   "source": [
    "De esta manera nos queda una matriz X con el texto, que tendremos que vectorizar, y por otro lado el target y, con scores positivos 1 (si fue calificado con 3 o 4) y 0 si fue calificado con 1 o 2."
   ],
   "cell_type": "markdown",
   "metadata": {}
  },
  {
   "cell_type": "markdown",
   "metadata": {},
   "source": [
    "#### Score prediction"
   ]
  },
  {
   "cell_type": "code",
   "execution_count": null,
   "metadata": {},
   "outputs": [],
   "source": []
  },
  {
   "cell_type": "markdown",
   "metadata": {},
   "source": [
    "### convert your text into vectors using NLP"
   ]
  },
  {
   "cell_type": "code",
   "execution_count": 21,
   "metadata": {},
   "outputs": [],
   "source": [
    "from sklearn.feature_extraction.text import CountVectorizer\n",
    "c = CountVectorizer(stop_words = 'english')\n",
    "\n",
    "# Defino el método para crear los vectores, utilizando stop words para eliminar las que no deseo (ex: and, or, etc.)"
   ]
  },
  {
   "cell_type": "code",
   "execution_count": 22,
   "metadata": {},
   "outputs": [],
   "source": [
    "##takes almost 2 mins to execute\n",
    "# Creo el vector X_c con el modelo creado c, sobre el conjunto de texto X\n",
    "X_c = c.fit_transform(X)"
   ]
  },
  {
   "cell_type": "code",
   "execution_count": 23,
   "metadata": {},
   "outputs": [
    {
     "output_type": "stream",
     "name": "stdout",
     "text": [
      "La matriz X_c tiene: 114969 features.\n"
     ]
    }
   ],
   "source": [
    "print('La matriz X_c tiene:', X_c.shape[1], 'features.')"
   ]
  },
  {
   "cell_type": "code",
   "execution_count": 24,
   "metadata": {},
   "outputs": [
    {
     "output_type": "stream",
     "name": "stdout",
     "text": [
      "features: 114969\n"
     ]
    }
   ],
   "source": [
    "print('features: {}'.format(X_c.shape[1]))"
   ]
  },
  {
   "cell_type": "code",
   "execution_count": 25,
   "metadata": {},
   "outputs": [
    {
     "output_type": "stream",
     "name": "stdout",
     "text": [
      " train records: 394360\n"
     ]
    }
   ],
   "source": [
    "from sklearn.model_selection import train_test_split\n",
    "X_train, X_test, y_train, y_test = train_test_split(X_c, y)\n",
    "print(' train records: {}'.format(X_train.shape[0]))"
   ]
  },
  {
   "cell_type": "code",
   "execution_count": 26,
   "metadata": {},
   "outputs": [],
   "source": [
    "from sklearn.linear_model import LogisticRegression\n",
    "log=LogisticRegression()"
   ]
  },
  {
   "cell_type": "code",
   "execution_count": 27,
   "metadata": {},
   "outputs": [
    {
     "output_type": "stream",
     "name": "stdout",
     "text": [
      "Model Accuracy: 0.9368904711914434\n"
     ]
    }
   ],
   "source": [
    "ml =log.fit(X_train, y_train)\n",
    "acc = ml.score(X_test, y_test)\n",
    "print ('Model Accuracy: {}'.format(acc))"
   ]
  },
  {
   "source": [
    "Verificar que la alta efectividad no sea por un dataset desbalanceado."
   ],
   "cell_type": "markdown",
   "metadata": {}
  },
  {
   "cell_type": "markdown",
   "metadata": {},
   "source": [
    "#### fetch Top 20 Positive & Top 20 negative words"
   ]
  },
  {
   "cell_type": "code",
   "execution_count": 28,
   "metadata": {},
   "outputs": [],
   "source": [
    "w = c.get_feature_names()"
   ]
  },
  {
   "cell_type": "code",
   "execution_count": 29,
   "metadata": {},
   "outputs": [
    {
     "output_type": "execute_result",
     "data": {
      "text/plain": [
       "114969"
      ]
     },
     "metadata": {},
     "execution_count": 29
    }
   ],
   "source": [
    "len(w)"
   ]
  },
  {
   "source": [
    "Es la cantidad de columnas que se nos generó-"
   ],
   "cell_type": "markdown",
   "metadata": {}
  },
  {
   "source": [
    "A c le apliqué un fit.transform, pasandole el texto X. Por lo cual ya está ajustado a nuestro dataset."
   ],
   "cell_type": "markdown",
   "metadata": {}
  },
  {
   "cell_type": "code",
   "execution_count": 30,
   "metadata": {},
   "outputs": [
    {
     "output_type": "execute_result",
     "data": {
      "text/plain": [
       "0262778882,\n",
       " 0.0,\n",
       " 0.0,\n",
       " 0.0,\n",
       " 0.00011013799910546528,\n",
       " 1.0500892608372686e-05,\n",
       " 0.0013742865609966974,\n",
       " -0.05923785418112336,\n",
       " -0.22366291373978775,\n",
       " 0.006679030169809974,\n",
       " -0.005235694525902688,\n",
       " 0.0,\n",
       " 0.0021500758124853646,\n",
       " 0.0,\n",
       " 0.0005656628147634123,\n",
       " 0.10040631875370803,\n",
       " 0.0,\n",
       " 0.004698062729298499,\n",
       " -0.009210296840145961,\n",
       " 0.6188908608537638,\n",
       " 0.10193874678131083,\n",
       " 0.0,\n",
       " -0.0009082852919368502,\n",
       " -0.001240607945911388,\n",
       " 0.000496152506764827,\n",
       " 0.0012622913239297932,\n",
       " -0.0007834833675660686,\n",
       " 0.0,\n",
       " 0.0,\n",
       " -0.01026122913775373,\n",
       " 0.0034526032302926277,\n",
       " 0.0034526032302926277,\n",
       " 0.0,\n",
       " 1.0195849263015315e-05,\n",
       " 0.0013873897338280235,\n",
       " 0.002797777842716418,\n",
       " 0.09123409867280076,\n",
       " 0.00045089530976898996,\n",
       " 0.0,\n",
       " 6.889208533624101e-05,\n",
       " 0.07412385840125055,\n",
       " 0.0005734506197900372,\n",
       " 0.00034420189239686434,\n",
       " 0.00013980105165159828,\n",
       " -0.6262649112672826,\n",
       " 0.0002897551118066318,\n",
       " 0.15038060703242193,\n",
       " 0.0008241024475993736,\n",
       " -0.0009575826601861871,\n",
       " -0.05078301365214583,\n",
       " -0.025391506826072916,\n",
       " -0.025391506826072916,\n",
       " 0.00019313189876201748,\n",
       " 0.0,\n",
       " 0.004627394922071135,\n",
       " 0.05704791615503424,\n",
       " -0.003710857823347862,\n",
       " -0.0929560352588208,\n",
       " 0.0015611058702088493,\n",
       " 0.0,\n",
       " -0.0010042156593039842,\n",
       " 0.0004584677737374861,\n",
       " 0.0002438085166641284,\n",
       " 0.04971602546174275,\n",
       " 0.0016145496136502813,\n",
       " -1.2699508755562303,\n",
       " -0.1122546696113619,\n",
       " 0.0,\n",
       " -0.025391506826072916,\n",
       " -0.000550136871568667,\n",
       " -0.13358043818247586,\n",
       " -0.025391506826072916,\n",
       " 0.00018068907306788916,\n",
       " 0.00017067244771566694,\n",
       " 0.006982737396055695,\n",
       " 0.0024232347786258372,\n",
       " 0.003351473192913679,\n",
       " 0.02898844045050372,\n",
       " -0.07617452047821896,\n",
       " 1.7010838116061817e-05,\n",
       " 9.718673657547818e-05,\n",
       " 0.00012326074332327854,\n",
       " 0.0,\n",
       " 7.520539070377545e-05,\n",
       " 9.010890684822944e-05,\n",
       " 0.0008241024475993736,\n",
       " 3.031400373028751e-05,\n",
       " 0.00020980069143100878,\n",
       " 0.0,\n",
       " -0.025391506826072916,\n",
       " 0.011088455688926866,\n",
       " 0.00021748116771524696,\n",
       " -0.05626063832535392,\n",
       " -0.07617452047821896,\n",
       " 0.0,\n",
       " -0.025391506826072916,\n",
       " 0.0,\n",
       " 0.034014790485535344,\n",
       " 0.006275170535273951,\n",
       " 0.0035430683186740393,\n",
       " 0.012136709836571393,\n",
       " 0.0033530554847935553,\n",
       " -0.01033012122308993,\n",
       " -0.1171779608239341,\n",
       " 0.000291241398523093,\n",
       " -0.0013078578095379403,\n",
       " 0.0034526032302926277,\n",
       " 0.0,\n",
       " -0.01033012122308993,\n",
       " 0.000649130142705037,\n",
       " 0.0007153176784851497,\n",
       " -0.09455959241943145,\n",
       " 0.0,\n",
       " 6.886277663703487e-05,\n",
       " 0.03569539582198992,\n",
       " 0.0,\n",
       " -0.07153791232500417,\n",
       " -0.5560500501638079,\n",
       " 0.0705954551725592,\n",
       " -0.05078301365214583,\n",
       " -0.025391506826072916,\n",
       " 0.0011725728216041,\n",
       " -0.025391506826072916,\n",
       " -0.025391506826072916,\n",
       " 0.0018212381682460234,\n",
       " -0.025391506826072916,\n",
       " -0.05078301365214583,\n",
       " -0.025391506826072916,\n",
       " -0.07617452047821896,\n",
       " -0.05078301365214583,\n",
       " 0.0009762500554253031,\n",
       " 5.860996582028579e-05,\n",
       " -0.025391506826072916,\n",
       " 0.008313967535441075,\n",
       " -0.0016298847052492616,\n",
       " 0.001098325446624747,\n",
       " 0.0459643559852128,\n",
       " 0.010242787401842346,\n",
       " 0.0002086816467366573,\n",
       " 0.0459643559852128,\n",
       " 0.04314347737173468,\n",
       " -0.1455948746331517,\n",
       " 7.404649055814963e-05,\n",
       " 0.00013873425930098924,\n",
       " 0.001825805098968569,\n",
       " 0.0014100277116077527,\n",
       " -0.17065319044711327,\n",
       " 1.8161812562544097e-05,\n",
       " 0.00043314738319328504,\n",
       " 0.00013873425930098924,\n",
       " 0.009937106397226508,\n",
       " 0.1429244086118604,\n",
       " 9.615974162849654e-05,\n",
       " 0.0007004242717108786,\n",
       " 0.030804286256121083,\n",
       " 0.04206642220163567,\n",
       " 0.0,\n",
       " 6.889208533624101e-05,\n",
       " -0.014620650906116684,\n",
       " 0.0493971660067644,\n",
       " 6.889208533624101e-05,\n",
       " 0.017219799796576386,\n",
       " 0.00021096045212867684,\n",
       " 0.2387034472639887,\n",
       " 0.00027556834134496403,\n",
       " -0.0024381457563386207,\n",
       " -0.025391506826072916,\n",
       " 0.0,\n",
       " 6.889208533624101e-05,\n",
       " -0.025391506826072916,\n",
       " -0.025391506826072916,\n",
       " 0.0009547772227166201,\n",
       " -0.025391506826072916,\n",
       " 0.020785021472518497,\n",
       " -0.025391506826072916,\n",
       " -0.025391506826072916,\n",
       " 0.0006803920850007953,\n",
       " 0.0012476668663433162,\n",
       " 0.0,\n",
       " -0.025391506826072916,\n",
       " -0.05078301365214583,\n",
       " -0.025391506826072916,\n",
       " -0.025391506826072916,\n",
       " -0.0008149423526246308,\n",
       " -0.041128803800112544,\n",
       " 0.0,\n",
       " 0.00023666877103940652,\n",
       " -0.07410505640298207,\n",
       " 0.0008252106082311624,\n",
       " 0.0005459571336927897,\n",
       " -0.06975614452271658,\n",
       " 0.0004631857931850854,\n",
       " 0.0002898410597109524,\n",
       " 0.002757179530758496,\n",
       " -0.10376604724447995,\n",
       " -0.06231222454860614,\n",
       " -0.07617452047821896,\n",
       " -0.025391506826072916,\n",
       " -0.05078301365214583,\n",
       " 6.889208533624101e-05,\n",
       " -0.42837366402418803,\n",
       " -0.025391506826072916,\n",
       " -0.025391506826072916,\n",
       " -0.025391506826072916,\n",
       " -0.05078301365214583,\n",
       " 0.01514066370607677,\n",
       " -0.05078301365214583,\n",
       " 0.07636939459862978,\n",
       " -0.15952786649014075,\n",
       " -0.025391506826072916,\n",
       " -0.05078301365214583,\n",
       " -0.05078301365214583,\n",
       " 6.889208533624101e-05,\n",
       " -0.0004151933152758945,\n",
       " 0.007676939799553492,\n",
       " 0.0009263715863701708,\n",
       " -0.05751876739060088,\n",
       " 0.0009263715863701708,\n",
       " 0.004878828720417955,\n",
       " -0.022994681361938482,\n",
       " 0.0,\n",
       " 0.0003508735696480059,\n",
       " 0.0005664497426594582,\n",
       " 0.060942700556912845,\n",
       " 0.0,\n",
       " 0.017654384637030094,\n",
       " 1.0195849263015315e-05,\n",
       " 0.0,\n",
       " 0.005164446381509221,\n",
       " 0.0,\n",
       " -0.02668634472875694,\n",
       " 1.2312090060773297,\n",
       " 0.00018940125137761958,\n",
       " 0.0,\n",
       " -0.07515403529074156,\n",
       " -0.0022038314453731956,\n",
       " -0.11443510292999506,\n",
       " 0.0,\n",
       " 0.0240686552405793,\n",
       " -0.007535564816328603,\n",
       " -0.025391506826072916,\n",
       " 0.0,\n",
       " -0.025391506826072916,\n",
       " -0.025391506826072916,\n",
       " -0.025391506826072916,\n",
       " 6.998820744813721e-05,\n",
       " 0.0,\n",
       " 0.0055331671211329226,\n",
       " 0.04206642220163567,\n",
       " 0.008290034255377866,\n",
       " 0.029091664052873025,\n",
       " 8.409912042762125e-05,\n",
       " 0.00020134342993096603,\n",
       " 0.0,\n",
       " -0.17065319044711327,\n",
       " -0.08396943957153272,\n",
       " 0.0,\n",
       " 0.006594866773278957,\n",
       " 0.010951876564415812,\n",
       " 0.0002714636842730685,\n",
       " 0.00014840269906275655,\n",
       " 5.4191178117907085e-05,\n",
       " 7.773589467738173e-06,\n",
       " 0.002323640216875773,\n",
       " -0.012540080206912831,\n",
       " 0.014471364583660893,\n",
       " 9.615974162849654e-05,\n",
       " 0.0011467091907694349,\n",
       " 0.0,\n",
       " 0.0,\n",
       " 8.725836422205516e-05,\n",
       " 0.03706268449757032,\n",
       " -0.0271174288093077,\n",
       " 0.0028457954955254956,\n",
       " 0.00013873425930098924,\n",
       " 0.0008492361605921451,\n",
       " 0.07626333531799596,\n",
       " 0.00034420189239686434,\n",
       " -0.1493291368868655,\n",
       " -0.7634626044395901,\n",
       " 0.001226680966534066,\n",
       " 0.00017508792062101276,\n",
       " 7.404649055814963e-05,\n",
       " 0.0018105184581623647,\n",
       " 0.00033201918816973063,\n",
       " -0.004291451992833026,\n",
       " -0.06325882631592981,\n",
       " 0.003289751542196534,\n",
       " 0.0,\n",
       " 9.615974162849654e-05,\n",
       " -0.0006357194983507849,\n",
       " 0.010135675131389441,\n",
       " 0.013039885167177538,\n",
       " 0.05078777955057761,\n",
       " 0.0004523583422671222,\n",
       " 0.0004523583422671222,\n",
       " 0.0,\n",
       " 0.00020004730084392696,\n",
       " 8.40494958735578e-05,\n",
       " 4.750753329272499e-05,\n",
       " 0.07626333531799596,\n",
       " 0.0006863677333146978,\n",
       " -0.17065319044711327,\n",
       " 0.0034526032302926277,\n",
       " 6.889208533624101e-05,\n",
       " 0.00016170895925089821,\n",
       " -0.001518149346928963,\n",
       " -0.10993165383231891,\n",
       " -0.0012344800991009226,\n",
       " -0.0012344800991009226,\n",
       " 0.039195720648078,\n",
       " 0.002978347765874017,\n",
       " 0.0001212238981397166,\n",
       " 0.0,\n",
       " 0.31408720512841876,\n",
       " 0.0,\n",
       " 0.0,\n",
       " -0.19131112320728796,\n",
       " 0.026626790655064375,\n",
       " 0.0,\n",
       " -0.1259434195370554,\n",
       " 6.889208533624101e-05,\n",
       " 0.0008241024475993736,\n",
       " -0.03669236797108411,\n",
       " 5.3869662241768065e-05,\n",
       " 6.496229831235616e-05,\n",
       " 0.020271350262778882,\n",
       " 0.0,\n",
       " 0.0,\n",
       " 0.0,\n",
       " 0.005736162709042393,\n",
       " -0.01509833306521946,\n",
       " 0.0034289145325306102,\n",
       " 0.0034289145325306102,\n",
       " 0.0004296337411561629,\n",
       " 0.008629397875552475,\n",
       " 3.669433934539388e-05,\n",
       " 0.0,\n",
       " 0.09981927672045605,\n",
       " -0.17065319044711327,\n",
       " 0.017566089213128477,\n",
       " 0.00017352371621072836,\n",
       " 0.0,\n",
       " 0.04202891959621866,\n",
       " 0.0013199685036569778,\n",
       " 0.0,\n",
       " 0.0,\n",
       " 3.4445913191979256e-05,\n",
       " 0.0,\n",
       " 0.0,\n",
       " 3.5874316616258015e-05,\n",
       " 0.005526643718884115,\n",
       " 0.009953248805689834,\n",
       " 0.0,\n",
       " 0.0016997808377333802,\n",
       " 0.0008119393711751188,\n",
       " 0.053593395608565235,\n",
       " 0.0044623751341134835,\n",
       " 0.0032581748884786287,\n",
       " 0.0032581748884786287,\n",
       " 0.0003064767917237471,\n",
       " 0.0004251236116078569,\n",
       " 1.0195849263015315e-05,\n",
       " 0.0004157265005731709,\n",
       " 0.06745219880184203,\n",
       " 0.11276622740090675,\n",
       " 0.001550838895546624,\n",
       " -0.039025739267115216,\n",
       " 0.4283628484818793,\n",
       " 0.00018420046698956267,\n",
       " 0.00018420046698956267,\n",
       " 5.093493902904054e-05,\n",
       " 0.0,\n",
       " 0.0023529664382785217,\n",
       " 0.0,\n",
       " 0.00015436198298057906,\n",
       " 0.005875035327447511,\n",
       " 0.0047059328765570434,\n",
       " -0.01721249509824606,\n",
       " 0.0023529664382785217,\n",
       " 0.001847920038956113,\n",
       " 0.0018332614123183855,\n",
       " 0.0,\n",
       " 0.02944506739333541,\n",
       " 0.010133025494600854,\n",
       " -0.061581291406187615,\n",
       " 0.001137812534564803,\n",
       " 0.0019110598590771914,\n",
       " 0.0004143911515450267,\n",
       " 0.011725800457596018,\n",
       " -0.07409225531167037,\n",
       " -0.16512270400730208,\n",
       " -0.04943256780702015,\n",
       " 8.802439903147814e-05,\n",
       " 0.777627049147734,\n",
       " -0.2639672026351139,\n",
       " 0.03623268745230169,\n",
       " -0.3017975475625082,\n",
       " 0.000713323115779582,\n",
       " 0.014854648910482238,\n",
       " 0.002821818293142755,\n",
       " 0.0,\n",
       " -0.0011842694978856495,\n",
       " 0.009183172992669958,\n",
       " 0.0018863504521117534,\n",
       " 2.3318950246682725e-05,\n",
       " -0.0009023024681068334,\n",
       " 0.031292266392574146,\n",
       " 0.1348875162278708,\n",
       " 0.00038679887957005914,\n",
       " 0.07222435175905256,\n",
       " 0.0,\n",
       " 0.003122799871217941,\n",
       " 0.031167247594887693,\n",
       " 0.0063367769914578,\n",
       " 0.02588968977807923,\n",
       " -0.015801917720468156,\n",
       " -0.0008077615427062319,\n",
       " -0.11836281961628053,\n",
       " 0.0009106190841230117,\n",
       " 0.0,\n",
       " 0.016943398103815926,\n",
       " 0.010429552794448745,\n",
       " 0.023930521334010777,\n",
       " 0.054967039529338825,\n",
       " -0.012719049562529103,\n",
       " 0.12205516425646531,\n",
       " 0.0016985826595621333,\n",
       " -0.08700885988400418,\n",
       " 0.0013549585767000149,\n",
       " -0.4180178906267923,\n",
       " 0.17277346003707286,\n",
       " 0.00152739941310872,\n",
       " -0.13619455051833523,\n",
       " -0.0007271783879621754,\n",
       " -0.014244251326932564,\n",
       " 6.889208533624101e-05,\n",
       " -0.19988268886362504,\n",
       " 0.036106925477959385,\n",
       " 0.0004479691203367626,\n",
       " -0.15156528666051072,\n",
       " 0.003738980494783211,\n",
       " 0.20981693442140775,\n",
       " 0.0,\n",
       " -0.008784784218244607,\n",
       " 0.0014158801896364888,\n",
       " 0.0,\n",
       " 0.0,\n",
       " 0.0,\n",
       " 1.3320213635127891e-05,\n",
       " 0.0,\n",
       " -0.04410511178637292,\n",
       " -0.12207883064481873,\n",
       " 0.0,\n",
       " -0.07234702193546391,\n",
       " 0.00012463836877786295,\n",
       " 0.04262319229064663,\n",
       " 0.009038064955155484,\n",
       " -0.12666556294619968,\n",
       " -0.024044244775182633,\n",
       " 0.007961559834748926,\n",
       " 0.000358757262178002,\n",
       " 0.060438068716758435,\n",
       " -0.08152495971787305,\n",
       " -0.17774054778251147,\n",
       " -0.04752514427555371,\n",
       " 0.03228561763687007,\n",
       " 0.0010480697076477921,\n",
       " 0.0,\n",
       " 0.0007230788083288061,\n",
       " 0.0,\n",
       " -0.013054969734306759,\n",
       " -0.05078301365214583,\n",
       " -0.08631304554512119,\n",
       " -0.47101277318846446,\n",
       " 0.0,\n",
       " 0.0,\n",
       " 0.0052748859102912235,\n",
       " 0.011858766096110723,\n",
       " 0.00039458926944446927,\n",
       " 0.010606975973486992,\n",
       " -0.025391506826072916,\n",
       " 0.0020221453881477504,\n",
       " 0.19239213630949403,\n",
       " 0.010483718974952838,\n",
       " 0.0004686044789308424,\n",
       " -0.003486698013052951,\n",
       " 9.719871187096993e-05,\n",
       " -0.04358356396374246,\n",
       " 0.000333510079147504,\n",
       " -0.02490120011989962,\n",
       " 0.08336892550697038,\n",
       " -0.08873052317291295,\n",
       " 0.005494256638424071,\n",
       " -0.14037320048911656,\n",
       " -0.06979802128345712,\n",
       " 0.005494256638424071,\n",
       " 0.006520097274232972,\n",
       " -0.15419972307645152,\n",
       " 0.06406695618764371,\n",
       " 0.0035083158845708963,\n",
       " 0.020643754730472398,\n",
       " 0.0,\n",
       " 0.1302386277691205,\n",
       " 0.0,\n",
       " 0.05331798686839802,\n",
       " 0.08241384957636234,\n",
       " 0.021977026553696283,\n",
       " 0.010988513276848142,\n",
       " 0.01648276991527209,\n",
       " 0.06593107966108835,\n",
       " 0.007294000665854389,\n",
       " 0.021977026553696283,\n",
       " -0.36571267069089075,\n",
       " 0.04418832405071174,\n",
       " 0.002943335163599431,\n",
       " 0.06593107966108835,\n",
       " 0.034765283857975206,\n",
       " 0.005494256638424071,\n",
       " 0.02747128319212008,\n",
       " 0.05494256638424016,\n",
       " 0.01648276991527209,\n",
       " 0.021977026553696283,\n",
       " 0.03296553983054418,\n",
       " 3.621928779692832e-05,\n",
       " 0.02504465310779754,\n",
       " -0.04646256929975226,\n",
       " 0.07142533629951274,\n",
       " 0.03296553983054418,\n",
       " 0.005494256638424071,\n",
       " 0.005494256638424071,\n",
       " 0.01648276991527209,\n",
       " -0.0019592988906944006,\n",
       " 0.01648276991527209,\n",
       " 0.005494256638424071,\n",
       " -0.011526410839408502,\n",
       " 0.08437125469766402,\n",
       " 0.1178287481626,\n",
       " 0.0070800439928974,\n",
       " 0.031378275358074526,\n",
       " 0.015867057734880202,\n",
       " 0.0007102111915681348,\n",
       " 0.006162484453714185,\n",
       " -0.12197526533949073,\n",
       " 0.0006010458852468088,\n",
       " 0.0780267384407243,\n",
       " -0.06260527682034972,\n",
       " 0.013276633698375772,\n",
       " 0.0006890081237898579,\n",
       " -0.06389092065467096,\n",
       " 0.0,\n",
       " 0.01591880342080008,\n",
       " 0.006608118721253236,\n",
       " -0.057649396903233605,\n",
       " 0.004002737874116595,\n",
       " 0.0011717173151482689,\n",
       " 0.0,\n",
       " 0.134957931880481,\n",
       " 0.00035680519928867315,\n",
       " 0.0350479993141538,\n",
       " 0.33755158763849097,\n",
       " 3.653233240136185e-05,\n",
       " 0.00012198093356905085,\n",
       " 0.003738980494783211,\n",
       " -0.0020425723616886594,\n",
       " 0.0009106190841230117,\n",
       " 0.0,\n",
       " 0.0832344625755004,\n",
       " -0.24392372194875295,\n",
       " 0.001125186020710834,\n",
       " 3.14780953095991e-05,\n",
       " -0.02730276333083216,\n",
       " 0.006438989634064551,\n",
       " 0.188257150650524,\n",
       " 0.0025929809716422384,\n",
       " 0.7174239360384622,\n",
       " 0.0003027525504840035,\n",
       " 0.004710160732118251,\n",
       " 0.008626845378162693,\n",
       " -0.05089879325974782,\n",
       " 0.0005253626610760421,\n",
       " -0.8062876182869735,\n",
       " 0.0,\n",
       " 0.002969236266750162,\n",
       " 9.474249914047949e-05,\n",
       " 0.0002134659101270422,\n",
       " 0.000596049972802011,\n",
       " 0.10407165100839823,\n",
       " 0.004082504282113533,\n",
       " 8.004527208487703e-05,\n",
       " 0.0004438149989112493,\n",
       " 6.445330538206796e-05,\n",
       " 0.4727333637967478,\n",
       " 0.0011883053082100377,\n",
       " 0.009179879265327656,\n",
       " -0.0060370778278738295,\n",
       " -0.00991212917169557,\n",
       " 0.0,\n",
       " 0.0021956945411366856,\n",
       " 0.006688646609730688,\n",
       " 0.2148487510420561,\n",
       " 0.29386732096080814,\n",
       " 0.0,\n",
       " -0.02679888106804669,\n",
       " 0.387657275572462,\n",
       " 0.27425408191329453,\n",
       " 0.0010631609534928132,\n",
       " 0.002954142369312747,\n",
       " 0.017752133384786668,\n",
       " 0.005494256638424071,\n",
       " 0.010988513276848142,\n",
       " -0.07565519861464468,\n",
       " -0.006428916640519431,\n",
       " -0.0032144583202597153,\n",
       " 0.03429459145313241,\n",
       " 0.0008241024475993736,\n",
       " -0.025391506826072916,\n",
       " -0.049958911204545896,\n",
       " -0.061531069503529455,\n",
       " 0.00767289729940137,\n",
       " -0.01858395791447497,\n",
       " -0.1257662581408709,\n",
       " 0.0,\n",
       " 0.1572033485266026,\n",
       " 0.02607733956868895,\n",
       " 0.000188883884795215,\n",
       " 0.0005360289120535207,\n",
       " 0.0008241024475993736,\n",
       " 0.0,\n",
       " -0.3354257184768835,\n",
       " -0.13859576558422126,\n",
       " 0.030520773920451248,\n",
       " -0.025391506826072916,\n",
       " -0.1683563960315757,\n",
       " 0.004223999484893486,\n",
       " -0.09528458334585539,\n",
       " 0.0,\n",
       " 0.0009742462937823228,\n",
       " 0.0,\n",
       " -0.001518149346928963,\n",
       " 0.16819674291037276,\n",
       " -0.025391506826072916,\n",
       " 0.010728984243959754,\n",
       " 0.41523220013920004,\n",
       " -0.010610121327551996,\n",
       " 0.0012005922691625665,\n",
       " -0.15767789332399565,\n",
       " 0.03335020137530571,\n",
       " -0.27511242814646625,\n",
       " 0.0,\n",
       " 0.03679524213099775,\n",
       " 0.01256417214078942,\n",
       " 0.17221726855927097,\n",
       " 0.07009585972073372,\n",
       " 6.036935152265962e-05,\n",
       " 0.0,\n",
       " 0.0,\n",
       " 0.0409690900671821,\n",
       " -0.07648883577354443,\n",
       " 0.004595145572332606,\n",
       " 0.005336936196604467,\n",
       " 0.0005067800056290714,\n",
       " 0.00043729021401481917,\n",
       " 0.009945574820953887,\n",
       " -0.06975614452271658,\n",
       " 0.0,\n",
       " 0.0003089325576208619,\n",
       " 0.2780892514205878,\n",
       " 0.016943398103815926,\n",
       " 0.0,\n",
       " -0.048371580403766504,\n",
       " -0.015435126717702379,\n",
       " -0.0019592988906944006,\n",
       " 0.00033004255807220255,\n",
       " -0.5572133373901798,\n",
       " 0.0,\n",
       " 0.0031204319492816675,\n",
       " 0.0,\n",
       " 0.09638167829264269,\n",
       " -0.11268333560644163,\n",
       " 0.3382765874415357,\n",
       " -0.14942280745373984,\n",
       " 0.004470203657865735,\n",
       " 0.0008996659334054999,\n",
       " 0.018481791542843636,\n",
       " 0.11117642637666576,\n",
       " 0.0,\n",
       " 0.0009537552170918802,\n",
       " 0.0015431659844100682,\n",
       " 0.1545412040784792,\n",
       " -0.027948087603427794,\n",
       " 0.00891327781112248,\n",
       " 0.003738980494783211,\n",
       " 0.06683453751356246,\n",
       " 0.0,\n",
       " 0.0,\n",
       " -0.052887439599640075,\n",
       " -0.05251934064045027,\n",
       " -0.019990890461327977,\n",
       " -0.00857759046282825,\n",
       " 0.0018301673955359796,\n",
       " 0.0565620083849001,\n",
       " 0.014155175488126124,\n",
       " 0.039309202973279674,\n",
       " 0.0003076069975961639,\n",
       " 0.023594372567677546,\n",
       " 0.0491080344228442,\n",
       " 0.0,\n",
       " -0.09626713598864335,\n",
       " -0.4496120639839645,\n",
       " 0.07361111500330601,\n",
       " -0.024147035617818134,\n",
       " 0.0,\n",
       " -0.18870328252370175,\n",
       " -0.008443473300488655,\n",
       " 0.0018187215998304756,\n",
       " -0.009416594582595583,\n",
       " -0.025391506826072916,\n",
       " -0.025391506826072916,\n",
       " -0.0015157532743769542,\n",
       " 0.0,\n",
       " -0.03256131398215648,\n",
       " -0.001518149346928963,\n",
       " 0.03379953290368393,\n",
       " -0.0022038314453731956,\n",
       " 0.0,\n",
       " 0.07292157573164165,\n",
       " 0.0,\n",
       " 0.18869205678805862,\n",
       " 0.06647782364833507,\n",
       " 0.0018240762907839128,\n",
       " 0.04282411037605364,\n",
       " 0.011757726739872094,\n",
       " 0.8435668253881928,\n",
       " 0.000115288126369637,\n",
       " 0.08529861605017251,\n",
       " 9.222903065910712e-05,\n",
       " -0.15752068213989198,\n",
       " 0.0,\n",
       " 0.07521067952110595,\n",
       " -0.003486698013052951,\n",
       " -0.0015944943145958827,\n",
       " 0.05684242412037623,\n",
       " 0.15575147422822888,\n",
       " 0.00014444555045770786,\n",
       " 0.02798813406533505,\n",
       " 0.06173170362776886,\n",
       " -0.08912208953514371,\n",
       " 0.0016145496136502813,\n",
       " 0.01187367849427291,\n",
       " 0.00014444555045770786,\n",
       " 0.01025289583469191,\n",
       " -0.0615402303745015,\n",
       " 0.00014444555045770786,\n",
       " 0.00013185460957231324,\n",
       " 0.0001361925967016786,\n",
       " 0.0001361925967016786,\n",
       " 0.08786998443689786,\n",
       " -0.0389912746283428,\n",
       " 0.0,\n",
       " 0.004329799122886025,\n",
       " 0.048961802660375635,\n",
       " 0.0,\n",
       " 0.12468023327089772,\n",
       " 0.0002807180217389475,\n",
       " 4.751218645525515e-05,\n",
       " -0.16806522395940499,\n",
       " 0.0,\n",
       " 1.0500892608372686e-05,\n",
       " 0.005368350302022689,\n",
       " -0.048050529362352074,\n",
       " 0.0003055832154622921,\n",
       " 0.0001740317516237855,\n",
       " 0.001088439646644174,\n",
       " 0.09030896380075652,\n",
       " 0.01725475009249814,\n",
       " 0.01265789489277386,\n",
       " -0.0062401397934457896,\n",
       " 0.01743288193611726,\n",
       " 0.0006155877232496573,\n",
       " 0.003379891012185614,\n",
       " 0.00014212232983168332,\n",
       " 0.0,\n",
       " 0.011185489900761045,\n",
       " -0.014396490624197301,\n",
       " 0.0,\n",
       " -0.08001576643719942,\n",
       " 0.027293554967496362,\n",
       " 0.04845162768320846,\n",
       " -0.040285396532320536,\n",
       " 0.12337524938784872,\n",
       " 5.7923485622390324e-05,\n",
       " -0.21093341756489659,\n",
       " -0.05443506582818954,\n",
       " 0.002029034320912017,\n",
       " -0.05443506582818954,\n",
       " -0.060028998102056016,\n",
       " 0.0,\n",
       " 0.0,\n",
       " -0.08001576643719942,\n",
       " 0.0,\n",
       " 0.003965178436154721,\n",
       " 3.4445913191979256e-05,\n",
       " 0.0,\n",
       " 0.017565463497192232,\n",
       " -0.13528014742090486,\n",
       " 0.008570044010989031,\n",
       " -0.004428848198887232,\n",
       " 0.08176639045102241,\n",
       " 0.003355854296098602,\n",
       " 0.06964175509467865,\n",
       " 0.14226630070442373,\n",
       " 0.003595462934339845,\n",
       " 0.0,\n",
       " 0.07292157573164165,\n",
       " 0.0002859165867941068,\n",
       " 0.0,\n",
       " 0.0,\n",
       " 0.0008251637894656576,\n",
       " 0.01591880342080008,\n",
       " 0.01564008552775047,\n",
       " 0.08025597957262774,\n",
       " 0.0005373398896191474,\n",
       " 0.0007622682035738407,\n",
       " -0.1259434195370554,\n",
       " 0.0,\n",
       " 0.0020501487800285295,\n",
       " -0.34329284371256735,\n",
       " 0.02972058234667721,\n",
       " 0.002981731715113781,\n",
       " 0.00038432988738897305,\n",
       " 0.0003483106008534921,\n",
       " 0.0010347257802279194,\n",
       " 0.007100483814731417,\n",
       " -0.04081619617414347,\n",
       " 0.21041493421932225,\n",
       " 0.0,\n",
       " -0.37574237447250175,\n",
       " 0.07631109881987683,\n",
       " -0.14688790535842214,\n",
       " 0.0,\n",
       " 0.0,\n",
       " 0.1579931265642801,\n",
       " 0.0016202051624037946,\n",
       " 0.038141295775155334,\n",
       " 0.04273192054296701,\n",
       " 0.00014244218370840586,\n",
       " -0.16785274354326518,\n",
       " 0.0022900521816808764,\n",
       " -0.09804857736314722,\n",
       " 0.00013275246428500118,\n",
       " 0.1151756728263335,\n",
       " 0.00758363908222931,\n",
       " 0.006790476991750934,\n",
       " -0.06505668038820024,\n",
       " 6.889182638395851e-05,\n",
       " 0.0017375420305807746,\n",
       " 0.013456618269900156,\n",
       " 0.0,\n",
       " -0.04480757699488545,\n",
       " 0.0,\n",
       " -0.0006393323062897991,\n",
       " 0.07291227285959029,\n",
       " 0.00014658475168216698,\n",
       " 0.0010652509999808052,\n",
       " 0.0008168989902164586,\n",
       " 0.0010027539032916144,\n",
       " -0.005824037102530587,\n",
       " 0.05091736035425281,\n",
       " 0.03621801363672548,\n",
       " -0.00991212917169557,\n",
       " 0.04532737486487511,\n",
       " -0.006238734329322138,\n",
       " -0.017998309760398817,\n",
       " 0.007744881502877904,\n",
       " 0.002472522783146692,\n",
       " -0.33802442588787873,\n",
       " 0.6408975086937525,\n",
       " -0.18623674328041206,\n",
       " 0.09004556071027817,\n",
       " 0.17214250210051568,\n",
       " 0.002704747593947765,\n",
       " 0.0004660932737467356,\n",
       " 0.00013488185742722714,\n",
       " 0.00037311071773657017,\n",
       " 0.0,\n",
       " 0.001432928940337535,\n",
       " -0.013628602773513965,\n",
       " -0.013628602773513965,\n",
       " -0.2960594530264924,\n",
       " 0.00018420046698956267,\n",
       " 0.0005403456196111296,\n",
       " 9.980237073741058e-05,\n",
       " 0.006031876632402367,\n",
       " 0.15478341860065492,\n",
       " 0.016146979368977306,\n",
       " 0.02270788493146474,\n",
       " 0.038470007097807374,\n",
       " 0.0,\n",
       " 0.11398200599926363,\n",
       " -0.0829243571747921,\n",
       " 0.0,\n",
       " -0.18598775245358173,\n",
       " 0.005490714338283773,\n",
       " 0.0,\n",
       " 0.007194136728579828,\n",
       " 0.0005004209266089919,\n",
       " 0.0010008418532179838,\n",
       " 0.0005004209266089919,\n",
       " 0.0,\n",
       " 0.0009432862061274724,\n",
       " 5.439528368167303e-05,\n",
       " 0.0003070910324795241,\n",
       " 0.030548840493834255,\n",
       " 0.06181442478684893,\n",
       " -0.19549295150839063,\n",
       " 0.010728984243959754,\n",
       " 5.19479446566755e-05,\n",
       " -0.12047424241383933,\n",
       " -0.12047424241383933,\n",
       " 0.0012148861730627153,\n",
       " 0.0,\n",
       " 0.00043477545749530253,\n",
       " 0.0005014977532416154,\n",
       " 0.00853722896795192,\n",
       " -0.0180838290560232,\n",
       " -0.046320731890630705,\n",
       " 0.0008272965965913234,\n",
       " 0.0003740870295616547,\n",
       " 0.004476617002538241,\n",
       " -0.013224737663258474,\n",
       " -0.0043382598670294896,\n",
       " -0.00038723301668490195,\n",
       " 0.12748461608419884,\n",
       " 4.746244407376142e-05,\n",
       " -0.17205712736340692,\n",
       " 4.343908515888238e-05,\n",
       " 0.004556855329752095,\n",
       " 0.031488920780268374,\n",
       " -0.035606225686966836,\n",
       " 0.0,\n",
       " -0.01130170389006144,\n",
       " 3.4370411654455372e-06,\n",
       " 0.010217342185388013,\n",
       " 0.010217342185388013,\n",
       " 0.0006608780178635405,\n",
       " 2.8179382896272664e-05,\n",
       " -0.6912970871449929,\n",
       " 0.1744713479464135,\n",
       " 0.0045992031893633475,\n",
       " ...]"
      ]
     },
     "metadata": {},
     "execution_count": 30
    }
   ],
   "source": [
    "coef = ml.coef_.tolist()[0]\n",
    "coef"
   ]
  },
  {
   "cell_type": "code",
   "execution_count": 31,
   "metadata": {},
   "outputs": [
    {
     "output_type": "execute_result",
     "data": {
      "text/plain": [
       "          Word  Coefficient\n",
       "0           00    -0.265940\n",
       "1          000    -0.027381\n",
       "2         0000     0.476623\n",
       "3       000001    -0.002006\n",
       "4        00001     0.001608\n",
       "...        ...          ...\n",
       "114964  çaykur     0.000850\n",
       "114965   çelem    -0.136219\n",
       "114966    être     0.015992\n",
       "114967     île     0.011135\n",
       "114968      ît     0.000000\n",
       "\n",
       "[114969 rows x 2 columns]"
      ],
      "text/html": "<div>\n<style scoped>\n    .dataframe tbody tr th:only-of-type {\n        vertical-align: middle;\n    }\n\n    .dataframe tbody tr th {\n        vertical-align: top;\n    }\n\n    .dataframe thead th {\n        text-align: right;\n    }\n</style>\n<table border=\"1\" class=\"dataframe\">\n  <thead>\n    <tr style=\"text-align: right;\">\n      <th></th>\n      <th>Word</th>\n      <th>Coefficient</th>\n    </tr>\n  </thead>\n  <tbody>\n    <tr>\n      <th>0</th>\n      <td>00</td>\n      <td>-0.265940</td>\n    </tr>\n    <tr>\n      <th>1</th>\n      <td>000</td>\n      <td>-0.027381</td>\n    </tr>\n    <tr>\n      <th>2</th>\n      <td>0000</td>\n      <td>0.476623</td>\n    </tr>\n    <tr>\n      <th>3</th>\n      <td>000001</td>\n      <td>-0.002006</td>\n    </tr>\n    <tr>\n      <th>4</th>\n      <td>00001</td>\n      <td>0.001608</td>\n    </tr>\n    <tr>\n      <th>...</th>\n      <td>...</td>\n      <td>...</td>\n    </tr>\n    <tr>\n      <th>114964</th>\n      <td>çaykur</td>\n      <td>0.000850</td>\n    </tr>\n    <tr>\n      <th>114965</th>\n      <td>çelem</td>\n      <td>-0.136219</td>\n    </tr>\n    <tr>\n      <th>114966</th>\n      <td>être</td>\n      <td>0.015992</td>\n    </tr>\n    <tr>\n      <th>114967</th>\n      <td>île</td>\n      <td>0.011135</td>\n    </tr>\n    <tr>\n      <th>114968</th>\n      <td>ît</td>\n      <td>0.000000</td>\n    </tr>\n  </tbody>\n</table>\n<p>114969 rows × 2 columns</p>\n</div>"
     },
     "metadata": {},
     "execution_count": 31
    }
   ],
   "source": [
    "coeff_df = pd.DataFrame({'Word' : w, 'Coefficient' : coef})\n",
    "coeff_df\n",
    "# Genero un dataframe con las palabras (features names) y los coeficientes (que peso tienen en la predicción del modelo)"
   ]
  },
  {
   "cell_type": "code",
   "execution_count": 32,
   "metadata": {},
   "outputs": [
    {
     "output_type": "execute_result",
     "data": {
      "text/plain": [
       "                 Word  Coefficient\n",
       "80600      pleasantly     3.951034\n",
       "39072        downside     3.599574\n",
       "5865        addicting     2.890581\n",
       "94667       skeptical     2.807151\n",
       "39214        drawback     2.653132\n",
       "...               ...          ...\n",
       "106852   unacceptable    -3.028112\n",
       "37560   disappointing    -3.041132\n",
       "67898        mediocre    -3.288041\n",
       "34989       deceptive    -3.493789\n",
       "107383    undrinkable    -3.649807\n",
       "\n",
       "[114969 rows x 2 columns]"
      ],
      "text/html": "<div>\n<style scoped>\n    .dataframe tbody tr th:only-of-type {\n        vertical-align: middle;\n    }\n\n    .dataframe tbody tr th {\n        vertical-align: top;\n    }\n\n    .dataframe thead th {\n        text-align: right;\n    }\n</style>\n<table border=\"1\" class=\"dataframe\">\n  <thead>\n    <tr style=\"text-align: right;\">\n      <th></th>\n      <th>Word</th>\n      <th>Coefficient</th>\n    </tr>\n  </thead>\n  <tbody>\n    <tr>\n      <th>80600</th>\n      <td>pleasantly</td>\n      <td>3.951034</td>\n    </tr>\n    <tr>\n      <th>39072</th>\n      <td>downside</td>\n      <td>3.599574</td>\n    </tr>\n    <tr>\n      <th>5865</th>\n      <td>addicting</td>\n      <td>2.890581</td>\n    </tr>\n    <tr>\n      <th>94667</th>\n      <td>skeptical</td>\n      <td>2.807151</td>\n    </tr>\n    <tr>\n      <th>39214</th>\n      <td>drawback</td>\n      <td>2.653132</td>\n    </tr>\n    <tr>\n      <th>...</th>\n      <td>...</td>\n      <td>...</td>\n    </tr>\n    <tr>\n      <th>106852</th>\n      <td>unacceptable</td>\n      <td>-3.028112</td>\n    </tr>\n    <tr>\n      <th>37560</th>\n      <td>disappointing</td>\n      <td>-3.041132</td>\n    </tr>\n    <tr>\n      <th>67898</th>\n      <td>mediocre</td>\n      <td>-3.288041</td>\n    </tr>\n    <tr>\n      <th>34989</th>\n      <td>deceptive</td>\n      <td>-3.493789</td>\n    </tr>\n    <tr>\n      <th>107383</th>\n      <td>undrinkable</td>\n      <td>-3.649807</td>\n    </tr>\n  </tbody>\n</table>\n<p>114969 rows × 2 columns</p>\n</div>"
     },
     "metadata": {},
     "execution_count": 32
    }
   ],
   "source": [
    "coeff_df = coeff_df.sort_values(['Coefficient', 'Word'],ascending=False)\n",
    "coeff_df"
   ]
  },
  {
   "cell_type": "code",
   "execution_count": 33,
   "metadata": {},
   "outputs": [
    {
     "output_type": "stream",
     "name": "stdout",
     "text": [
      "-Top 20 positive-\n      Word  Coefficient\npleasantly     3.951034\n  downside     3.599574\n addicting     2.890581\n skeptical     2.807151\n  drawback     2.653132\n   worries     2.501799\n    hooked     2.357899\n    solved     2.296694\neconomical     2.221210\n    delish     2.204167\n    resist     2.159025\n  thankful     2.150864\n   trainer     2.060547\n  terrific     2.058773\n excellent     2.052602\n delighted     2.044400\n  grateful     2.013335\n       met     1.981523\n  tastiest     1.980329\n   welcome     1.953854\n\n\n-Top 20 negative-\n          Word  Coefficient\n      terrible    -2.330232\n    overpowers    -2.373950\n         blech    -2.412150\n       vomited    -2.456017\n       allegro    -2.465789\n         lousy    -2.520816\ndisappointment    -2.570077\n       defeats    -2.594212\n   embarrassed    -2.615286\n   disapointed    -2.642945\n        lacked    -2.745877\n     cancelled    -2.759592\n        ripoff    -2.891519\n    returnable    -2.988118\n         worst    -3.005039\n  unacceptable    -3.028112\n disappointing    -3.041132\n      mediocre    -3.288041\n     deceptive    -3.493789\n   undrinkable    -3.649807\n"
     ]
    }
   ],
   "source": [
    "print('-Top 20 positive-')\n",
    "print(coeff_df.head(20).to_string(index=False))\n",
    "print('\\n')\n",
    "print('-Top 20 negative-')        \n",
    "print(coeff_df.tail(20).to_string(index=False))\n",
    "\n",
    "## Genero el ranking de las palabras más positivas y las más negativas, de acuerdo al peso que tienen en el modelo predictivo."
   ]
  },
  {
   "cell_type": "markdown",
   "metadata": {},
   "source": [
    "#### lets try to create a function so that I can apply mutliple NLP Techniques + Multiple Ml algos in such a way that I will acheive my best accuracy"
   ]
  },
  {
   "cell_type": "code",
   "execution_count": 34,
   "metadata": {},
   "outputs": [],
   "source": [
    "### create a function \n",
    "\n",
    "def text_fit(X, y, nlp_model,ml_model,coef_show=1):\n",
    "    \n",
    "    X_c = nlp_model.fit_transform(X)\n",
    "    print('features: {}'.format(X_c.shape[1]))\n",
    "    X_train, X_test, y_train, y_test = train_test_split(X_c, y)\n",
    "    print(' train records: {}'.format(X_train.shape[0]))\n",
    "    print(' test records: {}'.format(X_test.shape[0]))\n",
    "    ml =ml_model.fit(X_train, y_train)\n",
    "    acc = ml.score(X_test, y_test)\n",
    "    print ('Model Accuracy: {}'.format(acc))\n",
    "    \n",
    "    if coef_show == 1: \n",
    "        w = nlp_model.get_feature_names()\n",
    "        coef = ml.coef_.tolist()[0]\n",
    "        coeff_df = pd.DataFrame({'Word' : w, 'Coefficient' : coef})\n",
    "        coeff_df = coeff_df.sort_values(['Coefficient', 'Word'], ascending=[0, 1])\n",
    "        print('\\n')\n",
    "        print('-Top 20 positive-')\n",
    "        print(coeff_df.head(20).to_string(index=False))\n",
    "        print('\\n')\n",
    "        print('-Top 20 negative-')        \n",
    "        print(coeff_df.tail(20).to_string(index=False))\n",
    "    \n",
    "    \n"
   ]
  },
  {
   "cell_type": "code",
   "execution_count": 35,
   "metadata": {},
   "outputs": [],
   "source": [
    "from sklearn.feature_extraction.text import CountVectorizer\n",
    "c = CountVectorizer(stop_words = 'english')\n",
    "from sklearn.linear_model import LogisticRegression"
   ]
  },
  {
   "cell_type": "code",
   "execution_count": 36,
   "metadata": {},
   "outputs": [
    {
     "output_type": "stream",
     "name": "stdout",
     "text": [
      "features: 114969\n",
      " train records: 394360\n",
      " test records: 131454\n",
      "Model Accuracy: 0.9364872883289972\n",
      "\n",
      "\n",
      "-Top 20 positive-\n",
      "      Word  Coefficient\n",
      "pleasantly     3.472257\n",
      "  downside     3.139731\n",
      " skeptical     2.865491\n",
      " addicting     2.833304\n",
      "    resist     2.227641\n",
      "  drawback     2.190604\n",
      "  soothing     2.174475\n",
      "    delish     2.115416\n",
      "   worries     2.102333\n",
      "   trainer     2.018412\n",
      "   welcome     1.967572\n",
      "economical     1.964617\n",
      "       fav     1.949673\n",
      " excellent     1.937458\n",
      "  tastiest     1.897142\n",
      "  delivers     1.881124\n",
      "    hooked     1.857826\n",
      " amazingly     1.855894\n",
      "      whim     1.853668\n",
      "   easiest     1.844185\n",
      "\n",
      "\n",
      "-Top 20 negative-\n",
      "          Word  Coefficient\n",
      "        ruined    -2.187397\n",
      "   unappealing    -2.212698\n",
      "           ick    -2.223577\n",
      "     cancelled    -2.264484\n",
      "       defeats    -2.324817\n",
      "disappointment    -2.347836\n",
      "        ripoff    -2.402323\n",
      "    overpowers    -2.408898\n",
      "        bummer    -2.410162\n",
      "      mediocre    -2.412512\n",
      "   embarrassed    -2.434452\n",
      "         lousy    -2.570210\n",
      "        lacked    -2.586210\n",
      "    returnable    -2.614178\n",
      "   disapointed    -2.786822\n",
      " disappointing    -2.958671\n",
      "  unacceptable    -2.960806\n",
      "         worst    -3.081792\n",
      "   undrinkable    -3.097956\n",
      "     deceptive    -3.453159\n"
     ]
    }
   ],
   "source": [
    "\n",
    "text_fit(X, y, c, LogisticRegression())"
   ]
  },
  {
   "cell_type": "code",
   "execution_count": null,
   "metadata": {},
   "outputs": [],
   "source": []
  },
  {
   "cell_type": "markdown",
   "metadata": {},
   "source": [
    "### Lets define a predict function"
   ]
  },
  {
   "cell_type": "code",
   "execution_count": 37,
   "metadata": {},
   "outputs": [],
   "source": [
    "from sklearn.metrics import confusion_matrix,accuracy_score\n",
    "def predict(X, y, nlp_model,ml_model):\n",
    "    \n",
    "    X_c = nlp_model.fit_transform(X)\n",
    "    print('features: {}'.format(X_c.shape[1]))\n",
    "    X_train, X_test, y_train, y_test = train_test_split(X_c, y)\n",
    "    print(' train records: {}'.format(X_train.shape[0]))\n",
    "    print(' test records: {}'.format(X_test.shape[0]))\n",
    "    ml =ml_model.fit(X_train, y_train)\n",
    "    predictions=ml.predict(X_test)\n",
    "    cm=confusion_matrix(predictions,y_test)\n",
    "    print(cm)\n",
    "    acc=accuracy_score(predictions,y_test)\n",
    "    print(acc)"
   ]
  },
  {
   "cell_type": "code",
   "execution_count": 38,
   "metadata": {},
   "outputs": [],
   "source": [
    "from sklearn.feature_extraction.text import CountVectorizer\n",
    "c = CountVectorizer(stop_words = 'english')\n",
    "from sklearn.linear_model import LogisticRegression\n",
    "lr=LogisticRegression()"
   ]
  },
  {
   "cell_type": "code",
   "execution_count": 39,
   "metadata": {},
   "outputs": [
    {
     "output_type": "stream",
     "name": "stdout",
     "text": [
      "features: 114969\n",
      " train records: 394360\n",
      " test records: 131454\n",
      "[[ 14896   2757]\n",
      " [  5438 108363]]\n",
      "0.9376588007972371\n"
     ]
    }
   ],
   "source": [
    "\n",
    "predict(X,y,c,lr)"
   ]
  },
  {
   "cell_type": "code",
   "execution_count": null,
   "metadata": {},
   "outputs": [],
   "source": []
  },
  {
   "cell_type": "markdown",
   "metadata": {},
   "source": [
    "#### Accuracy is around 93.9% - not bad. However we notice that some of those significant coefficients are not meaningful, e.g. 280mg."
   ]
  },
  {
   "cell_type": "code",
   "execution_count": 40,
   "metadata": {},
   "outputs": [],
   "source": [
    "from sklearn.dummy import DummyClassifier"
   ]
  },
  {
   "cell_type": "code",
   "execution_count": 41,
   "metadata": {},
   "outputs": [
    {
     "output_type": "stream",
     "name": "stdout",
     "text": [
      "features: 114969\n",
      " train records: 394360\n",
      " test records: 131454\n",
      "Model Accuracy: 0.8453071036256029\n"
     ]
    }
   ],
   "source": [
    "### calling function for dummy classifier \n",
    "text_fit(X, y, c, DummyClassifier(),0)"
   ]
  },
  {
   "cell_type": "code",
   "execution_count": null,
   "metadata": {},
   "outputs": [],
   "source": []
  },
  {
   "cell_type": "markdown",
   "metadata": {},
   "source": [
    "#### Logistic regression model on TFIDF"
   ]
  },
  {
   "cell_type": "code",
   "execution_count": 42,
   "metadata": {},
   "outputs": [
    {
     "output_type": "stream",
     "name": "stdout",
     "text": [
      "features: 114969\n",
      " train records: 394360\n",
      " test records: 131454\n",
      "Model Accuracy: 0.9334824349202002\n",
      "\n",
      "\n",
      "-Top 20 positive-\n",
      "      Word  Coefficient\n",
      "     great    13.731752\n",
      " delicious    12.460512\n",
      "      best    12.127718\n",
      "   perfect    10.671295\n",
      "     loves     9.470682\n",
      " excellent     9.272611\n",
      "      love     8.920465\n",
      "    highly     8.709777\n",
      "   amazing     7.971837\n",
      "    hooked     7.891480\n",
      " wonderful     7.889949\n",
      "   awesome     7.640833\n",
      "      good     7.450188\n",
      "      nice     7.447136\n",
      "  favorite     7.149632\n",
      "pleasantly     7.130983\n",
      "     yummy     6.875855\n",
      "   pleased     6.755215\n",
      " fantastic     6.725421\n",
      "      glad     6.643615\n",
      "\n",
      "\n",
      "-Top 20 negative-\n",
      "          Word  Coefficient\n",
      "    flavorless    -5.847833\n",
      "        ruined    -5.932118\n",
      "         stale    -5.994924\n",
      "         worse    -6.113802\n",
      "          yuck    -6.377176\n",
      "     tasteless    -6.429063\n",
      "        return    -6.508765\n",
      "   undrinkable    -6.580529\n",
      "         bland    -6.591529\n",
      "    disgusting    -6.616197\n",
      "         threw    -6.696446\n",
      "          weak    -7.091311\n",
      " unfortunately    -7.577009\n",
      "      horrible    -7.806593\n",
      "  disappointed    -8.358782\n",
      "disappointment    -8.739328\n",
      "         awful    -8.915987\n",
      "      terrible    -9.298954\n",
      " disappointing    -9.744536\n",
      "         worst   -11.750849\n"
     ]
    }
   ],
   "source": [
    "from sklearn.feature_extraction.text import TfidfVectorizer\n",
    "tfidf = TfidfVectorizer(stop_words = 'english')\n",
    "text_fit(X, y, tfidf, LogisticRegression())"
   ]
  },
  {
   "cell_type": "code",
   "execution_count": 43,
   "metadata": {},
   "outputs": [
    {
     "output_type": "stream",
     "name": "stdout",
     "text": [
      "features: 114969\n",
      " train records: 394360\n",
      " test records: 131454\n",
      "[[ 14265   2246]\n",
      " [  6377 108566]]\n",
      "0.9344029090023886\n"
     ]
    }
   ],
   "source": [
    "\n",
    "from sklearn.feature_extraction.text import TfidfVectorizer\n",
    "tfidf = TfidfVectorizer(stop_words = 'english')\n",
    "predict(X, y, tfidf, LogisticRegression())"
   ]
  },
  {
   "cell_type": "raw",
   "metadata": {},
   "source": [
    "Accurany is roughly the same - 93.5%. However we notice that the significant words make much more sense now, with higher coefficient magnitude as well!"
   ]
  },
  {
   "cell_type": "code",
   "execution_count": null,
   "metadata": {},
   "outputs": [],
   "source": []
  },
  {
   "cell_type": "code",
   "execution_count": null,
   "metadata": {},
   "outputs": [],
   "source": []
  },
  {
   "cell_type": "code",
   "execution_count": null,
   "metadata": {},
   "outputs": [],
   "source": []
  },
  {
   "cell_type": "markdown",
   "metadata": {},
   "source": [
    "#### Upvote prediction"
   ]
  },
  {
   "cell_type": "markdown",
   "metadata": {},
   "source": [
    "    We will be focusing on score 5 reviews, and get rid of comments with neutral votes"
   ]
  },
  {
   "cell_type": "code",
   "execution_count": 44,
   "metadata": {},
   "outputs": [],
   "source": [
    "data = df[df['Score'] == 5]\n"
   ]
  },
  {
   "cell_type": "code",
   "execution_count": 45,
   "metadata": {},
   "outputs": [
    {
     "output_type": "execute_result",
     "data": {
      "text/plain": [
       "Index(['Id', 'ProductId', 'UserId', 'ProfileName', 'HelpfulnessNumerator',\n",
       "       'HelpfulnessDenominator', 'Score', 'Time', 'Summary', 'Text',\n",
       "       'Helpful %', '%upvote'],\n",
       "      dtype='object')"
      ]
     },
     "metadata": {},
     "execution_count": 45
    }
   ],
   "source": [
    "data.columns"
   ]
  },
  {
   "cell_type": "code",
   "execution_count": 46,
   "metadata": {},
   "outputs": [
    {
     "output_type": "execute_result",
     "data": {
      "text/plain": [
       "(154428, 12)"
      ]
     },
     "metadata": {},
     "execution_count": 46
    }
   ],
   "source": [
    "data2 = data[data['%upvote'].isin(['0-20%', '20-40%', '60-80%', '80-100%'])]\n",
    "data2.shape"
   ]
  },
  {
   "cell_type": "code",
   "execution_count": 47,
   "metadata": {},
   "outputs": [],
   "source": [
    "X = data2['Text']"
   ]
  },
  {
   "cell_type": "code",
   "execution_count": 48,
   "metadata": {},
   "outputs": [],
   "source": [
    "y_dict = {'0-20%': 0, '20-40%': 0, '60-80%': 1, '80-100%': 1}\n",
    "y = data2['%upvote'].map(y_dict)"
   ]
  },
  {
   "cell_type": "code",
   "execution_count": 49,
   "metadata": {},
   "outputs": [
    {
     "output_type": "stream",
     "name": "stdout",
     "text": [
      "1.0    151721\n0.0      2707\nName: %upvote, dtype: int64\n"
     ]
    }
   ],
   "source": [
    "print(y.value_counts())"
   ]
  },
  {
   "cell_type": "markdown",
   "metadata": {},
   "source": [
    "#### The target class 'y' is highly skewed , we will observe positive upvotes are too much higher than negative ones.\n",
    "    Let's resample the data to get balanced data:"
   ]
  },
  {
   "cell_type": "code",
   "execution_count": null,
   "metadata": {},
   "outputs": [],
   "source": []
  },
  {
   "cell_type": "code",
   "execution_count": 50,
   "metadata": {},
   "outputs": [],
   "source": [
    "from sklearn.feature_extraction.text import TfidfVectorizer"
   ]
  },
  {
   "cell_type": "code",
   "execution_count": 51,
   "metadata": {},
   "outputs": [],
   "source": [
    "tf=TfidfVectorizer()"
   ]
  },
  {
   "cell_type": "code",
   "execution_count": 52,
   "metadata": {},
   "outputs": [],
   "source": [
    "X_c=tf.fit_transform(X)"
   ]
  },
  {
   "cell_type": "code",
   "execution_count": 53,
   "metadata": {},
   "outputs": [],
   "source": [
    "from sklearn.model_selection import train_test_split\n",
    "X_train,X_test,y_train,y_test=train_test_split(X_c,y,train_size=0.7)"
   ]
  },
  {
   "cell_type": "code",
   "execution_count": 54,
   "metadata": {},
   "outputs": [
    {
     "output_type": "execute_result",
     "data": {
      "text/plain": [
       "1.0    45519\n",
       "0.0      810\n",
       "Name: %upvote, dtype: int64"
      ]
     },
     "metadata": {},
     "execution_count": 54
    }
   ],
   "source": [
    "y_test.value_counts()"
   ]
  },
  {
   "cell_type": "code",
   "execution_count": 36,
   "metadata": {},
   "outputs": [
    {
     "name": "stderr",
     "output_type": "stream",
     "text": [
      "Using TensorFlow backend.\n"
     ]
    }
   ],
   "source": [
    "## RandomOverSampler to handle imbalanced data\n",
    "# Hay que instalar Tensorflow\n",
    "\n",
    "from imblearn.over_sampling import RandomOverSampler"
   ]
  },
  {
   "cell_type": "code",
   "execution_count": 44,
   "metadata": {},
   "outputs": [],
   "source": [
    "os =  RandomOverSampler()"
   ]
  },
  {
   "cell_type": "code",
   "execution_count": 45,
   "metadata": {},
   "outputs": [],
   "source": [
    "X_train_res, y_train_res = os.fit_sample(X_c, y)"
   ]
  },
  {
   "cell_type": "code",
   "execution_count": 46,
   "metadata": {},
   "outputs": [
    {
     "data": {
      "text/plain": [
       "((303442, 67507), (303442,))"
      ]
     },
     "execution_count": 46,
     "metadata": {},
     "output_type": "execute_result"
    }
   ],
   "source": [
    "X_train_res.shape,y_train_res.shape"
   ]
  },
  {
   "cell_type": "code",
   "execution_count": 55,
   "metadata": {},
   "outputs": [],
   "source": [
    "from collections import Counter"
   ]
  },
  {
   "cell_type": "code",
   "execution_count": 56,
   "metadata": {},
   "outputs": [
    {
     "name": "stdout",
     "output_type": "stream",
     "text": [
      "Original dataset shape Counter({1.0: 151721, 0.0: 2707})\n",
      "Resampled dataset shape Counter({1.0: 151721, 0.0: 151721})\n"
     ]
    }
   ],
   "source": [
    "print('Original dataset shape {}'.format(Counter(y)))\n",
    "print('Resampled dataset shape {}'.format(Counter(y_train_res)))"
   ]
  },
  {
   "cell_type": "code",
   "execution_count": 58,
   "metadata": {},
   "outputs": [],
   "source": [
    "from sklearn.linear_model import LogisticRegression"
   ]
  },
  {
   "cell_type": "code",
   "execution_count": 59,
   "metadata": {},
   "outputs": [],
   "source": [
    "log_class=LogisticRegression()"
   ]
  },
  {
   "cell_type": "code",
   "execution_count": 60,
   "metadata": {},
   "outputs": [],
   "source": [
    "grid={'C':10.0 **np.arange(-2,3),'penalty':['l1','l2']}"
   ]
  },
  {
   "cell_type": "code",
   "execution_count": 62,
   "metadata": {},
   "outputs": [],
   "source": [
    "import numpy as np\n",
    "from sklearn.model_selection import GridSearchCV"
   ]
  },
  {
   "cell_type": "code",
   "execution_count": 63,
   "metadata": {},
   "outputs": [
    {
     "data": {
      "text/plain": [
       "GridSearchCV(cv=5, error_score=nan,\n",
       "             estimator=LogisticRegression(C=1.0, class_weight=None, dual=False,\n",
       "                                          fit_intercept=True,\n",
       "                                          intercept_scaling=1, l1_ratio=None,\n",
       "                                          max_iter=100, multi_class='auto',\n",
       "                                          n_jobs=None, penalty='l2',\n",
       "                                          random_state=None, solver='lbfgs',\n",
       "                                          tol=0.0001, verbose=0,\n",
       "                                          warm_start=False),\n",
       "             iid='deprecated', n_jobs=-1,\n",
       "             param_grid={'C': array([1.e-02, 1.e-01, 1.e+00, 1.e+01, 1.e+02]),\n",
       "                         'penalty': ['l1', 'l2']},\n",
       "             pre_dispatch='2*n_jobs', refit=True, return_train_score=False,\n",
       "             scoring='f1_macro', verbose=0)"
      ]
     },
     "execution_count": 63,
     "metadata": {},
     "output_type": "execute_result"
    }
   ],
   "source": [
    "\n",
    "clf=GridSearchCV(estimator=log_class,param_grid=grid,cv=5,n_jobs=-1,scoring='f1_macro')\n",
    "clf.fit(X_train_res,y_train_res)"
   ]
  },
  {
   "cell_type": "code",
   "execution_count": 64,
   "metadata": {},
   "outputs": [
    {
     "name": "stdout",
     "output_type": "stream",
     "text": [
      "[[  818     0]\n",
      " [  699 44812]]\n",
      "0.9849122579809623\n"
     ]
    }
   ],
   "source": [
    "y_pred=clf.predict(X_test)\n",
    "print(confusion_matrix(y_test,y_pred))\n",
    "print(accuracy_score(y_test,y_pred))"
   ]
  },
  {
   "cell_type": "code",
   "execution_count": null,
   "metadata": {},
   "outputs": [],
   "source": []
  },
  {
   "cell_type": "code",
   "execution_count": null,
   "metadata": {},
   "outputs": [],
   "source": []
  },
  {
   "cell_type": "code",
   "execution_count": null,
   "metadata": {},
   "outputs": [],
   "source": []
  },
  {
   "cell_type": "code",
   "execution_count": null,
   "metadata": {},
   "outputs": [],
   "source": []
  },
  {
   "cell_type": "code",
   "execution_count": null,
   "metadata": {},
   "outputs": [],
   "source": []
  },
  {
   "cell_type": "code",
   "execution_count": null,
   "metadata": {},
   "outputs": [],
   "source": []
  }
 ],
 "metadata": {
  "kernelspec": {
   "name": "python3",
   "display_name": "Python 3.9.2 64-bit ('datascience': conda)"
  },
  "language_info": {
   "codemirror_mode": {
    "name": "ipython",
    "version": 3
   },
   "file_extension": ".py",
   "mimetype": "text/x-python",
   "name": "python",
   "nbconvert_exporter": "python",
   "pygments_lexer": "ipython3",
   "version": "3.9.2"
  },
  "interpreter": {
   "hash": "0203ce932b82df361a6537f6b9d6c83228c5589bba05a3846f8cd37f8f1abc28"
  }
 },
 "nbformat": 4,
 "nbformat_minor": 2
}